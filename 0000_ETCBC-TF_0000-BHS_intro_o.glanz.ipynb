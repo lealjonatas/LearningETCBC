{
 "cells": [
  {
   "cell_type": "markdown",
   "metadata": {},
   "source": [
    "# Introduction to ```Jupyter Notebooks```\n",
    "## What is a notebook?\n",
    "Jupyter Notebooks are the ideal environment for doing python (its a programming language) based research in both the sciences and humanities.\n",
    "\n",
    "Each notebook conissts of two types of cell blocks:\n",
    "1. Mardown cells \n",
    "2. Code cells\n",
    "\n",
    "The markdown cells are used to describe what one is doing in the code cells.\n",
    "\n",
    "The code cells are used in order to write code and execute it.\n",
    "The next cell is a code cell with a very simple code:"
   ]
  },
  {
   "cell_type": "code",
   "execution_count": 1,
   "metadata": {},
   "outputs": [
    {
     "name": "stdout",
     "output_type": "stream",
     "text": [
      "55 times 3 is 165\n"
     ]
    }
   ],
   "source": [
    "x=55\n",
    "y=3\n",
    "\n",
    "print(x, \"times\", y, \"is\", x*y)"
   ]
  },
  {
   "cell_type": "markdown",
   "metadata": {},
   "source": [
    "This cell block is a markdown cell. You can double click with your mouse on this cell and you will see the Markdown codes used to write this cell block. All important Markdown commands can be found in this handy Markdown Cheat Sheet: https://github.com/adam-p/markdown-here/wiki/Markdown-Cheatsheet.\n",
    "\n",
    "## Installing the necessary environment to run jupyter notebooks\n",
    "1. Go to https://www.anaconda.com/distribution/ and download the Phython 3.7 version for your platform (available for Linux, MacOS, Windows).\n",
    "\n",
    "2. After Anaconda has been installed start the ```Anaconda prompt``` terminal.\n",
    "\n",
    "3. Once the terminal is available you want to install the TextFabric environment that holds all the biblical data of the ETCBC research group (http://etcbc.nl/). You do so by writing the following command into the terminal:\n",
    "\n",
    "``` \n",
    "pip3 install text-fabric\n",
    "``` \n",
    "or when you are on windows \n",
    "```\n",
    "pip install text-fabric\n",
    "```\n",
    "\n",
    "After TF has been installed run the following command to make sure that you have upgraded to the latest TF version:\n",
    "\n",
    "```\n",
    "pip3 install --upgrade text-fabric\n",
    "```\n",
    "or when you are on Windows\n",
    "```\n",
    "pip install --upgrade text-fabric\n",
    "```\n",
    "\n",
    "Finally, to work most smoothly with a table of content (toc) it makes a lot of sense to also install the following extension in the terminal:\n",
    "```\n",
    "pip3 install jupyterlab\n",
    "jupyter labextension install jupyterlab-toc\n",
    "```\n",
    "or when you are on Windows\n",
    "```\n",
    "pip install jupyterlab\n",
    "jupyter labextension install jupyterlab-toc\n",
    "```\n",
    "\n",
    "\n",
    "## Starting a jupyter notebook\n",
    "1. Now all the tools are installed for doing our exegetical research. Lets fire up Jupyter Notebooks by executing the command ```jupyter notebook``` in your Anaconda prompt termnal. Your default webbrowser will start and showing you the folder structure of your default OS folder.\n",
    "\n",
    "2. Now Download this notebook.\n",
    "![download notebook](https://1oilxq.dm.files.1drv.com/y4mMgp11Y2lZWa7tOqNiwDH8jYqPsZ9pwnVjHadAApj0-wEpzG9O5RqyiEPz-Q1BanPVjt4BLACc0sk_Y3nCFOGH6BejnI0ks1HcO52G1-Ep26AOMJkDrHQKUJOUug0T1P3ABax4C-pVbpUXsW5MFDMUeZ5AB4DGYI2vWoM58QPB89Yn9Xo9-DfPKPcsA8laY-vg5Nb9aO0iSYciD4jvmD0ZQ/Annotation2019-06-09_220638.png)\n",
    "\n",
    "3. Check where your default folder is located and copy this downloaded notebook into that folder.\n",
    "\n",
    "4. Refresh your broswer and you will see the downloaded folder appear.\n",
    "\n",
    "5. You can now start this notebook by clicking on the filename within your jupyter's folder overview. \n",
    "\n",
    "6. Now you are ready to go!\n",
    "\n",
    "## Loading important apps\n",
    "This very jupyter notebook is now running in your browser!\n",
    "Lets load some important python apps so that we can start writing our first queries.\n",
    "\n",
    "Run the code cells below."
   ]
  },
  {
   "cell_type": "code",
   "execution_count": 2,
   "metadata": {},
   "outputs": [],
   "source": [
    "%load_ext autoreload\n",
    "%autoreload 2"
   ]
  },
  {
   "cell_type": "code",
   "execution_count": 3,
   "metadata": {},
   "outputs": [],
   "source": [
    "# First, I have to laod different modules that I use for analyzing the data and for plotting:\n",
    "import sys, os, collections\n",
    "import pandas as pd\n",
    "import numpy as np\n",
    "import seaborn as sns\n",
    "import matplotlib.pyplot as plt; plt.rcdefaults()\n",
    "from matplotlib.pyplot import figure\n",
    "from collections import Counter\n",
    "\n",
    "# Second, I have to load the Text Fabric app\n",
    "from tf.fabric import Fabric\n",
    "from tf.app import use"
   ]
  },
  {
   "cell_type": "markdown",
   "metadata": {},
   "source": [
    "# Introduction to ```TF``` Textfabric - the Python way of doing ```SHEBANQ/MQL```\n",
    "\n",
    "After having loaded the TF app I need to load the Biblia Hebraica Stuttgartensia ```bhsa``` as a dataset that TF can work with."
   ]
  },
  {
   "cell_type": "code",
   "execution_count": 4,
   "metadata": {},
   "outputs": [
    {
     "name": "stdout",
     "output_type": "stream",
     "text": [
      "\tconnecting to online GitHub repo annotation/app-bhsa ... connected\n",
      "\tcode/__init__.py...downloaded\n",
      "\tcode/app.py...downloaded\n",
      "\tcode/config.py...downloaded\n",
      "\tcode/static...directory\n",
      "\t\tcode/static/display.css...downloaded\n",
      "\t\tcode/static/logo.png...downloaded\n",
      "\tOK\n",
      "Using TF-app in /Users/JOTA/text-fabric-data/annotation/app-bhsa/code:\n",
      "\trv1.3=#f38d56bd757e87fe12d0c125e1ca52ee4376127b (latest release)\n",
      "\tconnecting to online GitHub repo etcbc/bhsa ... connected\n",
      "Using data in /Users/JOTA/text-fabric-data/etcbc/bhsa/tf/c:\n",
      "\trv1.6=#bac4a9f5a2bbdede96ba6caea45e762fe88f88c5 (latest release)\n",
      "\tconnecting to online GitHub repo etcbc/phono ... connected\n",
      "Using data in /Users/JOTA/text-fabric-data/etcbc/phono/tf/c:\n",
      "\tr1.2=#1ac68e976ee4a7f23eb6bb4c6f401a033d0ec169 (latest release)\n",
      "\tconnecting to online GitHub repo etcbc/parallels ... connected\n",
      "Using data in /Users/JOTA/text-fabric-data/etcbc/parallels/tf/c:\n",
      "\tr1.2=#395dfe2cb69c261862fab9f0289e594a52121d5c (latest release)\n",
      "   |     0.00s No structure info in otext, the structure part of the T-API cannot be used\n"
     ]
    },
    {
     "data": {
      "text/html": [
       "<b>Documentation:</b> <a target=\"_blank\" href=\"https://etcbc.github.io/bhsa\" title=\"provenance of BHSA = Biblia Hebraica Stuttgartensia Amstelodamensis\">BHSA</a> <a target=\"_blank\" href=\"https://annotation.github.io/text-fabric/Writing/Hebrew\" title=\"('Hebrew characters and transcriptions',)\">Character table</a> <a target=\"_blank\" href=\"https://etcbc.github.io/bhsa/features/0_home\" title=\"BHSA feature documentation\">Feature docs</a> <a target=\"_blank\" href=\"https://github.com/annotation/app-bhsa\" title=\"bhsa API documentation\">bhsa API</a> <a target=\"_blank\" href=\"https://annotation.github.io/text-fabric/Api/Fabric/\" title=\"text-fabric-api\">Text-Fabric API 7.8.2</a> <a target=\"_blank\" href=\"https://annotation.github.io/text-fabric/Use/Search/\" title=\"Search Templates Introduction and Reference\">Search Reference</a><details open><summary><b>Loaded features</b>:</summary>\n",
       "<p><b>BHSA = Biblia Hebraica Stuttgartensia Amstelodamensis</b>: <a target=\"_blank\" href=\"https://etcbc.github.io/bhsa/features/book\" title=\"/Users/JOTA/text-fabric-data/etcbc/bhsa/tf/c/book.tf\">book</a>  <a target=\"_blank\" href=\"https://etcbc.github.io/bhsa/features/book@ll\" title=\"/Users/JOTA/text-fabric-data/etcbc/bhsa/tf/c/book@am.tf\">book@ll</a>  <a target=\"_blank\" href=\"https://etcbc.github.io/bhsa/features/chapter\" title=\"/Users/JOTA/text-fabric-data/etcbc/bhsa/tf/c/chapter.tf\">chapter</a>  <a target=\"_blank\" href=\"https://etcbc.github.io/bhsa/features/code\" title=\"/Users/JOTA/text-fabric-data/etcbc/bhsa/tf/c/code.tf\">code</a>  <a target=\"_blank\" href=\"https://etcbc.github.io/bhsa/features/det\" title=\"/Users/JOTA/text-fabric-data/etcbc/bhsa/tf/c/det.tf\">det</a>  <a target=\"_blank\" href=\"https://etcbc.github.io/bhsa/features/domain\" title=\"/Users/JOTA/text-fabric-data/etcbc/bhsa/tf/c/domain.tf\">domain</a>  <a target=\"_blank\" href=\"https://etcbc.github.io/bhsa/features/freq_lex\" title=\"/Users/JOTA/text-fabric-data/etcbc/bhsa/tf/c/freq_lex.tf\">freq_lex</a>  <a target=\"_blank\" href=\"https://etcbc.github.io/bhsa/features/function\" title=\"/Users/JOTA/text-fabric-data/etcbc/bhsa/tf/c/function.tf\">function</a>  <a target=\"_blank\" href=\"https://etcbc.github.io/bhsa/features/g_cons\" title=\"/Users/JOTA/text-fabric-data/etcbc/bhsa/tf/c/g_cons.tf\">g_cons</a>  <a target=\"_blank\" href=\"https://etcbc.github.io/bhsa/features/g_cons_utf8\" title=\"/Users/JOTA/text-fabric-data/etcbc/bhsa/tf/c/g_cons_utf8.tf\">g_cons_utf8</a>  <a target=\"_blank\" href=\"https://etcbc.github.io/bhsa/features/g_lex\" title=\"/Users/JOTA/text-fabric-data/etcbc/bhsa/tf/c/g_lex.tf\">g_lex</a>  <a target=\"_blank\" href=\"https://etcbc.github.io/bhsa/features/g_lex_utf8\" title=\"/Users/JOTA/text-fabric-data/etcbc/bhsa/tf/c/g_lex_utf8.tf\">g_lex_utf8</a>  <a target=\"_blank\" href=\"https://etcbc.github.io/bhsa/features/g_word\" title=\"/Users/JOTA/text-fabric-data/etcbc/bhsa/tf/c/g_word.tf\">g_word</a>  <a target=\"_blank\" href=\"https://etcbc.github.io/bhsa/features/g_word_utf8\" title=\"/Users/JOTA/text-fabric-data/etcbc/bhsa/tf/c/g_word_utf8.tf\">g_word_utf8</a>  <a target=\"_blank\" href=\"https://etcbc.github.io/bhsa/features/gloss\" title=\"/Users/JOTA/text-fabric-data/etcbc/bhsa/tf/c/gloss.tf\">gloss</a>  <a target=\"_blank\" href=\"https://etcbc.github.io/bhsa/features/gn\" title=\"/Users/JOTA/text-fabric-data/etcbc/bhsa/tf/c/gn.tf\">gn</a>  <a target=\"_blank\" href=\"https://etcbc.github.io/bhsa/features/label\" title=\"/Users/JOTA/text-fabric-data/etcbc/bhsa/tf/c/label.tf\">label</a>  <a target=\"_blank\" href=\"https://etcbc.github.io/bhsa/features/language\" title=\"/Users/JOTA/text-fabric-data/etcbc/bhsa/tf/c/language.tf\">language</a>  <a target=\"_blank\" href=\"https://etcbc.github.io/bhsa/features/lex\" title=\"/Users/JOTA/text-fabric-data/etcbc/bhsa/tf/c/lex.tf\">lex</a>  <a target=\"_blank\" href=\"https://etcbc.github.io/bhsa/features/lex_utf8\" title=\"/Users/JOTA/text-fabric-data/etcbc/bhsa/tf/c/lex_utf8.tf\">lex_utf8</a>  <a target=\"_blank\" href=\"https://etcbc.github.io/bhsa/features/ls\" title=\"/Users/JOTA/text-fabric-data/etcbc/bhsa/tf/c/ls.tf\">ls</a>  <a target=\"_blank\" href=\"https://etcbc.github.io/bhsa/features/nametype\" title=\"/Users/JOTA/text-fabric-data/etcbc/bhsa/tf/c/nametype.tf\">nametype</a>  <a target=\"_blank\" href=\"https://etcbc.github.io/bhsa/features/nme\" title=\"/Users/JOTA/text-fabric-data/etcbc/bhsa/tf/c/nme.tf\">nme</a>  <a target=\"_blank\" href=\"https://etcbc.github.io/bhsa/features/nu\" title=\"/Users/JOTA/text-fabric-data/etcbc/bhsa/tf/c/nu.tf\">nu</a>  <a target=\"_blank\" href=\"https://etcbc.github.io/bhsa/features/number\" title=\"/Users/JOTA/text-fabric-data/etcbc/bhsa/tf/c/number.tf\">number</a>  <a target=\"_blank\" href=\"https://etcbc.github.io/bhsa/features/otype\" title=\"/Users/JOTA/text-fabric-data/etcbc/bhsa/tf/c/otype.tf\">otype</a>  <a target=\"_blank\" href=\"https://etcbc.github.io/bhsa/features/pargr\" title=\"/Users/JOTA/text-fabric-data/etcbc/bhsa/tf/c/pargr.tf\">pargr</a>  <a target=\"_blank\" href=\"https://etcbc.github.io/bhsa/features/pdp\" title=\"/Users/JOTA/text-fabric-data/etcbc/bhsa/tf/c/pdp.tf\">pdp</a>  <a target=\"_blank\" href=\"https://etcbc.github.io/bhsa/features/pfm\" title=\"/Users/JOTA/text-fabric-data/etcbc/bhsa/tf/c/pfm.tf\">pfm</a>  <a target=\"_blank\" href=\"https://etcbc.github.io/bhsa/features/prs\" title=\"/Users/JOTA/text-fabric-data/etcbc/bhsa/tf/c/prs.tf\">prs</a>  <a target=\"_blank\" href=\"https://etcbc.github.io/bhsa/features/prs_gn\" title=\"/Users/JOTA/text-fabric-data/etcbc/bhsa/tf/c/prs_gn.tf\">prs_gn</a>  <a target=\"_blank\" href=\"https://etcbc.github.io/bhsa/features/prs_nu\" title=\"/Users/JOTA/text-fabric-data/etcbc/bhsa/tf/c/prs_nu.tf\">prs_nu</a>  <a target=\"_blank\" href=\"https://etcbc.github.io/bhsa/features/prs_ps\" title=\"/Users/JOTA/text-fabric-data/etcbc/bhsa/tf/c/prs_ps.tf\">prs_ps</a>  <a target=\"_blank\" href=\"https://etcbc.github.io/bhsa/features/ps\" title=\"/Users/JOTA/text-fabric-data/etcbc/bhsa/tf/c/ps.tf\">ps</a>  <a target=\"_blank\" href=\"https://etcbc.github.io/bhsa/features/qere\" title=\"/Users/JOTA/text-fabric-data/etcbc/bhsa/tf/c/qere.tf\">qere</a>  <a target=\"_blank\" href=\"https://etcbc.github.io/bhsa/features/qere_trailer\" title=\"/Users/JOTA/text-fabric-data/etcbc/bhsa/tf/c/qere_trailer.tf\">qere_trailer</a>  <a target=\"_blank\" href=\"https://etcbc.github.io/bhsa/features/qere_trailer_utf8\" title=\"/Users/JOTA/text-fabric-data/etcbc/bhsa/tf/c/qere_trailer_utf8.tf\">qere_trailer_utf8</a>  <a target=\"_blank\" href=\"https://etcbc.github.io/bhsa/features/qere_utf8\" title=\"/Users/JOTA/text-fabric-data/etcbc/bhsa/tf/c/qere_utf8.tf\">qere_utf8</a>  <a target=\"_blank\" href=\"https://etcbc.github.io/bhsa/features/rank_lex\" title=\"/Users/JOTA/text-fabric-data/etcbc/bhsa/tf/c/rank_lex.tf\">rank_lex</a>  <a target=\"_blank\" href=\"https://etcbc.github.io/bhsa/features/rela\" title=\"/Users/JOTA/text-fabric-data/etcbc/bhsa/tf/c/rela.tf\">rela</a>  <a target=\"_blank\" href=\"https://etcbc.github.io/bhsa/features/sp\" title=\"/Users/JOTA/text-fabric-data/etcbc/bhsa/tf/c/sp.tf\">sp</a>  <a target=\"_blank\" href=\"https://etcbc.github.io/bhsa/features/st\" title=\"/Users/JOTA/text-fabric-data/etcbc/bhsa/tf/c/st.tf\">st</a>  <a target=\"_blank\" href=\"https://etcbc.github.io/bhsa/features/tab\" title=\"/Users/JOTA/text-fabric-data/etcbc/bhsa/tf/c/tab.tf\">tab</a>  <a target=\"_blank\" href=\"https://etcbc.github.io/bhsa/features/trailer\" title=\"/Users/JOTA/text-fabric-data/etcbc/bhsa/tf/c/trailer.tf\">trailer</a>  <a target=\"_blank\" href=\"https://etcbc.github.io/bhsa/features/trailer_utf8\" title=\"/Users/JOTA/text-fabric-data/etcbc/bhsa/tf/c/trailer_utf8.tf\">trailer_utf8</a>  <a target=\"_blank\" href=\"https://etcbc.github.io/bhsa/features/txt\" title=\"/Users/JOTA/text-fabric-data/etcbc/bhsa/tf/c/txt.tf\">txt</a>  <a target=\"_blank\" href=\"https://etcbc.github.io/bhsa/features/typ\" title=\"/Users/JOTA/text-fabric-data/etcbc/bhsa/tf/c/typ.tf\">typ</a>  <a target=\"_blank\" href=\"https://etcbc.github.io/bhsa/features/uvf\" title=\"/Users/JOTA/text-fabric-data/etcbc/bhsa/tf/c/uvf.tf\">uvf</a>  <a target=\"_blank\" href=\"https://etcbc.github.io/bhsa/features/vbe\" title=\"/Users/JOTA/text-fabric-data/etcbc/bhsa/tf/c/vbe.tf\">vbe</a>  <a target=\"_blank\" href=\"https://etcbc.github.io/bhsa/features/vbs\" title=\"/Users/JOTA/text-fabric-data/etcbc/bhsa/tf/c/vbs.tf\">vbs</a>  <a target=\"_blank\" href=\"https://etcbc.github.io/bhsa/features/verse\" title=\"/Users/JOTA/text-fabric-data/etcbc/bhsa/tf/c/verse.tf\">verse</a>  <a target=\"_blank\" href=\"https://etcbc.github.io/bhsa/features/voc_lex\" title=\"/Users/JOTA/text-fabric-data/etcbc/bhsa/tf/c/voc_lex.tf\">voc_lex</a>  <a target=\"_blank\" href=\"https://etcbc.github.io/bhsa/features/voc_lex_utf8\" title=\"/Users/JOTA/text-fabric-data/etcbc/bhsa/tf/c/voc_lex_utf8.tf\">voc_lex_utf8</a>  <a target=\"_blank\" href=\"https://etcbc.github.io/bhsa/features/vs\" title=\"/Users/JOTA/text-fabric-data/etcbc/bhsa/tf/c/vs.tf\">vs</a>  <a target=\"_blank\" href=\"https://etcbc.github.io/bhsa/features/vt\" title=\"/Users/JOTA/text-fabric-data/etcbc/bhsa/tf/c/vt.tf\">vt</a>  <b><i><a target=\"_blank\" href=\"https://etcbc.github.io/bhsa/features/mother\" title=\"/Users/JOTA/text-fabric-data/etcbc/bhsa/tf/c/mother.tf\">mother</a></i></b>  <b><i><a target=\"_blank\" href=\"https://etcbc.github.io/bhsa/features/oslots\" title=\"/Users/JOTA/text-fabric-data/etcbc/bhsa/tf/c/oslots.tf\">oslots</a></i></b> </p><p><b>Parallel Passages</b>: <b><i><a target=\"_blank\" href=\"https://nbviewer.jupyter.org/github/etcbc/parallels/blob/master/programs/parallels.ipynb\" title=\"/Users/JOTA/text-fabric-data/etcbc/parallels/tf/c/crossref.tf\">crossref</a></i></b> </p><p><b>Phonetic Transcriptions</b>: <a target=\"_blank\" href=\"https://nbviewer.jupyter.org/github/etcbc/phono/blob/master/programs/phono.ipynb\" title=\"/Users/JOTA/text-fabric-data/etcbc/phono/tf/c/phono.tf\">phono</a>  <a target=\"_blank\" href=\"https://nbviewer.jupyter.org/github/etcbc/phono/blob/master/programs/phono.ipynb\" title=\"/Users/JOTA/text-fabric-data/etcbc/phono/tf/c/phono_trailer.tf\">phono_trailer</a> </p></details>"
      ],
      "text/plain": [
       "<IPython.core.display.HTML object>"
      ]
     },
     "metadata": {},
     "output_type": "display_data"
    },
    {
     "data": {
      "text/html": [
       "<style>\n",
       "@font-face {\n",
       "  font-family: \"Ezra SIL\";\n",
       "  src:\n",
       "    local(\"SILEOT.ttf\"),\n",
       "    url(\"https://github.com/annotation/text-fabric/blob/master/tf/server/static/fonts/SILEOT.woff?raw=true\");\n",
       "}\n",
       ".features {\n",
       "    font-family: monospace;\n",
       "    font-size: medium;\n",
       "    font-weight: bold;\n",
       "    color: #0a6611;\n",
       "    display: flex;\n",
       "    flex-flow: column nowrap;\n",
       "    padding: 0.1em;\n",
       "    margin: 0.1em;\n",
       "    direction: ltr;\n",
       "}\n",
       ".features div,.features span {\n",
       "    padding: 0;\n",
       "    margin: -0.1rem 0;\n",
       "}\n",
       ".features .f {\n",
       "    font-family: sans-serif;\n",
       "    font-size: x-small;\n",
       "    font-weight: normal;\n",
       "    color: #5555bb;\n",
       "}\n",
       ".features .xft {\n",
       "  color: #000000;\n",
       "  background-color: #eeeeee;\n",
       "  font-size: medium;\n",
       "  margin: 0.1em 0em;\n",
       "}\n",
       ".features .xft .f {\n",
       "  color: #000000;\n",
       "  background-color: #eeeeee;\n",
       "  font-style: italic;\n",
       "  font-size: small;\n",
       "  font-weight: normal;\n",
       "}\n",
       ".ltr {\n",
       "    direction: ltr ! important;\n",
       "}\n",
       ".verse {\n",
       "    display: flex;\n",
       "    flex-flow: row wrap;\n",
       "    direction: rtl;\n",
       "}\n",
       ".vl {\n",
       "    display: flex;\n",
       "    flex-flow: column nowrap;\n",
       "    justify-content: flex-end;\n",
       "    align-items: flex-end;\n",
       "    direction: ltr;\n",
       "    width: 100%;\n",
       "}\n",
       ".outeritem {\n",
       "    display: flex;\n",
       "    flex-flow: row wrap;\n",
       "    direction: rtl;\n",
       "}\n",
       ".sentence,.clause,.phrase {\n",
       "    margin-top: -1.2em;\n",
       "    margin-left: 1em;\n",
       "    background: #ffffff none repeat scroll 0 0;\n",
       "    padding: 0 0.3em;\n",
       "    border-style: solid;\n",
       "    border-radius: 0.2em;\n",
       "    font-size: small;\n",
       "    display: block;\n",
       "    width: fit-content;\n",
       "    max-width: fit-content;\n",
       "    direction: ltr;\n",
       "}\n",
       ".atoms {\n",
       "    display: flex;\n",
       "    flex-flow: row wrap;\n",
       "    margin: 0.3em;\n",
       "    padding: 0.3em;\n",
       "    direction: rtl;\n",
       "    background-color: #ffffff;\n",
       "}\n",
       ".satom,.catom,.patom {\n",
       "    margin: 0.3em;\n",
       "    padding: 0.3em;\n",
       "    border-radius: 0.3em;\n",
       "    border-style: solid;\n",
       "    display: flex;\n",
       "    flex-flow: column nowrap;\n",
       "    direction: rtl;\n",
       "    background-color: #ffffff;\n",
       "}\n",
       ".sentence {\n",
       "    border-color: #aa3333;\n",
       "    border-width: 1px;\n",
       "}\n",
       ".clause {\n",
       "    border-color: #aaaa33;\n",
       "    border-width: 1px;\n",
       "}\n",
       ".phrase {\n",
       "    border-color: #33aaaa;\n",
       "    border-width: 1px;\n",
       "}\n",
       ".satom {\n",
       "    border-color: #aa3333;\n",
       "    border-width: 4px;\n",
       "}\n",
       ".catom {\n",
       "    border-color: #aaaa33;\n",
       "    border-width: 3px;\n",
       "}\n",
       ".patom {\n",
       "    border-color: #33aaaa;\n",
       "    border-width: 3px;\n",
       "}\n",
       ".word {\n",
       "    padding: 0.1em;\n",
       "    margin: 0.1em;\n",
       "    border-radius: 0.1em;\n",
       "    border: 1px solid #cccccc;\n",
       "    display: flex;\n",
       "    flex-flow: column nowrap;\n",
       "    direction: rtl;\n",
       "    background-color: #ffffff;\n",
       "}\n",
       ".lextp {\n",
       "    padding: 0.1em;\n",
       "    margin: 0.1em;\n",
       "    border-radius: 0.1em;\n",
       "    border: 2px solid #888888;\n",
       "    width: fit-content;\n",
       "    display: flex;\n",
       "    flex-flow: column nowrap;\n",
       "    direction: rtl;\n",
       "    background-color: #ffffff;\n",
       "}\n",
       ".occs {\n",
       "    font-size: x-small;\n",
       "}\n",
       ".satom.l,.catom.l,.patom.l {\n",
       "    border-left-style: dotted\n",
       "}\n",
       ".satom.r,.catom.r,.patom.r {\n",
       "    border-right-style: dotted\n",
       "}\n",
       ".satom.lno,.catom.lno,.patom.lno {\n",
       "    border-left-style: none\n",
       "}\n",
       ".satom.rno,.catom.rno,.patom.rno {\n",
       "    border-right-style: none\n",
       "}\n",
       ".tr,.tr a:visited,.tr a:link {\n",
       "    font-family: sans-serif;\n",
       "    font-size: large;\n",
       "    color: #000044;\n",
       "    direction: ltr;\n",
       "    text-decoration: none;\n",
       "}\n",
       ".trb,.trb a:visited,.trb a:link {\n",
       "    font-family: sans-serif;\n",
       "    font-size: normal;\n",
       "    direction: ltr;\n",
       "    text-decoration: none;\n",
       "}\n",
       ".prb,.prb a:visited,.prb a:link {\n",
       "    font-family: sans-serif;\n",
       "    font-size: large;\n",
       "    direction: ltr;\n",
       "    text-decoration: none;\n",
       "}\n",
       ".h,.h a:visited,.h a:link {\n",
       "    font-family: \"Ezra SIL\", \"SBL Hebrew\", sans-serif;\n",
       "    font-size: large;\n",
       "    color: #000044;\n",
       "    direction: rtl;\n",
       "    text-decoration: none;\n",
       "}\n",
       ".hb,.hb a:visited,.hb a:link {\n",
       "    font-family: \"Ezra SIL\", \"SBL Hebrew\", sans-serif;\n",
       "    font-size: large;\n",
       "    line-height: 2;\n",
       "    direction: rtl;\n",
       "    text-decoration: none;\n",
       "}\n",
       ".vn {\n",
       "  font-size: small !important;\n",
       "  padding-right: 1em;\n",
       "}\n",
       ".rela,.function,.typ {\n",
       "    font-family: monospace;\n",
       "    font-size: small;\n",
       "    color: #0000bb;\n",
       "}\n",
       ".pdp,.pdp a:visited,.pdp a:link {\n",
       "    font-family: monospace;\n",
       "    font-size: medium;\n",
       "    color: #0000bb;\n",
       "    text-decoration: none;\n",
       "}\n",
       ".voc_lex {\n",
       "    font-family: monospace;\n",
       "    font-size: medium;\n",
       "    color: #0000bb;\n",
       "}\n",
       ".vs {\n",
       "    font-family: monospace;\n",
       "    font-size: medium;\n",
       "    font-weight: bold;\n",
       "    color: #0000bb;\n",
       "}\n",
       ".vt {\n",
       "    font-family: monospace;\n",
       "    font-size: medium;\n",
       "    font-weight: bold;\n",
       "    color: #0000bb;\n",
       "}\n",
       ".gloss {\n",
       "    font-family: sans-serif;\n",
       "    font-size: small;\n",
       "    font-weight: normal;\n",
       "    color: #444444;\n",
       "}\n",
       ".vrs {\n",
       "    font-family: sans-serif;\n",
       "    font-size: small;\n",
       "    font-weight: bold;\n",
       "    color: #444444;\n",
       "}\n",
       ".nd {\n",
       "    font-family: monospace;\n",
       "    font-size: x-small;\n",
       "    color: #999999;\n",
       "}\n",
       ".hl {\n",
       "    background-color: #ffee66;\n",
       "}\n",
       "\n",
       "tr.tf, td.tf, th.tf {\n",
       "  text-align: left;\n",
       "}\n",
       "\n",
       "span.hldot {\n",
       "\tbackground-color: var(--hl-strong);\n",
       "\tborder: 0.2rem solid var(--hl-rim);\n",
       "\tborder-radius: 0.4rem;\n",
       "\t/*\n",
       "\tdisplay: inline-block;\n",
       "\twidth: 0.8rem;\n",
       "\theight: 0.8rem;\n",
       "\t*/\n",
       "}\n",
       "span.hl {\n",
       "\tbackground-color: var(--hl-strong);\n",
       "\tborder-width: 0;\n",
       "\tborder-radius: 0.1rem;\n",
       "\tborder-style: solid;\n",
       "}\n",
       "\n",
       "span.hlup {\n",
       "\tborder-color: var(--hl-dark);\n",
       "\tborder-width: 0.1rem;\n",
       "\tborder-style: solid;\n",
       "\tborder-radius: 0.2rem;\n",
       "  padding: 0.2rem;\n",
       "}\n",
       "\n",
       ":root {\n",
       "\t--hl-strong:        hsla( 60, 100%,  70%, 0.9  );\n",
       "\t--hl-rim:           hsla( 55, 100%,  60%, 0.9  );\n",
       "\t--hl-dark:          hsla( 55, 100%,  40%, 0.9  );\n",
       "}\n",
       "</style>"
      ],
      "text/plain": [
       "<IPython.core.display.HTML object>"
      ]
     },
     "metadata": {},
     "output_type": "display_data"
    },
    {
     "data": {
      "text/html": [
       "<details open><summary><b>API members</b>:</summary>\n",
       "<a target=\"_blank\" href=\"https://annotation.github.io/text-fabric/Api/Computed/#computed-data\" title=\"doc\">C Computed</a>, <a target=\"_blank\" href=\"https://annotation.github.io/text-fabric/Api/Computed/#computed-data\" title=\"doc\">Call AllComputeds</a>, <a target=\"_blank\" href=\"https://annotation.github.io/text-fabric/Api/Computed/#computed-data\" title=\"doc\">Cs ComputedString</a><br/>\n",
       "<a target=\"_blank\" href=\"https://annotation.github.io/text-fabric/Api/Features/#edge-features\" title=\"doc\">E Edge</a>, <a target=\"_blank\" href=\"https://annotation.github.io/text-fabric/Api/Features/#edge-features\" title=\"doc\">Eall AllEdges</a>, <a target=\"_blank\" href=\"https://annotation.github.io/text-fabric/Api/Features/#edge-features\" title=\"doc\">Es EdgeString</a><br/>\n",
       "<a target=\"_blank\" href=\"https://annotation.github.io/text-fabric/Api/Fabric/#loading\" title=\"doc\">ensureLoaded</a>, <a target=\"_blank\" href=\"https://annotation.github.io/text-fabric/Api/Fabric/#loading\" title=\"doc\">TF</a>, <a target=\"_blank\" href=\"https://annotation.github.io/text-fabric/Api/Fabric/#loading\" title=\"doc\">ignored</a>, <a target=\"_blank\" href=\"https://annotation.github.io/text-fabric/Api/Fabric/#loading\" title=\"doc\">loadLog</a><br/>\n",
       "<a target=\"_blank\" href=\"https://annotation.github.io/text-fabric/Api/Locality/#locality\" title=\"doc\">L Locality</a><br/>\n",
       "<a target=\"_blank\" href=\"https://annotation.github.io/text-fabric/Api/Misc/#messaging\" title=\"doc\">cache</a>, <a target=\"_blank\" href=\"https://annotation.github.io/text-fabric/Api/Misc/#messaging\" title=\"doc\">error</a>, <a target=\"_blank\" href=\"https://annotation.github.io/text-fabric/Api/Misc/#messaging\" title=\"doc\">indent</a>, <a target=\"_blank\" href=\"https://annotation.github.io/text-fabric/Api/Misc/#messaging\" title=\"doc\">info</a>, <a target=\"_blank\" href=\"https://annotation.github.io/text-fabric/Api/Misc/#messaging\" title=\"doc\">isSilent</a>, <a target=\"_blank\" href=\"https://annotation.github.io/text-fabric/Api/Misc/#messaging\" title=\"doc\">reset</a>, <a target=\"_blank\" href=\"https://annotation.github.io/text-fabric/Api/Misc/#messaging\" title=\"doc\">setSilent</a>, <a target=\"_blank\" href=\"https://annotation.github.io/text-fabric/Api/Misc/#messaging\" title=\"doc\">silentOff</a>, <a target=\"_blank\" href=\"https://annotation.github.io/text-fabric/Api/Misc/#messaging\" title=\"doc\">silentOn</a>, <a target=\"_blank\" href=\"https://annotation.github.io/text-fabric/Api/Misc/#messaging\" title=\"doc\">warning</a><br/>\n",
       "<a target=\"_blank\" href=\"https://annotation.github.io/text-fabric/Api/Nodes/#navigating-nodes\" title=\"doc\">N Nodes</a>, <a target=\"_blank\" href=\"https://annotation.github.io/text-fabric/Api/Nodes/#navigating-nodes\" title=\"doc\">sortKey</a>, <a target=\"_blank\" href=\"https://annotation.github.io/text-fabric/Api/Nodes/#navigating-nodes\" title=\"doc\">sortKeyTuple</a>, <a target=\"_blank\" href=\"https://annotation.github.io/text-fabric/Api/Nodes/#navigating-nodes\" title=\"doc\">otypeRank</a>, <a target=\"_blank\" href=\"https://annotation.github.io/text-fabric/Api/Nodes/#navigating-nodes\" title=\"doc\">sortNodes</a><br/>\n",
       "<a target=\"_blank\" href=\"https://annotation.github.io/text-fabric/Api/Features/#node-features\" title=\"doc\">F Feature</a>, <a target=\"_blank\" href=\"https://annotation.github.io/text-fabric/Api/Features/#node-features\" title=\"doc\">Fall AllFeatures</a>, <a target=\"_blank\" href=\"https://annotation.github.io/text-fabric/Api/Features/#node-features\" title=\"doc\">Fs FeatureString</a><br/>\n",
       "<a target=\"_blank\" href=\"https://annotation.github.io/text-fabric/Api/Search/#search\" title=\"doc\">S Search</a><br/>\n",
       "<a target=\"_blank\" href=\"https://annotation.github.io/text-fabric/Api/Text/#text\" title=\"doc\">T Text</a></details>"
      ],
      "text/plain": [
       "<IPython.core.display.HTML object>"
      ]
     },
     "metadata": {},
     "output_type": "display_data"
    }
   ],
   "source": [
    "A = use('bhsa', hoist=globals())"
   ]
  },
  {
   "cell_type": "markdown",
   "metadata": {},
   "source": [
    "# TF-BHS Queries\n",
    "## Building Simple Queries\n",
    "### Searching on the WORD-level\n",
    "#### Simple Word Search\n",
    "It follows a simple search for the word “Abraham” in the book of Genesis in the chapter 17-22.\n",
    "Some principles:\n",
    "1. each query has to start with `Queryname = ```` and needs to end with ` ````.\n",
    "2. *Indentation* plays an important role! In the following we are searching a word (YHWH) within a specific book (Genesis):\n",
    "```\n",
    "book=Genesis\n",
    "    word=JHWH/\n",
    "```\n",
    "3. After the query has been written it needs to be executed with the command `A.search(Queryname)`. Its best to give the results of the query a particular name (e.g. AbrahamSearchFindings).\n",
    "4. Finally, you want to choose for a proper representation of the data Here you can either choose for `A.show(QueryResults)` or for `A.table(QueryResults)`. Both have their specific advantages.\n",
    "5. There are several parameters that can be used to specify what one wants to see in the query result showing. These will be discussed in a later cell. For now, we only make use of `start`, `end`, and `condensed`. With `start=1` we define that we want to have the 1st query result being shown to us. With `end=7` we define that the last query result that we want to have shown to us is the 7th query result. With `condensed` we define that we want to see only one verse in the result showing, even if that one verse contains two query results (cf Gen 17:23 for the query below)."
   ]
  },
  {
   "cell_type": "code",
   "execution_count": 11,
   "metadata": {},
   "outputs": [
    {
     "name": "stdout",
     "output_type": "stream",
     "text": [
      "  0.46s 63 results\n"
     ]
    },
    {
     "data": {
      "text/html": [
       "<table>\n",
       "<tr class=\"tf\">\n",
       "  <th class=\"tf\">n</th><th class=\"tf\">p</th>\n",
       "  <th class=\"tf\">verse</th><th>word</th>\n",
       "</tr>\n",
       "\n",
       "<tr class=\"tf\"><td class=\"tf\">1</td><td class=\"tf\"> <a href=\"https://shebanq.ancient-data.org/hebrew/text?book=Genesis&amp;chapter=17&amp;verse=5&amp;version=c&amp;mr=m&amp;qw=q&amp;tp=txt_p&amp;tr=hb&amp;wget=v&amp;qget=v&amp;nget=vt\" title=\"show this passage in SHEBANQ\" sec=\"Genesis 17:5\">Genesis 17:5</a></td><td class=\"tf\"><span class=\"hb\"><a class=\"vn\" href=\"https://shebanq.ancient-data.org/hebrew/text?book=Genesis&amp;chapter=17&amp;verse=5&amp;version=c&amp;mr=m&amp;qw=q&amp;tp=txt_p&amp;tr=hb&amp;wget=v&amp;qget=v&amp;nget=vt\" title=\"Genesis 17:5\" sec=\"Genesis 17:5\"></a>וְלֹא־יִקָּרֵ֥א עֹ֛וד אֶת־שִׁמְךָ֖ אַבְרָ֑ם וְהָיָ֤ה שִׁמְךָ֙ <span  class=\"hl\" >אַבְרָהָ֔ם </span>כִּ֛י אַב־הֲמֹ֥ון גֹּויִ֖ם נְתַתִּֽיךָ׃ </span></td><td class=\"tf\"><span class=\"hb\"><span  class=\"hl\" >אַבְרָהָ֔ם </span></span></td></tr>\n",
       "<tr class=\"tf\"><td class=\"tf\">2</td><td class=\"tf\"> <a href=\"https://shebanq.ancient-data.org/hebrew/text?book=Genesis&amp;chapter=17&amp;verse=9&amp;version=c&amp;mr=m&amp;qw=q&amp;tp=txt_p&amp;tr=hb&amp;wget=v&amp;qget=v&amp;nget=vt\" title=\"show this passage in SHEBANQ\" sec=\"Genesis 17:9\">Genesis 17:9</a></td><td class=\"tf\"><span class=\"hb\"><a class=\"vn\" href=\"https://shebanq.ancient-data.org/hebrew/text?book=Genesis&amp;chapter=17&amp;verse=9&amp;version=c&amp;mr=m&amp;qw=q&amp;tp=txt_p&amp;tr=hb&amp;wget=v&amp;qget=v&amp;nget=vt\" title=\"Genesis 17:9\" sec=\"Genesis 17:9\"></a>וַיֹּ֤אמֶר אֱלֹהִים֙ אֶל־<span  class=\"hl\" >אַבְרָהָ֔ם </span>וְאַתָּ֖ה אֶת־בְּרִיתִ֣י תִשְׁמֹ֑ר אַתָּ֛ה וְזַרְעֲךָ֥ אַֽחֲרֶ֖יךָ לְדֹרֹתָֽם׃ </span></td><td class=\"tf\"><span class=\"hb\"><span  class=\"hl\" >אַבְרָהָ֔ם </span></span></td></tr>\n",
       "<tr class=\"tf\"><td class=\"tf\">3</td><td class=\"tf\"> <a href=\"https://shebanq.ancient-data.org/hebrew/text?book=Genesis&amp;chapter=17&amp;verse=15&amp;version=c&amp;mr=m&amp;qw=q&amp;tp=txt_p&amp;tr=hb&amp;wget=v&amp;qget=v&amp;nget=vt\" title=\"show this passage in SHEBANQ\" sec=\"Genesis 17:15\">Genesis 17:15</a></td><td class=\"tf\"><span class=\"hb\"><a class=\"vn\" href=\"https://shebanq.ancient-data.org/hebrew/text?book=Genesis&amp;chapter=17&amp;verse=15&amp;version=c&amp;mr=m&amp;qw=q&amp;tp=txt_p&amp;tr=hb&amp;wget=v&amp;qget=v&amp;nget=vt\" title=\"Genesis 17:15\" sec=\"Genesis 17:15\"></a>וַיֹּ֤אמֶר אֱלֹהִים֙ אֶל־<span  class=\"hl\" >אַבְרָהָ֔ם </span>שָׂרַ֣י אִשְׁתְּךָ֔ לֹא־תִקְרָ֥א אֶת־שְׁמָ֖הּ שָׂרָ֑י כִּ֥י שָׂרָ֖ה שְׁמָֽהּ׃ </span></td><td class=\"tf\"><span class=\"hb\"><span  class=\"hl\" >אַבְרָהָ֔ם </span></span></td></tr>\n",
       "<tr class=\"tf\"><td class=\"tf\">4</td><td class=\"tf\"> <a href=\"https://shebanq.ancient-data.org/hebrew/text?book=Genesis&amp;chapter=17&amp;verse=17&amp;version=c&amp;mr=m&amp;qw=q&amp;tp=txt_p&amp;tr=hb&amp;wget=v&amp;qget=v&amp;nget=vt\" title=\"show this passage in SHEBANQ\" sec=\"Genesis 17:17\">Genesis 17:17</a></td><td class=\"tf\"><span class=\"hb\"><a class=\"vn\" href=\"https://shebanq.ancient-data.org/hebrew/text?book=Genesis&amp;chapter=17&amp;verse=17&amp;version=c&amp;mr=m&amp;qw=q&amp;tp=txt_p&amp;tr=hb&amp;wget=v&amp;qget=v&amp;nget=vt\" title=\"Genesis 17:17\" sec=\"Genesis 17:17\"></a>וַיִּפֹּ֧ל <span  class=\"hl\" >אַבְרָהָ֛ם </span>עַל־פָּנָ֖יו וַיִּצְחָ֑ק וַיֹּ֣אמֶר בְּלִבֹּ֗ו הַלְּבֶ֤ן מֵאָֽה־שָׁנָה֙ יִוָּלֵ֔ד וְאִ֨ם־שָׂרָ֔ה הֲבַת־תִּשְׁעִ֥ים שָׁנָ֖ה תֵּלֵֽד׃ </span></td><td class=\"tf\"><span class=\"hb\"><span  class=\"hl\" >אַבְרָהָ֛ם </span></span></td></tr>\n",
       "<tr class=\"tf\"><td class=\"tf\">5</td><td class=\"tf\"> <a href=\"https://shebanq.ancient-data.org/hebrew/text?book=Genesis&amp;chapter=17&amp;verse=18&amp;version=c&amp;mr=m&amp;qw=q&amp;tp=txt_p&amp;tr=hb&amp;wget=v&amp;qget=v&amp;nget=vt\" title=\"show this passage in SHEBANQ\" sec=\"Genesis 17:18\">Genesis 17:18</a></td><td class=\"tf\"><span class=\"hb\"><a class=\"vn\" href=\"https://shebanq.ancient-data.org/hebrew/text?book=Genesis&amp;chapter=17&amp;verse=18&amp;version=c&amp;mr=m&amp;qw=q&amp;tp=txt_p&amp;tr=hb&amp;wget=v&amp;qget=v&amp;nget=vt\" title=\"Genesis 17:18\" sec=\"Genesis 17:18\"></a>וַיֹּ֥אמֶר <span  class=\"hl\" >אַבְרָהָ֖ם </span>אֶל־הָֽאֱלֹהִ֑ים ל֥וּ יִשְׁמָעֵ֖אל יִחְיֶ֥ה לְפָנֶֽיךָ׃ </span></td><td class=\"tf\"><span class=\"hb\"><span  class=\"hl\" >אַבְרָהָ֖ם </span></span></td></tr>\n",
       "<tr class=\"tf\"><td class=\"tf\">6</td><td class=\"tf\"> <a href=\"https://shebanq.ancient-data.org/hebrew/text?book=Genesis&amp;chapter=17&amp;verse=22&amp;version=c&amp;mr=m&amp;qw=q&amp;tp=txt_p&amp;tr=hb&amp;wget=v&amp;qget=v&amp;nget=vt\" title=\"show this passage in SHEBANQ\" sec=\"Genesis 17:22\">Genesis 17:22</a></td><td class=\"tf\"><span class=\"hb\"><a class=\"vn\" href=\"https://shebanq.ancient-data.org/hebrew/text?book=Genesis&amp;chapter=17&amp;verse=22&amp;version=c&amp;mr=m&amp;qw=q&amp;tp=txt_p&amp;tr=hb&amp;wget=v&amp;qget=v&amp;nget=vt\" title=\"Genesis 17:22\" sec=\"Genesis 17:22\"></a>וַיְכַ֖ל לְדַבֵּ֣ר אִתֹּ֑ו וַיַּ֣עַל אֱלֹהִ֔ים מֵעַ֖ל <span  class=\"hl\" >אַבְרָהָֽם׃ </span></span></td><td class=\"tf\"><span class=\"hb\"><span  class=\"hl\" >אַבְרָהָֽם׃ </span></span></td></tr>\n",
       "<tr class=\"tf\"><td class=\"tf\">7</td><td class=\"tf\"> <a href=\"https://shebanq.ancient-data.org/hebrew/text?book=Genesis&amp;chapter=17&amp;verse=23&amp;version=c&amp;mr=m&amp;qw=q&amp;tp=txt_p&amp;tr=hb&amp;wget=v&amp;qget=v&amp;nget=vt\" title=\"show this passage in SHEBANQ\" sec=\"Genesis 17:23\">Genesis 17:23</a></td><td class=\"tf\"><span class=\"hb\"><a class=\"vn\" href=\"https://shebanq.ancient-data.org/hebrew/text?book=Genesis&amp;chapter=17&amp;verse=23&amp;version=c&amp;mr=m&amp;qw=q&amp;tp=txt_p&amp;tr=hb&amp;wget=v&amp;qget=v&amp;nget=vt\" title=\"Genesis 17:23\" sec=\"Genesis 17:23\"></a>וַיִּקַּ֨ח <span  class=\"hl\" >אַבְרָהָ֜ם </span>אֶת־יִשְׁמָעֵ֣אל בְּנֹ֗ו וְאֵ֨ת כָּל־יְלִידֵ֤י בֵיתֹו֙ וְאֵת֙ כָּל־מִקְנַ֣ת כַּסְפֹּ֔ו כָּל־זָכָ֕ר בְּאַנְשֵׁ֖י בֵּ֣ית אַבְרָהָ֑ם וַיָּ֜מָל אֶת־בְּשַׂ֣ר עָרְלָתָ֗ם בְּעֶ֨צֶם֙ הַיֹּ֣ום הַזֶּ֔ה כַּאֲשֶׁ֛ר דִּבֶּ֥ר אִתֹּ֖ו אֱלֹהִֽים׃ </span></td><td class=\"tf\"><span class=\"hb\"><span  class=\"hl\" >אַבְרָהָ֜ם </span></span></td></tr>\n",
       "<tr class=\"tf\"><td class=\"tf\">8</td><td class=\"tf\"> <a href=\"https://shebanq.ancient-data.org/hebrew/text?book=Genesis&amp;chapter=17&amp;verse=23&amp;version=c&amp;mr=m&amp;qw=q&amp;tp=txt_p&amp;tr=hb&amp;wget=v&amp;qget=v&amp;nget=vt\" title=\"show this passage in SHEBANQ\" sec=\"Genesis 17:23\">Genesis 17:23</a></td><td class=\"tf\"><span class=\"hb\"><a class=\"vn\" href=\"https://shebanq.ancient-data.org/hebrew/text?book=Genesis&amp;chapter=17&amp;verse=23&amp;version=c&amp;mr=m&amp;qw=q&amp;tp=txt_p&amp;tr=hb&amp;wget=v&amp;qget=v&amp;nget=vt\" title=\"Genesis 17:23\" sec=\"Genesis 17:23\"></a>וַיִּקַּ֨ח אַבְרָהָ֜ם אֶת־יִשְׁמָעֵ֣אל בְּנֹ֗ו וְאֵ֨ת כָּל־יְלִידֵ֤י בֵיתֹו֙ וְאֵת֙ כָּל־מִקְנַ֣ת כַּסְפֹּ֔ו כָּל־זָכָ֕ר בְּאַנְשֵׁ֖י בֵּ֣ית <span  class=\"hl\" >אַבְרָהָ֑ם </span>וַיָּ֜מָל אֶת־בְּשַׂ֣ר עָרְלָתָ֗ם בְּעֶ֨צֶם֙ הַיֹּ֣ום הַזֶּ֔ה כַּאֲשֶׁ֛ר דִּבֶּ֥ר אִתֹּ֖ו אֱלֹהִֽים׃ </span></td><td class=\"tf\"><span class=\"hb\"><span  class=\"hl\" >אַבְרָהָ֑ם </span></span></td></tr>\n",
       "<tr class=\"tf\"><td class=\"tf\">9</td><td class=\"tf\"> <a href=\"https://shebanq.ancient-data.org/hebrew/text?book=Genesis&amp;chapter=17&amp;verse=24&amp;version=c&amp;mr=m&amp;qw=q&amp;tp=txt_p&amp;tr=hb&amp;wget=v&amp;qget=v&amp;nget=vt\" title=\"show this passage in SHEBANQ\" sec=\"Genesis 17:24\">Genesis 17:24</a></td><td class=\"tf\"><span class=\"hb\"><a class=\"vn\" href=\"https://shebanq.ancient-data.org/hebrew/text?book=Genesis&amp;chapter=17&amp;verse=24&amp;version=c&amp;mr=m&amp;qw=q&amp;tp=txt_p&amp;tr=hb&amp;wget=v&amp;qget=v&amp;nget=vt\" title=\"Genesis 17:24\" sec=\"Genesis 17:24\"></a>וְ<span  class=\"hl\" >אַ֨בְרָהָ֔ם </span>בֶּן־תִּשְׁעִ֥ים וָתֵ֖שַׁע שָׁנָ֑ה בְּהִמֹּלֹ֖ו בְּשַׂ֥ר עָרְלָתֹֽו׃ </span></td><td class=\"tf\"><span class=\"hb\"><span  class=\"hl\" >אַ֨בְרָהָ֔ם </span></span></td></tr></table>"
      ],
      "text/plain": [
       "<IPython.core.display.HTML object>"
      ]
     },
     "metadata": {},
     "output_type": "display_data"
    }
   ],
   "source": [
    "AbrahamSearch = '''\n",
    "verse book=Genesis chapter=17|18|19|10|21|22\n",
    "    word lex=>BRHM/\n",
    "'''\n",
    "AbrahamSearchFindings  = A.search(AbrahamSearch)\n",
    "A.table(AbrahamSearchFindings, start=1, end=9, condensed=False)\n",
    "\n",
    "## see SHEBANQ query results here: https://shebanq.ancient-data.org/hebrew/query?version=4b&id=1365 "
   ]
  },
  {
   "cell_type": "markdown",
   "metadata": {},
   "source": [
    "As you can see above, I used the latin transliteration for the word אברהם=>BRHM/.\n",
    "I prefer this as it allows me type quicker and not have to switch my keyboard back and forward. You can find the transliteration table here: https://annotation.github.io/text-fabric/Writing/Hebrew\n",
    "\n",
    "You can of course also choose to write in Hebrew script. \n",
    "\n",
    "```\n",
    "AbrahamSearch = '''\n",
    "verse book=Genesis chapter=17|18|19|10|21|22\n",
    "    word lex_utf8=אברהם\n",
    "'''\n",
    "```\n",
    "\n",
    "This will render the same results.\n",
    "\n",
    "With \"/\" at the end of >BRHM you define that word as a noun.\n",
    "\n",
    "With \"[\" at the end of a word you define that word as a verb.\n",
    "\n",
    "=> When you search for nouns you have to add “/” behind the word: \"DBR/\" (word)\n",
    "\n",
    "=> When you search for verbs you have to add “[“ behind the word. \"DBR[\" (to speak)\n",
    "\n",
    "If you want to save time with typing Hebrew words or transliterated words, you can just copy/paste them from a concrete text. For example:\n",
    "\n",
    "![SHEBANQ](https://nm2f9q.dm.files.1drv.com/y4mL82tD0qhezyEf4i6tKGPh5ZHIPHWcGrG6wlQndwxmEPKzMQPsXKe0KePG3GuQ5IGIIL0Zk_QSWoE4zFWqVBJyF9-VgjUQXWXhBZSMW48HQheAxjEbW1Rfg2xXDuCT-sHwGEz_TeVdYvummXGVZ883-4q-zeJxD60r2QMylP8622Do0LTQ6C7YumWv9ZP5w9Gb25GE9u4qIebBb-q3Tnfmg/Annotation%202019-06-09%20165506.png \"SHEBANQ Syntax visualiation\")"
   ]
  },
  {
   "cell_type": "markdown",
   "metadata": {},
   "source": [
    "#### Advanced Word Search\n",
    "Searching “Abraham” in clauses that contain a verb in qatal(perfect) tense in the book of Genesis."
   ]
  },
  {
   "cell_type": "code",
   "execution_count": 5,
   "metadata": {},
   "outputs": [
    {
     "name": "stdout",
     "output_type": "stream",
     "text": [
      "  1.15s 35 results\n"
     ]
    },
    {
     "data": {
      "text/html": [
       "<table>\n",
       "<tr class=\"tf\">\n",
       "  <th class=\"tf\">n</th><th class=\"tf\">p</th>\n",
       "  <th class=\"tf\">verse</th><th>word</th><th>word</th><th>clause</th>\n",
       "</tr>\n",
       "\n",
       "<tr class=\"tf\"><td class=\"tf\">3</td><td class=\"tf\"> <a href=\"https://shebanq.ancient-data.org/hebrew/text?book=Genesis&amp;chapter=18&amp;verse=7&amp;version=c&amp;mr=m&amp;qw=q&amp;tp=txt_p&amp;tr=hb&amp;wget=v&amp;qget=v&amp;nget=vt\" title=\"show this passage in SHEBANQ\" sec=\"Genesis 18:7\">Genesis 18:7</a></td><td class=\"tf\"><span class=\"hb\"><a class=\"vn\" href=\"https://shebanq.ancient-data.org/hebrew/text?book=Genesis&amp;chapter=18&amp;verse=7&amp;version=c&amp;mr=m&amp;qw=q&amp;tp=txt_p&amp;tr=hb&amp;wget=v&amp;qget=v&amp;nget=vt\" title=\"Genesis 18:7\" sec=\"Genesis 18:7\"></a><span  class=\"hlup\" >וְ</span><span  class=\"hlup\" >אֶל־</span><span  class=\"hlup\" >הַ</span><span  class=\"hlup\" >בָּקָ֖ר </span><span  class=\"hl hlup\" >רָ֣ץ </span><span  class=\"hl hlup\" >אַבְרָהָ֑ם </span>וַיִּקַּ֨ח בֶּן־בָּקָ֜ר רַ֤ךְ וָטֹוב֙ וַיִּתֵּ֣ן אֶל־הַנַּ֔עַר וַיְמַהֵ֖ר לַעֲשֹׂ֥ות אֹתֹֽו׃ </span></td><td class=\"tf\"><span class=\"hb\"><span  class=\"hl hlup\" >רָ֣ץ </span></span></td><td class=\"tf\"><span class=\"hb\"><span  class=\"hl hlup\" >אַבְרָהָ֑ם </span></span></td><td class=\"tf\"><span class=\"hb\"><span  class=\"hlup\" >וְ</span><span  class=\"hlup\" >אֶל־</span><span  class=\"hlup\" >הַ</span><span  class=\"hlup\" >בָּקָ֖ר </span><span  class=\"hl hlup\" >רָ֣ץ </span><span  class=\"hl hlup\" >אַבְרָהָ֑ם </span></span></td></tr>\n",
       "<tr class=\"tf\"><td class=\"tf\">4</td><td class=\"tf\"> <a href=\"https://shebanq.ancient-data.org/hebrew/text?book=Genesis&amp;chapter=18&amp;verse=33&amp;version=c&amp;mr=m&amp;qw=q&amp;tp=txt_p&amp;tr=hb&amp;wget=v&amp;qget=v&amp;nget=vt\" title=\"show this passage in SHEBANQ\" sec=\"Genesis 18:33\">Genesis 18:33</a></td><td class=\"tf\"><span class=\"hb\"><a class=\"vn\" href=\"https://shebanq.ancient-data.org/hebrew/text?book=Genesis&amp;chapter=18&amp;verse=33&amp;version=c&amp;mr=m&amp;qw=q&amp;tp=txt_p&amp;tr=hb&amp;wget=v&amp;qget=v&amp;nget=vt\" title=\"Genesis 18:33\" sec=\"Genesis 18:33\"></a>וַיֵּ֣לֶךְ יְהוָ֔ה כַּאֲשֶׁ֣ר כִּלָּ֔ה לְדַבֵּ֖ר אֶל־אַבְרָהָ֑ם <span  class=\"hlup\" >וְ</span><span  class=\"hl hlup\" >אַבְרָהָ֖ם </span><span  class=\"hl hlup\" >שָׁ֥ב </span><span  class=\"hlup\" >לִ</span><span  class=\"hlup\" >מְקֹמֹֽו׃ </span></span></td><td class=\"tf\"><span class=\"hb\"><span  class=\"hl hlup\" >שָׁ֥ב </span></span></td><td class=\"tf\"><span class=\"hb\"><span  class=\"hl hlup\" >אַבְרָהָ֖ם </span></span></td><td class=\"tf\"><span class=\"hb\"><span  class=\"hlup\" >וְ</span><span  class=\"hl hlup\" >אַבְרָהָ֖ם </span><span  class=\"hl hlup\" >שָׁ֥ב </span><span  class=\"hlup\" >לִ</span><span  class=\"hlup\" >מְקֹמֹֽו׃ </span></span></td></tr></table>"
      ],
      "text/plain": [
       "<IPython.core.display.HTML object>"
      ]
     },
     "metadata": {},
     "output_type": "display_data"
    }
   ],
   "source": [
    "Abraham2='''\n",
    "book book=Genesis\n",
    "    clause\n",
    "        word vt=perf\n",
    "        word lex=>BRHM/\n",
    "'''\n",
    "Abraham2  = A.search(Abraham2)\n",
    "A.table(Abraham2, start=3, end=4, condensed=True)"
   ]
  },
  {
   "cell_type": "markdown",
   "metadata": {},
   "source": [
    "##### Codes for BHS books (books)\n",
    "A full list of verbal tenses can be found here: \n",
    "https://etcbc.github.io/bhsa/features/book/\n",
    "\n",
    "book | #chapters\n",
    "---|---\n",
    "`Genesis`      | 50\n",
    "`Exodus`       | 40\n",
    "`Leviticus`    | 27\n",
    "`Numeri`       | 36\n",
    "`Deuteronomium`| 34\n",
    "`Josua`        | 24\n",
    "`Judices`      | 21\n",
    "`Samuel_I`     | 31\n",
    "`Samuel_II`    | 24\n",
    "`Reges_I`      | 22\n",
    "`Reges_II`     | 25\n",
    "`Jesaia`       | 66\n",
    "`Jeremia`      | 52\n",
    "`Ezechiel`     | 48\n",
    "`Hosea`        | 14\n",
    "`Joel`         |  4\n",
    "`Amos`         |  9\n",
    "`Obadia`       |  1\n",
    "`Jona`         |  4\n",
    "`Micha`        |  7\n",
    "`Nahum`        |  3\n",
    "`Habakuk`      |  3\n",
    "`Zephania`     |  3\n",
    "`Haggai`       |  2\n",
    "`Sacharia`     | 14\n",
    "`Maleachi`     |  3\n",
    "`Psalmi`       |150\n",
    "`Iob`          | 42\n",
    "`Proverbia`    | 31\n",
    "`Ruth`         |  4\n",
    "`Canticum`     |  8\n",
    "`Ecclesiastes` | 12\n",
    "`Threni`       |  5\n",
    "`Esther`       | 10\n",
    "`Daniel`       | 12\n",
    "`Esra`         | 10\n",
    "`Nehemia`      | 13\n",
    "`Chronica_I`   | 29\n",
    "`Chronica_II`  | 35  \n",
    "\n",
    "##### Codes for verbal tenses (vt)\n",
    "A full list of verbal tenses can be found here: \n",
    "https://etcbc.github.io/bhsa/features/vt/\n",
    "\n",
    "code|description\n",
    "---|---\n",
    "`perf` |perfect\n",
    "`impf` |imperfect\n",
    "`wayq` |wayyiqtol\n",
    "`impv` |imperative\n",
    "`infa` |infinitive (absolute)\n",
    "`infc` |infinitive (construct)\n",
    "`ptca` |participle\n",
    "`ptcp` |participle (passive)"
   ]
  },
  {
   "cell_type": "markdown",
   "metadata": {},
   "source": [
    "#### Node Relations\n",
    "As one can see in the results above the  first case has first the qatal (perfect) tense and then Abraham, while the second case has first Abraham and then the qatal (perfect) tense.\n",
    "We can specify the relations between the elements by the following operators."
   ]
  },
  {
   "cell_type": "code",
   "execution_count": 13,
   "metadata": {},
   "outputs": [
    {
     "name": "stdout",
     "output_type": "stream",
     "text": [
      "                      = left equal to right (as node)\n",
      "                      # left unequal to right (as node)\n",
      "                      < left before right (in canonical node ordering)\n",
      "                      > left after right (in canonical node ordering)\n",
      "                     == left occupies same slots as right\n",
      "                     && left has overlapping slots with right\n",
      "                     ## left and right do not have the same slot set\n",
      "                     || left and right do not have common slots\n",
      "                     [[ left embeds right\n",
      "                     ]] left embedded in right\n",
      "                     << left completely before right\n",
      "                     >> left completely after right\n",
      "                     =: left and right start at the same slot\n",
      "                     := left and right end at the same slot\n",
      "                     :: left and right start and end at the same slot\n",
      "                     <: left immediately before right\n",
      "                     :> left immediately after right\n",
      "                    =k: left and right start at k-nearly the same slot\n",
      "                    :k= left and right end at k-nearly the same slot\n",
      "                    :k: left and right start and end at k-near slots\n",
      "                    <k: left k-nearly before right\n",
      "                    :k> left k-nearly after right\n",
      "                    .f. left.f = right.f\n",
      "                  .f=g. left.f = right.g\n",
      "                .f~r~g. left.f matches right.g\n",
      "                  .f#g. left.f # right.g\n",
      "                  .f>g. left.f > right.g\n",
      "                  .f<g. left.f > right.g\n",
      "             -crossref> edge feature \"crossref\" with value specification allowed\n",
      "             <crossref- edge feature \"crossref\" with value specification allowed (opposite direction)\n",
      "             <crossref> edge feature \"crossref\" with value specification allowed (either direction)\n",
      "          -crossrefLCS> edge feature \"crossrefLCS\" with value specification allowed\n",
      "          <crossrefLCS- edge feature \"crossrefLCS\" with value specification allowed (opposite direction)\n",
      "          <crossrefLCS> edge feature \"crossrefLCS\" with value specification allowed (either direction)\n",
      "          -crossrefSET> edge feature \"crossrefSET\" with value specification allowed\n",
      "          <crossrefSET- edge feature \"crossrefSET\" with value specification allowed (opposite direction)\n",
      "          <crossrefSET> edge feature \"crossrefSET\" with value specification allowed (either direction)\n",
      "-distributional_parent> edge feature \"distributional_parent\"\n",
      "<distributional_parent- edge feature \"distributional_parent\" (opposite direction)\n",
      "<distributional_parent> edge feature \"distributional_parent\" (either direction)\n",
      "    -functional_parent> edge feature \"functional_parent\"\n",
      "    <functional_parent- edge feature \"functional_parent\" (opposite direction)\n",
      "    <functional_parent> edge feature \"functional_parent\" (either direction)\n",
      "               -mother> edge feature \"mother\"\n",
      "               <mother- edge feature \"mother\" (opposite direction)\n",
      "               <mother> edge feature \"mother\" (either direction)\n",
      "The warp feature \"oslots\" cannot be used in searches.\n",
      "One of the above relations on nodes and/or slots will suit you better.\n"
     ]
    }
   ],
   "source": [
    "S.relationsLegend()"
   ]
  },
  {
   "cell_type": "markdown",
   "metadata": {},
   "source": [
    "Lets now run the same query but define that the qatal (perfect tense) needs to **follow right after** the word Abraham."
   ]
  },
  {
   "cell_type": "code",
   "execution_count": 14,
   "metadata": {},
   "outputs": [
    {
     "name": "stdout",
     "output_type": "stream",
     "text": [
      "  0.94s 3 results\n"
     ]
    },
    {
     "data": {
      "text/html": [
       "<p><b>verse</b> <i>1</i></p>"
      ],
      "text/plain": [
       "<IPython.core.display.HTML object>"
      ]
     },
     "metadata": {},
     "output_type": "display_data"
    },
    {
     "data": {
      "text/html": [
       "<div class=\"verse  \" >\n",
       "\n",
       "    <div class=\"vl\">\n",
       "        <div class=\"vrs\"><a href=\"https://shebanq.ancient-data.org/hebrew/text?book=Genesis&amp;chapter=18&amp;verse=33&amp;version=c&amp;mr=m&amp;qw=q&amp;tp=txt_p&amp;tr=hb&amp;wget=v&amp;qget=v&amp;nget=vt\" title=\"show this passage in SHEBANQ\" sec=\"Genesis 18:33\">Genesis 18:33</a></div>\n",
       "        \n",
       "    </div>\n",
       "\n",
       "<div class=\"satom  \" >\n",
       "\n",
       "    <div class=\"sentence \" >\n",
       "        <a href=\"https://shebanq.ancient-data.org/hebrew/text?book=Genesis&amp;chapter=18&amp;verse=33&amp;version=c&amp;mr=m&amp;qw=q&amp;tp=txt_p&amp;tr=hb&amp;wget=v&amp;qget=v&amp;nget=vt\" title=\"Genesis 18:33\" sec=\"Genesis 18:33\">sentence</a>   <span class=\"number\">123|1167</span>\n",
       "    </div>\n",
       "    <div class=\"atoms\">\n",
       "\n",
       "<div class=\"catom  \" >\n",
       "\n",
       "    <div class=\"clause \" >\n",
       "        <a href=\"https://shebanq.ancient-data.org/hebrew/text?book=Genesis&amp;chapter=18&amp;verse=33&amp;version=c&amp;mr=m&amp;qw=q&amp;tp=txt_p&amp;tr=hb&amp;wget=v&amp;qget=v&amp;nget=vt\" title=\"Genesis 18:33\" sec=\"Genesis 18:33\">clause</a>   <span class=\"typ\">WayX</span>\n",
       "    </div>\n",
       "    <div class=\"atoms\">\n",
       "\n",
       "<div class=\"patom  \" >\n",
       "\n",
       "    <div class=\"phrase \" >\n",
       "        <a href=\"https://shebanq.ancient-data.org/hebrew/text?book=Genesis&amp;chapter=18&amp;verse=33&amp;version=c&amp;mr=m&amp;qw=q&amp;tp=txt_p&amp;tr=hb&amp;wget=v&amp;qget=v&amp;nget=vt\" title=\"Genesis 18:33\" sec=\"Genesis 18:33\">phrase</a>   <span class=\"function\">Conj</span> <span class=\"typ\">CP</span>\n",
       "    </div>\n",
       "    <div class=\"atoms\">\n",
       "\n",
       "<div class=\"word  \" >\n",
       "<div class=\"h\"><a target=\"_blank\" href=\"https://shebanq.ancient-data.org/hebrew/word?version=c&amp;id=1W\" title=\"show this lexeme in SHEBANQ\">וַ</a></div>\n",
       "<div class=\"features\"> <span class=\"pdp\"><a href=\"https://shebanq.ancient-data.org/hebrew/text?book=Genesis&amp;chapter=18&amp;verse=33&amp;version=c&amp;mr=m&amp;qw=q&amp;tp=txt_p&amp;tr=hb&amp;wget=v&amp;qget=v&amp;nget=vt\" title=\"Genesis 18:33\" sec=\"Genesis 18:33\">conj</a></span> <span class=\"gloss\">and</span> <span class=\"lex xft\"><span class=\"f\">lex=</span>W</span></div>\n",
       "\n",
       "\n",
       "</div>\n",
       "\n",
       "\n",
       "    </div>\n",
       "\n",
       "\n",
       "</div>\n",
       "\n",
       "<div class=\"patom  \" >\n",
       "\n",
       "    <div class=\"phrase \" >\n",
       "        <a href=\"https://shebanq.ancient-data.org/hebrew/text?book=Genesis&amp;chapter=18&amp;verse=33&amp;version=c&amp;mr=m&amp;qw=q&amp;tp=txt_p&amp;tr=hb&amp;wget=v&amp;qget=v&amp;nget=vt\" title=\"Genesis 18:33\" sec=\"Genesis 18:33\">phrase</a>   <span class=\"function\">Pred</span> <span class=\"typ\">VP</span>\n",
       "    </div>\n",
       "    <div class=\"atoms\">\n",
       "\n",
       "<div class=\"word  \" >\n",
       "<div class=\"h\"><a target=\"_blank\" href=\"https://shebanq.ancient-data.org/hebrew/word?version=c&amp;id=1HLKv\" title=\"show this lexeme in SHEBANQ\">יֵּ֣לֶךְ </a></div>\n",
       "<div class=\"features\"> <span class=\"pdp\"><a href=\"https://shebanq.ancient-data.org/hebrew/text?book=Genesis&amp;chapter=18&amp;verse=33&amp;version=c&amp;mr=m&amp;qw=q&amp;tp=txt_p&amp;tr=hb&amp;wget=v&amp;qget=v&amp;nget=vt\" title=\"Genesis 18:33\" sec=\"Genesis 18:33\">verb</a></span> <span class=\"gloss\">walk</span> <span class=\"vs\">qal</span> <span class=\"vt\">wayq</span> <span class=\"lex xft\"><span class=\"f\">lex=</span>HLK[</span></div>\n",
       "\n",
       "\n",
       "</div>\n",
       "\n",
       "\n",
       "    </div>\n",
       "\n",
       "\n",
       "</div>\n",
       "\n",
       "<div class=\"patom  \" >\n",
       "\n",
       "    <div class=\"phrase \" >\n",
       "        <a href=\"https://shebanq.ancient-data.org/hebrew/text?book=Genesis&amp;chapter=18&amp;verse=33&amp;version=c&amp;mr=m&amp;qw=q&amp;tp=txt_p&amp;tr=hb&amp;wget=v&amp;qget=v&amp;nget=vt\" title=\"Genesis 18:33\" sec=\"Genesis 18:33\">phrase</a>   <span class=\"function\">Subj</span> <span class=\"typ\">PrNP</span>\n",
       "    </div>\n",
       "    <div class=\"atoms\">\n",
       "\n",
       "<div class=\"word  \" >\n",
       "<div class=\"h\"><a target=\"_blank\" href=\"https://shebanq.ancient-data.org/hebrew/word?version=c&amp;id=1JHWHn\" title=\"show this lexeme in SHEBANQ\">יְהוָ֔ה </a></div>\n",
       "<div class=\"features\"> <span class=\"pdp\"><a href=\"https://shebanq.ancient-data.org/hebrew/text?book=Genesis&amp;chapter=18&amp;verse=33&amp;version=c&amp;mr=m&amp;qw=q&amp;tp=txt_p&amp;tr=hb&amp;wget=v&amp;qget=v&amp;nget=vt\" title=\"Genesis 18:33\" sec=\"Genesis 18:33\">nmpr</a></span> <span class=\"gloss\">YHWH</span> <span class=\"lex xft\"><span class=\"f\">lex=</span>JHWH/</span></div>\n",
       "\n",
       "\n",
       "</div>\n",
       "\n",
       "\n",
       "    </div>\n",
       "\n",
       "\n",
       "</div>\n",
       "\n",
       "\n",
       "    </div>\n",
       "\n",
       "\n",
       "</div>\n",
       "\n",
       "<div class=\"catom  \" >\n",
       "\n",
       "    <div class=\"clause \" >\n",
       "        <a href=\"https://shebanq.ancient-data.org/hebrew/text?book=Genesis&amp;chapter=18&amp;verse=33&amp;version=c&amp;mr=m&amp;qw=q&amp;tp=txt_p&amp;tr=hb&amp;wget=v&amp;qget=v&amp;nget=vt\" title=\"Genesis 18:33\" sec=\"Genesis 18:33\">clause</a>   <span class=\"rela\">Adju</span> <span class=\"typ\">xQt0</span>\n",
       "    </div>\n",
       "    <div class=\"atoms\">\n",
       "\n",
       "<div class=\"patom  \" >\n",
       "\n",
       "    <div class=\"phrase \" >\n",
       "        <a href=\"https://shebanq.ancient-data.org/hebrew/text?book=Genesis&amp;chapter=18&amp;verse=33&amp;version=c&amp;mr=m&amp;qw=q&amp;tp=txt_p&amp;tr=hb&amp;wget=v&amp;qget=v&amp;nget=vt\" title=\"Genesis 18:33\" sec=\"Genesis 18:33\">phrase</a>   <span class=\"function\">Conj</span> <span class=\"typ\">CP</span>\n",
       "    </div>\n",
       "    <div class=\"atoms\">\n",
       "\n",
       "<div class=\"word  \" >\n",
       "<div class=\"h\"><a target=\"_blank\" href=\"https://shebanq.ancient-data.org/hebrew/word?version=c&amp;id=1K\" title=\"show this lexeme in SHEBANQ\">כַּ</a></div>\n",
       "<div class=\"features\"> <span class=\"pdp\"><a href=\"https://shebanq.ancient-data.org/hebrew/text?book=Genesis&amp;chapter=18&amp;verse=33&amp;version=c&amp;mr=m&amp;qw=q&amp;tp=txt_p&amp;tr=hb&amp;wget=v&amp;qget=v&amp;nget=vt\" title=\"Genesis 18:33\" sec=\"Genesis 18:33\">prep</a></span> <span class=\"gloss\">as</span> <span class=\"lex xft\"><span class=\"f\">lex=</span>K</span></div>\n",
       "\n",
       "\n",
       "</div>\n",
       "\n",
       "<div class=\"word  \" >\n",
       "<div class=\"h\"><a target=\"_blank\" href=\"https://shebanq.ancient-data.org/hebrew/word?version=c&amp;id=1ACR\" title=\"show this lexeme in SHEBANQ\">אֲשֶׁ֣ר </a></div>\n",
       "<div class=\"features\"> <span class=\"pdp\"><a href=\"https://shebanq.ancient-data.org/hebrew/text?book=Genesis&amp;chapter=18&amp;verse=33&amp;version=c&amp;mr=m&amp;qw=q&amp;tp=txt_p&amp;tr=hb&amp;wget=v&amp;qget=v&amp;nget=vt\" title=\"Genesis 18:33\" sec=\"Genesis 18:33\">conj</a></span> <span class=\"gloss\">&lt;relative></span> <span class=\"lex xft\"><span class=\"f\">lex=</span>>CR</span></div>\n",
       "\n",
       "\n",
       "</div>\n",
       "\n",
       "\n",
       "    </div>\n",
       "\n",
       "\n",
       "</div>\n",
       "\n",
       "<div class=\"patom  \" >\n",
       "\n",
       "    <div class=\"phrase \" >\n",
       "        <a href=\"https://shebanq.ancient-data.org/hebrew/text?book=Genesis&amp;chapter=18&amp;verse=33&amp;version=c&amp;mr=m&amp;qw=q&amp;tp=txt_p&amp;tr=hb&amp;wget=v&amp;qget=v&amp;nget=vt\" title=\"Genesis 18:33\" sec=\"Genesis 18:33\">phrase</a>   <span class=\"function\">Pred</span> <span class=\"typ\">VP</span>\n",
       "    </div>\n",
       "    <div class=\"atoms\">\n",
       "\n",
       "<div class=\"word  \" >\n",
       "<div class=\"h\"><a target=\"_blank\" href=\"https://shebanq.ancient-data.org/hebrew/word?version=c&amp;id=1KLHv\" title=\"show this lexeme in SHEBANQ\">כִּלָּ֔ה </a></div>\n",
       "<div class=\"features\"> <span class=\"pdp\"><a href=\"https://shebanq.ancient-data.org/hebrew/text?book=Genesis&amp;chapter=18&amp;verse=33&amp;version=c&amp;mr=m&amp;qw=q&amp;tp=txt_p&amp;tr=hb&amp;wget=v&amp;qget=v&amp;nget=vt\" title=\"Genesis 18:33\" sec=\"Genesis 18:33\">verb</a></span> <span class=\"gloss\">be complete</span> <span class=\"vs\">piel</span> <span class=\"vt\">perf</span> <span class=\"lex xft\"><span class=\"f\">lex=</span>KLH[</span></div>\n",
       "\n",
       "\n",
       "</div>\n",
       "\n",
       "\n",
       "    </div>\n",
       "\n",
       "\n",
       "</div>\n",
       "\n",
       "\n",
       "    </div>\n",
       "\n",
       "\n",
       "</div>\n",
       "\n",
       "<div class=\"catom  \" >\n",
       "\n",
       "    <div class=\"clause \" >\n",
       "        <a href=\"https://shebanq.ancient-data.org/hebrew/text?book=Genesis&amp;chapter=18&amp;verse=33&amp;version=c&amp;mr=m&amp;qw=q&amp;tp=txt_p&amp;tr=hb&amp;wget=v&amp;qget=v&amp;nget=vt\" title=\"Genesis 18:33\" sec=\"Genesis 18:33\">clause</a>   <span class=\"rela\">Adju</span> <span class=\"typ\">InfC</span>\n",
       "    </div>\n",
       "    <div class=\"atoms\">\n",
       "\n",
       "<div class=\"patom  \" >\n",
       "\n",
       "    <div class=\"phrase \" >\n",
       "        <a href=\"https://shebanq.ancient-data.org/hebrew/text?book=Genesis&amp;chapter=18&amp;verse=33&amp;version=c&amp;mr=m&amp;qw=q&amp;tp=txt_p&amp;tr=hb&amp;wget=v&amp;qget=v&amp;nget=vt\" title=\"Genesis 18:33\" sec=\"Genesis 18:33\">phrase</a>   <span class=\"function\">Pred</span> <span class=\"typ\">VP</span>\n",
       "    </div>\n",
       "    <div class=\"atoms\">\n",
       "\n",
       "<div class=\"word  \" >\n",
       "<div class=\"h\"><a target=\"_blank\" href=\"https://shebanq.ancient-data.org/hebrew/word?version=c&amp;id=1L\" title=\"show this lexeme in SHEBANQ\">לְ</a></div>\n",
       "<div class=\"features\"> <span class=\"pdp\"><a href=\"https://shebanq.ancient-data.org/hebrew/text?book=Genesis&amp;chapter=18&amp;verse=33&amp;version=c&amp;mr=m&amp;qw=q&amp;tp=txt_p&amp;tr=hb&amp;wget=v&amp;qget=v&amp;nget=vt\" title=\"Genesis 18:33\" sec=\"Genesis 18:33\">prep</a></span> <span class=\"gloss\">to</span> <span class=\"lex xft\"><span class=\"f\">lex=</span>L</span></div>\n",
       "\n",
       "\n",
       "</div>\n",
       "\n",
       "<div class=\"word  \" >\n",
       "<div class=\"h\"><a target=\"_blank\" href=\"https://shebanq.ancient-data.org/hebrew/word?version=c&amp;id=1DBRv\" title=\"show this lexeme in SHEBANQ\">דַבֵּ֖ר </a></div>\n",
       "<div class=\"features\"> <span class=\"pdp\"><a href=\"https://shebanq.ancient-data.org/hebrew/text?book=Genesis&amp;chapter=18&amp;verse=33&amp;version=c&amp;mr=m&amp;qw=q&amp;tp=txt_p&amp;tr=hb&amp;wget=v&amp;qget=v&amp;nget=vt\" title=\"Genesis 18:33\" sec=\"Genesis 18:33\">verb</a></span> <span class=\"gloss\">speak</span> <span class=\"vs\">piel</span> <span class=\"vt\">infc</span> <span class=\"lex xft\"><span class=\"f\">lex=</span>DBR[</span></div>\n",
       "\n",
       "\n",
       "</div>\n",
       "\n",
       "\n",
       "    </div>\n",
       "\n",
       "\n",
       "</div>\n",
       "\n",
       "<div class=\"patom  \" >\n",
       "\n",
       "    <div class=\"phrase \" >\n",
       "        <a href=\"https://shebanq.ancient-data.org/hebrew/text?book=Genesis&amp;chapter=18&amp;verse=33&amp;version=c&amp;mr=m&amp;qw=q&amp;tp=txt_p&amp;tr=hb&amp;wget=v&amp;qget=v&amp;nget=vt\" title=\"Genesis 18:33\" sec=\"Genesis 18:33\">phrase</a>   <span class=\"function\">Cmpl</span> <span class=\"typ\">PP</span>\n",
       "    </div>\n",
       "    <div class=\"atoms\">\n",
       "\n",
       "<div class=\"word  \" >\n",
       "<div class=\"h\"><a target=\"_blank\" href=\"https://shebanq.ancient-data.org/hebrew/word?version=c&amp;id=1AL\" title=\"show this lexeme in SHEBANQ\">אֶל־</a></div>\n",
       "<div class=\"features\"> <span class=\"pdp\"><a href=\"https://shebanq.ancient-data.org/hebrew/text?book=Genesis&amp;chapter=18&amp;verse=33&amp;version=c&amp;mr=m&amp;qw=q&amp;tp=txt_p&amp;tr=hb&amp;wget=v&amp;qget=v&amp;nget=vt\" title=\"Genesis 18:33\" sec=\"Genesis 18:33\">prep</a></span> <span class=\"gloss\">to</span> <span class=\"lex xft\"><span class=\"f\">lex=</span>>L</span></div>\n",
       "\n",
       "\n",
       "</div>\n",
       "\n",
       "<div class=\"word  \" >\n",
       "<div class=\"h\"><a target=\"_blank\" href=\"https://shebanq.ancient-data.org/hebrew/word?version=c&amp;id=1ABRHMn\" title=\"show this lexeme in SHEBANQ\">אַבְרָהָ֑ם </a></div>\n",
       "<div class=\"features\"> <span class=\"pdp\"><a href=\"https://shebanq.ancient-data.org/hebrew/text?book=Genesis&amp;chapter=18&amp;verse=33&amp;version=c&amp;mr=m&amp;qw=q&amp;tp=txt_p&amp;tr=hb&amp;wget=v&amp;qget=v&amp;nget=vt\" title=\"Genesis 18:33\" sec=\"Genesis 18:33\">nmpr</a></span> <span class=\"gloss\">Abraham</span> <span class=\"lex xft\"><span class=\"f\">lex=</span>>BRHM/</span></div>\n",
       "\n",
       "\n",
       "</div>\n",
       "\n",
       "\n",
       "    </div>\n",
       "\n",
       "\n",
       "</div>\n",
       "\n",
       "\n",
       "    </div>\n",
       "\n",
       "\n",
       "</div>\n",
       "\n",
       "\n",
       "    </div>\n",
       "\n",
       "\n",
       "</div>\n",
       "\n",
       "<div class=\"satom  \" >\n",
       "\n",
       "    <div class=\"sentence \" >\n",
       "        <a href=\"https://shebanq.ancient-data.org/hebrew/text?book=Genesis&amp;chapter=18&amp;verse=33&amp;version=c&amp;mr=m&amp;qw=q&amp;tp=txt_p&amp;tr=hb&amp;wget=v&amp;qget=v&amp;nget=vt\" title=\"Genesis 18:33\" sec=\"Genesis 18:33\">sentence</a>   <span class=\"number\">124|1168</span>\n",
       "    </div>\n",
       "    <div class=\"atoms\">\n",
       "\n",
       "<div class=\"catom  hl\" >\n",
       "\n",
       "    <div class=\"clause hl\" >\n",
       "        <a href=\"https://shebanq.ancient-data.org/hebrew/text?book=Genesis&amp;chapter=18&amp;verse=33&amp;version=c&amp;mr=m&amp;qw=q&amp;tp=txt_p&amp;tr=hb&amp;wget=v&amp;qget=v&amp;nget=vt\" title=\"Genesis 18:33\" sec=\"Genesis 18:33\">clause</a>   <span class=\"typ\">WXQt</span>\n",
       "    </div>\n",
       "    <div class=\"atoms\">\n",
       "\n",
       "<div class=\"patom  \" >\n",
       "\n",
       "    <div class=\"phrase \" >\n",
       "        <a href=\"https://shebanq.ancient-data.org/hebrew/text?book=Genesis&amp;chapter=18&amp;verse=33&amp;version=c&amp;mr=m&amp;qw=q&amp;tp=txt_p&amp;tr=hb&amp;wget=v&amp;qget=v&amp;nget=vt\" title=\"Genesis 18:33\" sec=\"Genesis 18:33\">phrase</a>   <span class=\"function\">Conj</span> <span class=\"typ\">CP</span>\n",
       "    </div>\n",
       "    <div class=\"atoms\">\n",
       "\n",
       "<div class=\"word  \" >\n",
       "<div class=\"h\"><a target=\"_blank\" href=\"https://shebanq.ancient-data.org/hebrew/word?version=c&amp;id=1W\" title=\"show this lexeme in SHEBANQ\">וְ</a></div>\n",
       "<div class=\"features\"> <span class=\"pdp\"><a href=\"https://shebanq.ancient-data.org/hebrew/text?book=Genesis&amp;chapter=18&amp;verse=33&amp;version=c&amp;mr=m&amp;qw=q&amp;tp=txt_p&amp;tr=hb&amp;wget=v&amp;qget=v&amp;nget=vt\" title=\"Genesis 18:33\" sec=\"Genesis 18:33\">conj</a></span> <span class=\"gloss\">and</span> <span class=\"lex xft\"><span class=\"f\">lex=</span>W</span></div>\n",
       "\n",
       "\n",
       "</div>\n",
       "\n",
       "\n",
       "    </div>\n",
       "\n",
       "\n",
       "</div>\n",
       "\n",
       "<div class=\"patom  \" >\n",
       "\n",
       "    <div class=\"phrase \" >\n",
       "        <a href=\"https://shebanq.ancient-data.org/hebrew/text?book=Genesis&amp;chapter=18&amp;verse=33&amp;version=c&amp;mr=m&amp;qw=q&amp;tp=txt_p&amp;tr=hb&amp;wget=v&amp;qget=v&amp;nget=vt\" title=\"Genesis 18:33\" sec=\"Genesis 18:33\">phrase</a>   <span class=\"function\">Subj</span> <span class=\"typ\">PrNP</span>\n",
       "    </div>\n",
       "    <div class=\"atoms\">\n",
       "\n",
       "<div class=\"word  hl\" >\n",
       "<div class=\"h\"><a target=\"_blank\" href=\"https://shebanq.ancient-data.org/hebrew/word?version=c&amp;id=1ABRHMn\" title=\"show this lexeme in SHEBANQ\">אַבְרָהָ֖ם </a></div>\n",
       "<div class=\"features\"> <span class=\"pdp\"><a href=\"https://shebanq.ancient-data.org/hebrew/text?book=Genesis&amp;chapter=18&amp;verse=33&amp;version=c&amp;mr=m&amp;qw=q&amp;tp=txt_p&amp;tr=hb&amp;wget=v&amp;qget=v&amp;nget=vt\" title=\"Genesis 18:33\" sec=\"Genesis 18:33\">nmpr</a></span> <span class=\"gloss\">Abraham</span> <span class=\"lex xft\"><span class=\"f\">lex=</span>>BRHM/</span></div>\n",
       "\n",
       "\n",
       "</div>\n",
       "\n",
       "\n",
       "    </div>\n",
       "\n",
       "\n",
       "</div>\n",
       "\n",
       "<div class=\"patom  \" >\n",
       "\n",
       "    <div class=\"phrase \" >\n",
       "        <a href=\"https://shebanq.ancient-data.org/hebrew/text?book=Genesis&amp;chapter=18&amp;verse=33&amp;version=c&amp;mr=m&amp;qw=q&amp;tp=txt_p&amp;tr=hb&amp;wget=v&amp;qget=v&amp;nget=vt\" title=\"Genesis 18:33\" sec=\"Genesis 18:33\">phrase</a>   <span class=\"function\">Pred</span> <span class=\"typ\">VP</span>\n",
       "    </div>\n",
       "    <div class=\"atoms\">\n",
       "\n",
       "<div class=\"word  hl\" >\n",
       "<div class=\"h\"><a target=\"_blank\" href=\"https://shebanq.ancient-data.org/hebrew/word?version=c&amp;id=1CWBv\" title=\"show this lexeme in SHEBANQ\">שָׁ֥ב </a></div>\n",
       "<div class=\"features\"> <span class=\"pdp\"><a href=\"https://shebanq.ancient-data.org/hebrew/text?book=Genesis&amp;chapter=18&amp;verse=33&amp;version=c&amp;mr=m&amp;qw=q&amp;tp=txt_p&amp;tr=hb&amp;wget=v&amp;qget=v&amp;nget=vt\" title=\"Genesis 18:33\" sec=\"Genesis 18:33\">verb</a></span> <span class=\"gloss\">return</span> <span class=\"vs\">qal</span> <span class=\"vt\">perf</span> <span class=\"lex xft\"><span class=\"f\">lex=</span>CWB[</span></div>\n",
       "\n",
       "\n",
       "</div>\n",
       "\n",
       "\n",
       "    </div>\n",
       "\n",
       "\n",
       "</div>\n",
       "\n",
       "<div class=\"patom  \" >\n",
       "\n",
       "    <div class=\"phrase \" >\n",
       "        <a href=\"https://shebanq.ancient-data.org/hebrew/text?book=Genesis&amp;chapter=18&amp;verse=33&amp;version=c&amp;mr=m&amp;qw=q&amp;tp=txt_p&amp;tr=hb&amp;wget=v&amp;qget=v&amp;nget=vt\" title=\"Genesis 18:33\" sec=\"Genesis 18:33\">phrase</a>   <span class=\"function\">Cmpl</span> <span class=\"typ\">PP</span>\n",
       "    </div>\n",
       "    <div class=\"atoms\">\n",
       "\n",
       "<div class=\"word  \" >\n",
       "<div class=\"h\"><a target=\"_blank\" href=\"https://shebanq.ancient-data.org/hebrew/word?version=c&amp;id=1L\" title=\"show this lexeme in SHEBANQ\">לִ</a></div>\n",
       "<div class=\"features\"> <span class=\"pdp\"><a href=\"https://shebanq.ancient-data.org/hebrew/text?book=Genesis&amp;chapter=18&amp;verse=33&amp;version=c&amp;mr=m&amp;qw=q&amp;tp=txt_p&amp;tr=hb&amp;wget=v&amp;qget=v&amp;nget=vt\" title=\"Genesis 18:33\" sec=\"Genesis 18:33\">prep</a></span> <span class=\"gloss\">to</span> <span class=\"lex xft\"><span class=\"f\">lex=</span>L</span></div>\n",
       "\n",
       "\n",
       "</div>\n",
       "\n",
       "<div class=\"word  \" >\n",
       "<div class=\"h\"><a target=\"_blank\" href=\"https://shebanq.ancient-data.org/hebrew/word?version=c&amp;id=1MQWMn\" title=\"show this lexeme in SHEBANQ\">מְקֹמֹֽו׃ </a></div>\n",
       "<div class=\"features\"> <span class=\"pdp\"><a href=\"https://shebanq.ancient-data.org/hebrew/text?book=Genesis&amp;chapter=18&amp;verse=33&amp;version=c&amp;mr=m&amp;qw=q&amp;tp=txt_p&amp;tr=hb&amp;wget=v&amp;qget=v&amp;nget=vt\" title=\"Genesis 18:33\" sec=\"Genesis 18:33\">subs</a></span> <span class=\"gloss\">place</span> <span class=\"lex xft\"><span class=\"f\">lex=</span>MQWM/</span></div>\n",
       "\n",
       "\n",
       "</div>\n",
       "\n",
       "\n",
       "    </div>\n",
       "\n",
       "\n",
       "</div>\n",
       "\n",
       "\n",
       "    </div>\n",
       "\n",
       "\n",
       "</div>\n",
       "\n",
       "\n",
       "    </div>\n",
       "\n",
       "\n",
       "</div>\n",
       "\n",
       "\n",
       "</div>\n"
      ],
      "text/plain": [
       "<IPython.core.display.HTML object>"
      ]
     },
     "metadata": {},
     "output_type": "display_data"
    },
    {
     "data": {
      "text/html": [
       "<p><b>verse</b> <i>2</i></p>"
      ],
      "text/plain": [
       "<IPython.core.display.HTML object>"
      ]
     },
     "metadata": {},
     "output_type": "display_data"
    },
    {
     "data": {
      "text/html": [
       "<div class=\"verse  \" >\n",
       "\n",
       "    <div class=\"vl\">\n",
       "        <div class=\"vrs\"><a href=\"https://shebanq.ancient-data.org/hebrew/text?book=Genesis&amp;chapter=24&amp;verse=1&amp;version=c&amp;mr=m&amp;qw=q&amp;tp=txt_p&amp;tr=hb&amp;wget=v&amp;qget=v&amp;nget=vt\" title=\"show this passage in SHEBANQ\" sec=\"Genesis 24:1\">Genesis 24:1</a></div>\n",
       "        \n",
       "    </div>\n",
       "\n",
       "<div class=\"satom  \" >\n",
       "\n",
       "    <div class=\"sentence \" >\n",
       "        <a href=\"https://shebanq.ancient-data.org/hebrew/text?book=Genesis&amp;chapter=24&amp;verse=1&amp;version=c&amp;mr=m&amp;qw=q&amp;tp=txt_p&amp;tr=hb&amp;wget=v&amp;qget=v&amp;nget=vt\" title=\"Genesis 24:1\" sec=\"Genesis 24:1\">sentence</a>   <span class=\"number\">1|1615</span>\n",
       "    </div>\n",
       "    <div class=\"atoms\">\n",
       "\n",
       "<div class=\"catom  hl\" >\n",
       "\n",
       "    <div class=\"clause hl\" >\n",
       "        <a href=\"https://shebanq.ancient-data.org/hebrew/text?book=Genesis&amp;chapter=24&amp;verse=1&amp;version=c&amp;mr=m&amp;qw=q&amp;tp=txt_p&amp;tr=hb&amp;wget=v&amp;qget=v&amp;nget=vt\" title=\"Genesis 24:1\" sec=\"Genesis 24:1\">clause</a>   <span class=\"typ\">WXQt</span>\n",
       "    </div>\n",
       "    <div class=\"atoms\">\n",
       "\n",
       "<div class=\"patom  \" >\n",
       "\n",
       "    <div class=\"phrase \" >\n",
       "        <a href=\"https://shebanq.ancient-data.org/hebrew/text?book=Genesis&amp;chapter=24&amp;verse=1&amp;version=c&amp;mr=m&amp;qw=q&amp;tp=txt_p&amp;tr=hb&amp;wget=v&amp;qget=v&amp;nget=vt\" title=\"Genesis 24:1\" sec=\"Genesis 24:1\">phrase</a>   <span class=\"function\">Conj</span> <span class=\"typ\">CP</span>\n",
       "    </div>\n",
       "    <div class=\"atoms\">\n",
       "\n",
       "<div class=\"word  \" >\n",
       "<div class=\"h\"><a target=\"_blank\" href=\"https://shebanq.ancient-data.org/hebrew/word?version=c&amp;id=1W\" title=\"show this lexeme in SHEBANQ\">וְ</a></div>\n",
       "<div class=\"features\"> <span class=\"pdp\"><a href=\"https://shebanq.ancient-data.org/hebrew/text?book=Genesis&amp;chapter=24&amp;verse=1&amp;version=c&amp;mr=m&amp;qw=q&amp;tp=txt_p&amp;tr=hb&amp;wget=v&amp;qget=v&amp;nget=vt\" title=\"Genesis 24:1\" sec=\"Genesis 24:1\">conj</a></span> <span class=\"gloss\">and</span> <span class=\"lex xft\"><span class=\"f\">lex=</span>W</span></div>\n",
       "\n",
       "\n",
       "</div>\n",
       "\n",
       "\n",
       "    </div>\n",
       "\n",
       "\n",
       "</div>\n",
       "\n",
       "<div class=\"patom  \" >\n",
       "\n",
       "    <div class=\"phrase \" >\n",
       "        <a href=\"https://shebanq.ancient-data.org/hebrew/text?book=Genesis&amp;chapter=24&amp;verse=1&amp;version=c&amp;mr=m&amp;qw=q&amp;tp=txt_p&amp;tr=hb&amp;wget=v&amp;qget=v&amp;nget=vt\" title=\"Genesis 24:1\" sec=\"Genesis 24:1\">phrase</a>   <span class=\"function\">Subj</span> <span class=\"typ\">PrNP</span>\n",
       "    </div>\n",
       "    <div class=\"atoms\">\n",
       "\n",
       "<div class=\"word  hl\" >\n",
       "<div class=\"h\"><a target=\"_blank\" href=\"https://shebanq.ancient-data.org/hebrew/word?version=c&amp;id=1ABRHMn\" title=\"show this lexeme in SHEBANQ\">אַבְרָהָ֣ם </a></div>\n",
       "<div class=\"features\"> <span class=\"pdp\"><a href=\"https://shebanq.ancient-data.org/hebrew/text?book=Genesis&amp;chapter=24&amp;verse=1&amp;version=c&amp;mr=m&amp;qw=q&amp;tp=txt_p&amp;tr=hb&amp;wget=v&amp;qget=v&amp;nget=vt\" title=\"Genesis 24:1\" sec=\"Genesis 24:1\">nmpr</a></span> <span class=\"gloss\">Abraham</span> <span class=\"lex xft\"><span class=\"f\">lex=</span>>BRHM/</span></div>\n",
       "\n",
       "\n",
       "</div>\n",
       "\n",
       "\n",
       "    </div>\n",
       "\n",
       "\n",
       "</div>\n",
       "\n",
       "<div class=\"patom  \" >\n",
       "\n",
       "    <div class=\"phrase \" >\n",
       "        <a href=\"https://shebanq.ancient-data.org/hebrew/text?book=Genesis&amp;chapter=24&amp;verse=1&amp;version=c&amp;mr=m&amp;qw=q&amp;tp=txt_p&amp;tr=hb&amp;wget=v&amp;qget=v&amp;nget=vt\" title=\"Genesis 24:1\" sec=\"Genesis 24:1\">phrase</a>   <span class=\"function\">Pred</span> <span class=\"typ\">VP</span>\n",
       "    </div>\n",
       "    <div class=\"atoms\">\n",
       "\n",
       "<div class=\"word  hl\" >\n",
       "<div class=\"h\"><a target=\"_blank\" href=\"https://shebanq.ancient-data.org/hebrew/word?version=c&amp;id=1ZQNv\" title=\"show this lexeme in SHEBANQ\">זָקֵ֔ן </a></div>\n",
       "<div class=\"features\"> <span class=\"pdp\"><a href=\"https://shebanq.ancient-data.org/hebrew/text?book=Genesis&amp;chapter=24&amp;verse=1&amp;version=c&amp;mr=m&amp;qw=q&amp;tp=txt_p&amp;tr=hb&amp;wget=v&amp;qget=v&amp;nget=vt\" title=\"Genesis 24:1\" sec=\"Genesis 24:1\">verb</a></span> <span class=\"gloss\">be old</span> <span class=\"vs\">qal</span> <span class=\"vt\">perf</span> <span class=\"lex xft\"><span class=\"f\">lex=</span>ZQN[</span></div>\n",
       "\n",
       "\n",
       "</div>\n",
       "\n",
       "\n",
       "    </div>\n",
       "\n",
       "\n",
       "</div>\n",
       "\n",
       "\n",
       "    </div>\n",
       "\n",
       "\n",
       "</div>\n",
       "\n",
       "\n",
       "    </div>\n",
       "\n",
       "\n",
       "</div>\n",
       "\n",
       "<div class=\"satom  \" >\n",
       "\n",
       "    <div class=\"sentence \" >\n",
       "        <a href=\"https://shebanq.ancient-data.org/hebrew/text?book=Genesis&amp;chapter=24&amp;verse=1&amp;version=c&amp;mr=m&amp;qw=q&amp;tp=txt_p&amp;tr=hb&amp;wget=v&amp;qget=v&amp;nget=vt\" title=\"Genesis 24:1\" sec=\"Genesis 24:1\">sentence</a>   <span class=\"number\">2|1616</span>\n",
       "    </div>\n",
       "    <div class=\"atoms\">\n",
       "\n",
       "<div class=\"catom  \" >\n",
       "\n",
       "    <div class=\"clause \" >\n",
       "        <a href=\"https://shebanq.ancient-data.org/hebrew/text?book=Genesis&amp;chapter=24&amp;verse=1&amp;version=c&amp;mr=m&amp;qw=q&amp;tp=txt_p&amp;tr=hb&amp;wget=v&amp;qget=v&amp;nget=vt\" title=\"Genesis 24:1\" sec=\"Genesis 24:1\">clause</a>   <span class=\"typ\">ZQt0</span>\n",
       "    </div>\n",
       "    <div class=\"atoms\">\n",
       "\n",
       "<div class=\"patom  \" >\n",
       "\n",
       "    <div class=\"phrase \" >\n",
       "        <a href=\"https://shebanq.ancient-data.org/hebrew/text?book=Genesis&amp;chapter=24&amp;verse=1&amp;version=c&amp;mr=m&amp;qw=q&amp;tp=txt_p&amp;tr=hb&amp;wget=v&amp;qget=v&amp;nget=vt\" title=\"Genesis 24:1\" sec=\"Genesis 24:1\">phrase</a>   <span class=\"function\">Pred</span> <span class=\"typ\">VP</span>\n",
       "    </div>\n",
       "    <div class=\"atoms\">\n",
       "\n",
       "<div class=\"word  \" >\n",
       "<div class=\"h\"><a target=\"_blank\" href=\"https://shebanq.ancient-data.org/hebrew/word?version=c&amp;id=1BWAv\" title=\"show this lexeme in SHEBANQ\">בָּ֖א </a></div>\n",
       "<div class=\"features\"> <span class=\"pdp\"><a href=\"https://shebanq.ancient-data.org/hebrew/text?book=Genesis&amp;chapter=24&amp;verse=1&amp;version=c&amp;mr=m&amp;qw=q&amp;tp=txt_p&amp;tr=hb&amp;wget=v&amp;qget=v&amp;nget=vt\" title=\"Genesis 24:1\" sec=\"Genesis 24:1\">verb</a></span> <span class=\"gloss\">come</span> <span class=\"vs\">qal</span> <span class=\"vt\">perf</span> <span class=\"lex xft\"><span class=\"f\">lex=</span>BW>[</span></div>\n",
       "\n",
       "\n",
       "</div>\n",
       "\n",
       "\n",
       "    </div>\n",
       "\n",
       "\n",
       "</div>\n",
       "\n",
       "<div class=\"patom  \" >\n",
       "\n",
       "    <div class=\"phrase \" >\n",
       "        <a href=\"https://shebanq.ancient-data.org/hebrew/text?book=Genesis&amp;chapter=24&amp;verse=1&amp;version=c&amp;mr=m&amp;qw=q&amp;tp=txt_p&amp;tr=hb&amp;wget=v&amp;qget=v&amp;nget=vt\" title=\"Genesis 24:1\" sec=\"Genesis 24:1\">phrase</a>   <span class=\"function\">Cmpl</span> <span class=\"typ\">PP</span>\n",
       "    </div>\n",
       "    <div class=\"atoms\">\n",
       "\n",
       "<div class=\"word  \" >\n",
       "<div class=\"h\"><a target=\"_blank\" href=\"https://shebanq.ancient-data.org/hebrew/word?version=c&amp;id=1B\" title=\"show this lexeme in SHEBANQ\">בַּ</a></div>\n",
       "<div class=\"features\"> <span class=\"pdp\"><a href=\"https://shebanq.ancient-data.org/hebrew/text?book=Genesis&amp;chapter=24&amp;verse=1&amp;version=c&amp;mr=m&amp;qw=q&amp;tp=txt_p&amp;tr=hb&amp;wget=v&amp;qget=v&amp;nget=vt\" title=\"Genesis 24:1\" sec=\"Genesis 24:1\">prep</a></span> <span class=\"gloss\">in</span> <span class=\"lex xft\"><span class=\"f\">lex=</span>B</span></div>\n",
       "\n",
       "\n",
       "</div>\n",
       "\n",
       "<div class=\"word  \" >\n",
       "<div class=\"h\"><a target=\"_blank\" href=\"https://shebanq.ancient-data.org/hebrew/word?version=c&amp;id=1H\" title=\"show this lexeme in SHEBANQ\"></a></div>\n",
       "<div class=\"features\"> <span class=\"pdp\"><a href=\"https://shebanq.ancient-data.org/hebrew/text?book=Genesis&amp;chapter=24&amp;verse=1&amp;version=c&amp;mr=m&amp;qw=q&amp;tp=txt_p&amp;tr=hb&amp;wget=v&amp;qget=v&amp;nget=vt\" title=\"Genesis 24:1\" sec=\"Genesis 24:1\">art</a></span> <span class=\"gloss\">the</span> <span class=\"lex xft\"><span class=\"f\">lex=</span>H</span></div>\n",
       "\n",
       "\n",
       "</div>\n",
       "\n",
       "<div class=\"word  \" >\n",
       "<div class=\"h\"><a target=\"_blank\" href=\"https://shebanq.ancient-data.org/hebrew/word?version=c&amp;id=1JWMn\" title=\"show this lexeme in SHEBANQ\">יָּמִ֑ים </a></div>\n",
       "<div class=\"features\"> <span class=\"pdp\"><a href=\"https://shebanq.ancient-data.org/hebrew/text?book=Genesis&amp;chapter=24&amp;verse=1&amp;version=c&amp;mr=m&amp;qw=q&amp;tp=txt_p&amp;tr=hb&amp;wget=v&amp;qget=v&amp;nget=vt\" title=\"Genesis 24:1\" sec=\"Genesis 24:1\">subs</a></span> <span class=\"gloss\">day</span> <span class=\"lex xft\"><span class=\"f\">lex=</span>JWM/</span></div>\n",
       "\n",
       "\n",
       "</div>\n",
       "\n",
       "\n",
       "    </div>\n",
       "\n",
       "\n",
       "</div>\n",
       "\n",
       "\n",
       "    </div>\n",
       "\n",
       "\n",
       "</div>\n",
       "\n",
       "\n",
       "    </div>\n",
       "\n",
       "\n",
       "</div>\n",
       "\n",
       "<div class=\"satom  \" >\n",
       "\n",
       "    <div class=\"sentence \" >\n",
       "        <a href=\"https://shebanq.ancient-data.org/hebrew/text?book=Genesis&amp;chapter=24&amp;verse=1&amp;version=c&amp;mr=m&amp;qw=q&amp;tp=txt_p&amp;tr=hb&amp;wget=v&amp;qget=v&amp;nget=vt\" title=\"Genesis 24:1\" sec=\"Genesis 24:1\">sentence</a>   <span class=\"number\">3|1617</span>\n",
       "    </div>\n",
       "    <div class=\"atoms\">\n",
       "\n",
       "<div class=\"catom  \" >\n",
       "\n",
       "    <div class=\"clause \" >\n",
       "        <a href=\"https://shebanq.ancient-data.org/hebrew/text?book=Genesis&amp;chapter=24&amp;verse=1&amp;version=c&amp;mr=m&amp;qw=q&amp;tp=txt_p&amp;tr=hb&amp;wget=v&amp;qget=v&amp;nget=vt\" title=\"Genesis 24:1\" sec=\"Genesis 24:1\">clause</a>   <span class=\"typ\">WXQt</span>\n",
       "    </div>\n",
       "    <div class=\"atoms\">\n",
       "\n",
       "<div class=\"patom  \" >\n",
       "\n",
       "    <div class=\"phrase \" >\n",
       "        <a href=\"https://shebanq.ancient-data.org/hebrew/text?book=Genesis&amp;chapter=24&amp;verse=1&amp;version=c&amp;mr=m&amp;qw=q&amp;tp=txt_p&amp;tr=hb&amp;wget=v&amp;qget=v&amp;nget=vt\" title=\"Genesis 24:1\" sec=\"Genesis 24:1\">phrase</a>   <span class=\"function\">Conj</span> <span class=\"typ\">CP</span>\n",
       "    </div>\n",
       "    <div class=\"atoms\">\n",
       "\n",
       "<div class=\"word  \" >\n",
       "<div class=\"h\"><a target=\"_blank\" href=\"https://shebanq.ancient-data.org/hebrew/word?version=c&amp;id=1W\" title=\"show this lexeme in SHEBANQ\">וַֽ</a></div>\n",
       "<div class=\"features\"> <span class=\"pdp\"><a href=\"https://shebanq.ancient-data.org/hebrew/text?book=Genesis&amp;chapter=24&amp;verse=1&amp;version=c&amp;mr=m&amp;qw=q&amp;tp=txt_p&amp;tr=hb&amp;wget=v&amp;qget=v&amp;nget=vt\" title=\"Genesis 24:1\" sec=\"Genesis 24:1\">conj</a></span> <span class=\"gloss\">and</span> <span class=\"lex xft\"><span class=\"f\">lex=</span>W</span></div>\n",
       "\n",
       "\n",
       "</div>\n",
       "\n",
       "\n",
       "    </div>\n",
       "\n",
       "\n",
       "</div>\n",
       "\n",
       "<div class=\"patom  \" >\n",
       "\n",
       "    <div class=\"phrase \" >\n",
       "        <a href=\"https://shebanq.ancient-data.org/hebrew/text?book=Genesis&amp;chapter=24&amp;verse=1&amp;version=c&amp;mr=m&amp;qw=q&amp;tp=txt_p&amp;tr=hb&amp;wget=v&amp;qget=v&amp;nget=vt\" title=\"Genesis 24:1\" sec=\"Genesis 24:1\">phrase</a>   <span class=\"function\">Subj</span> <span class=\"typ\">PrNP</span>\n",
       "    </div>\n",
       "    <div class=\"atoms\">\n",
       "\n",
       "<div class=\"word  \" >\n",
       "<div class=\"h\"><a target=\"_blank\" href=\"https://shebanq.ancient-data.org/hebrew/word?version=c&amp;id=1JHWHn\" title=\"show this lexeme in SHEBANQ\">יהוָ֛ה </a></div>\n",
       "<div class=\"features\"> <span class=\"pdp\"><a href=\"https://shebanq.ancient-data.org/hebrew/text?book=Genesis&amp;chapter=24&amp;verse=1&amp;version=c&amp;mr=m&amp;qw=q&amp;tp=txt_p&amp;tr=hb&amp;wget=v&amp;qget=v&amp;nget=vt\" title=\"Genesis 24:1\" sec=\"Genesis 24:1\">nmpr</a></span> <span class=\"gloss\">YHWH</span> <span class=\"lex xft\"><span class=\"f\">lex=</span>JHWH/</span></div>\n",
       "\n",
       "\n",
       "</div>\n",
       "\n",
       "\n",
       "    </div>\n",
       "\n",
       "\n",
       "</div>\n",
       "\n",
       "<div class=\"patom  \" >\n",
       "\n",
       "    <div class=\"phrase \" >\n",
       "        <a href=\"https://shebanq.ancient-data.org/hebrew/text?book=Genesis&amp;chapter=24&amp;verse=1&amp;version=c&amp;mr=m&amp;qw=q&amp;tp=txt_p&amp;tr=hb&amp;wget=v&amp;qget=v&amp;nget=vt\" title=\"Genesis 24:1\" sec=\"Genesis 24:1\">phrase</a>   <span class=\"function\">Pred</span> <span class=\"typ\">VP</span>\n",
       "    </div>\n",
       "    <div class=\"atoms\">\n",
       "\n",
       "<div class=\"word  \" >\n",
       "<div class=\"h\"><a target=\"_blank\" href=\"https://shebanq.ancient-data.org/hebrew/word?version=c&amp;id=1BRKv\" title=\"show this lexeme in SHEBANQ\">בֵּרַ֥ךְ </a></div>\n",
       "<div class=\"features\"> <span class=\"pdp\"><a href=\"https://shebanq.ancient-data.org/hebrew/text?book=Genesis&amp;chapter=24&amp;verse=1&amp;version=c&amp;mr=m&amp;qw=q&amp;tp=txt_p&amp;tr=hb&amp;wget=v&amp;qget=v&amp;nget=vt\" title=\"Genesis 24:1\" sec=\"Genesis 24:1\">verb</a></span> <span class=\"gloss\">bless</span> <span class=\"vs\">piel</span> <span class=\"vt\">perf</span> <span class=\"lex xft\"><span class=\"f\">lex=</span>BRK[</span></div>\n",
       "\n",
       "\n",
       "</div>\n",
       "\n",
       "\n",
       "    </div>\n",
       "\n",
       "\n",
       "</div>\n",
       "\n",
       "<div class=\"patom  \" >\n",
       "\n",
       "    <div class=\"phrase \" >\n",
       "        <a href=\"https://shebanq.ancient-data.org/hebrew/text?book=Genesis&amp;chapter=24&amp;verse=1&amp;version=c&amp;mr=m&amp;qw=q&amp;tp=txt_p&amp;tr=hb&amp;wget=v&amp;qget=v&amp;nget=vt\" title=\"Genesis 24:1\" sec=\"Genesis 24:1\">phrase</a>   <span class=\"function\">Objc</span> <span class=\"typ\">PP</span>\n",
       "    </div>\n",
       "    <div class=\"atoms\">\n",
       "\n",
       "<div class=\"word  \" >\n",
       "<div class=\"h\"><a target=\"_blank\" href=\"https://shebanq.ancient-data.org/hebrew/word?version=c&amp;id=1AT\" title=\"show this lexeme in SHEBANQ\">אֶת־</a></div>\n",
       "<div class=\"features\"> <span class=\"pdp\"><a href=\"https://shebanq.ancient-data.org/hebrew/text?book=Genesis&amp;chapter=24&amp;verse=1&amp;version=c&amp;mr=m&amp;qw=q&amp;tp=txt_p&amp;tr=hb&amp;wget=v&amp;qget=v&amp;nget=vt\" title=\"Genesis 24:1\" sec=\"Genesis 24:1\">prep</a></span> <span class=\"gloss\">&lt;object marker></span> <span class=\"lex xft\"><span class=\"f\">lex=</span>>T</span></div>\n",
       "\n",
       "\n",
       "</div>\n",
       "\n",
       "<div class=\"word  \" >\n",
       "<div class=\"h\"><a target=\"_blank\" href=\"https://shebanq.ancient-data.org/hebrew/word?version=c&amp;id=1ABRHMn\" title=\"show this lexeme in SHEBANQ\">אַבְרָהָ֖ם </a></div>\n",
       "<div class=\"features\"> <span class=\"pdp\"><a href=\"https://shebanq.ancient-data.org/hebrew/text?book=Genesis&amp;chapter=24&amp;verse=1&amp;version=c&amp;mr=m&amp;qw=q&amp;tp=txt_p&amp;tr=hb&amp;wget=v&amp;qget=v&amp;nget=vt\" title=\"Genesis 24:1\" sec=\"Genesis 24:1\">nmpr</a></span> <span class=\"gloss\">Abraham</span> <span class=\"lex xft\"><span class=\"f\">lex=</span>>BRHM/</span></div>\n",
       "\n",
       "\n",
       "</div>\n",
       "\n",
       "\n",
       "    </div>\n",
       "\n",
       "\n",
       "</div>\n",
       "\n",
       "<div class=\"patom  \" >\n",
       "\n",
       "    <div class=\"phrase \" >\n",
       "        <a href=\"https://shebanq.ancient-data.org/hebrew/text?book=Genesis&amp;chapter=24&amp;verse=1&amp;version=c&amp;mr=m&amp;qw=q&amp;tp=txt_p&amp;tr=hb&amp;wget=v&amp;qget=v&amp;nget=vt\" title=\"Genesis 24:1\" sec=\"Genesis 24:1\">phrase</a>   <span class=\"function\">Cmpl</span> <span class=\"typ\">PP</span>\n",
       "    </div>\n",
       "    <div class=\"atoms\">\n",
       "\n",
       "<div class=\"word  \" >\n",
       "<div class=\"h\"><a target=\"_blank\" href=\"https://shebanq.ancient-data.org/hebrew/word?version=c&amp;id=1B\" title=\"show this lexeme in SHEBANQ\">בַּ</a></div>\n",
       "<div class=\"features\"> <span class=\"pdp\"><a href=\"https://shebanq.ancient-data.org/hebrew/text?book=Genesis&amp;chapter=24&amp;verse=1&amp;version=c&amp;mr=m&amp;qw=q&amp;tp=txt_p&amp;tr=hb&amp;wget=v&amp;qget=v&amp;nget=vt\" title=\"Genesis 24:1\" sec=\"Genesis 24:1\">prep</a></span> <span class=\"gloss\">in</span> <span class=\"lex xft\"><span class=\"f\">lex=</span>B</span></div>\n",
       "\n",
       "\n",
       "</div>\n",
       "\n",
       "<div class=\"word  \" >\n",
       "<div class=\"h\"><a target=\"_blank\" href=\"https://shebanq.ancient-data.org/hebrew/word?version=c&amp;id=1H\" title=\"show this lexeme in SHEBANQ\"></a></div>\n",
       "<div class=\"features\"> <span class=\"pdp\"><a href=\"https://shebanq.ancient-data.org/hebrew/text?book=Genesis&amp;chapter=24&amp;verse=1&amp;version=c&amp;mr=m&amp;qw=q&amp;tp=txt_p&amp;tr=hb&amp;wget=v&amp;qget=v&amp;nget=vt\" title=\"Genesis 24:1\" sec=\"Genesis 24:1\">art</a></span> <span class=\"gloss\">the</span> <span class=\"lex xft\"><span class=\"f\">lex=</span>H</span></div>\n",
       "\n",
       "\n",
       "</div>\n",
       "\n",
       "<div class=\"word  \" >\n",
       "<div class=\"h\"><a target=\"_blank\" href=\"https://shebanq.ancient-data.org/hebrew/word?version=c&amp;id=1KLn\" title=\"show this lexeme in SHEBANQ\">כֹּֽל׃ </a></div>\n",
       "<div class=\"features\"> <span class=\"pdp\"><a href=\"https://shebanq.ancient-data.org/hebrew/text?book=Genesis&amp;chapter=24&amp;verse=1&amp;version=c&amp;mr=m&amp;qw=q&amp;tp=txt_p&amp;tr=hb&amp;wget=v&amp;qget=v&amp;nget=vt\" title=\"Genesis 24:1\" sec=\"Genesis 24:1\">subs</a></span> <span class=\"gloss\">whole</span> <span class=\"lex xft\"><span class=\"f\">lex=</span>KL/</span></div>\n",
       "\n",
       "\n",
       "</div>\n",
       "\n",
       "\n",
       "    </div>\n",
       "\n",
       "\n",
       "</div>\n",
       "\n",
       "\n",
       "    </div>\n",
       "\n",
       "\n",
       "</div>\n",
       "\n",
       "\n",
       "    </div>\n",
       "\n",
       "\n",
       "</div>\n",
       "\n",
       "\n",
       "</div>\n"
      ],
      "text/plain": [
       "<IPython.core.display.HTML object>"
      ]
     },
     "metadata": {},
     "output_type": "display_data"
    }
   ],
   "source": [
    "Abraham3='''\n",
    "book book=Genesis\n",
    "    clause\n",
    "        word vt=perf\n",
    "        :> word lex=>BRHM/\n",
    "'''\n",
    "Abraham3  = A.search(Abraham3)\n",
    "A.show(Abraham3, start=1, end=2, condensed=True)"
   ]
  },
  {
   "cell_type": "markdown",
   "metadata": {},
   "source": [
    "One could of course also write:"
   ]
  },
  {
   "cell_type": "code",
   "execution_count": 15,
   "metadata": {},
   "outputs": [
    {
     "name": "stdout",
     "output_type": "stream",
     "text": [
      "  0.94s 3 results\n"
     ]
    },
    {
     "data": {
      "text/html": [
       "<table>\n",
       "<tr class=\"tf\">\n",
       "  <th class=\"tf\">n</th><th class=\"tf\">p</th>\n",
       "  <th class=\"tf\">verse</th><th>word</th><th>word</th><th>clause</th>\n",
       "</tr>\n",
       "\n",
       "<tr class=\"tf\"><td class=\"tf\">1</td><td class=\"tf\"> <a href=\"https://shebanq.ancient-data.org/hebrew/text?book=Genesis&amp;chapter=18&amp;verse=33&amp;version=c&amp;mr=m&amp;qw=q&amp;tp=txt_p&amp;tr=hb&amp;wget=v&amp;qget=v&amp;nget=vt\" title=\"show this passage in SHEBANQ\" sec=\"Genesis 18:33\">Genesis 18:33</a></td><td class=\"tf\"><span class=\"hb\"><a class=\"vn\" href=\"https://shebanq.ancient-data.org/hebrew/text?book=Genesis&amp;chapter=18&amp;verse=33&amp;version=c&amp;mr=m&amp;qw=q&amp;tp=txt_p&amp;tr=hb&amp;wget=v&amp;qget=v&amp;nget=vt\" title=\"Genesis 18:33\" sec=\"Genesis 18:33\"></a>וַיֵּ֣לֶךְ יְהוָ֔ה כַּאֲשֶׁ֣ר כִּלָּ֔ה לְדַבֵּ֖ר אֶל־אַבְרָהָ֑ם <span  class=\"hlup\" >וְ</span><span  class=\"hl hlup\" >אַבְרָהָ֖ם </span><span  class=\"hl hlup\" >שָׁ֥ב </span><span  class=\"hlup\" >לִ</span><span  class=\"hlup\" >מְקֹמֹֽו׃ </span></span></td><td class=\"tf\"><span class=\"hb\"><span  class=\"hl hlup\" >שָׁ֥ב </span></span></td><td class=\"tf\"><span class=\"hb\"><span  class=\"hl hlup\" >אַבְרָהָ֖ם </span></span></td><td class=\"tf\"><span class=\"hb\"><span  class=\"hlup\" >וְ</span><span  class=\"hl hlup\" >אַבְרָהָ֖ם </span><span  class=\"hl hlup\" >שָׁ֥ב </span><span  class=\"hlup\" >לִ</span><span  class=\"hlup\" >מְקֹמֹֽו׃ </span></span></td></tr>\n",
       "<tr class=\"tf\"><td class=\"tf\">2</td><td class=\"tf\"> <a href=\"https://shebanq.ancient-data.org/hebrew/text?book=Genesis&amp;chapter=24&amp;verse=1&amp;version=c&amp;mr=m&amp;qw=q&amp;tp=txt_p&amp;tr=hb&amp;wget=v&amp;qget=v&amp;nget=vt\" title=\"show this passage in SHEBANQ\" sec=\"Genesis 24:1\">Genesis 24:1</a></td><td class=\"tf\"><span class=\"hb\"><a class=\"vn\" href=\"https://shebanq.ancient-data.org/hebrew/text?book=Genesis&amp;chapter=24&amp;verse=1&amp;version=c&amp;mr=m&amp;qw=q&amp;tp=txt_p&amp;tr=hb&amp;wget=v&amp;qget=v&amp;nget=vt\" title=\"Genesis 24:1\" sec=\"Genesis 24:1\"></a><span  class=\"hlup\" >וְ</span><span  class=\"hl hlup\" >אַבְרָהָ֣ם </span><span  class=\"hl hlup\" >זָקֵ֔ן </span>בָּ֖א בַּיָּמִ֑ים וַֽיהוָ֛ה בֵּרַ֥ךְ אֶת־אַבְרָהָ֖ם בַּכֹּֽל׃ </span></td><td class=\"tf\"><span class=\"hb\"><span  class=\"hlup\" >וְ</span><span  class=\"hl hlup\" >אַבְרָהָ֣ם </span><span  class=\"hl hlup\" >זָקֵ֔ן </span></span></td><td class=\"tf\"><span class=\"hb\"><span  class=\"hl hlup\" >אַבְרָהָ֣ם </span></span></td><td class=\"tf\"><span class=\"hb\"><span  class=\"hl hlup\" >זָקֵ֔ן </span></span></td></tr></table>"
      ],
      "text/plain": [
       "<IPython.core.display.HTML object>"
      ]
     },
     "metadata": {},
     "output_type": "display_data"
    }
   ],
   "source": [
    "Abraham4='''\n",
    "book book=Genesis\n",
    "    clause\n",
    "        word lex=>BRHM/\n",
    "        <: word vt=perf\n",
    "\n",
    "'''\n",
    "Abraham4  = A.search(Abraham4)\n",
    "A.table(Abraham4, start=1, end=2, condensed=True)"
   ]
  },
  {
   "cell_type": "markdown",
   "metadata": {},
   "source": [
    "### Searching on the PHRASE-level\n",
    "#### Simple Phrase search: YHWH as syntactical subject\n",
    "Lets search for all cases in which YHWH is subject in the Pentateuch."
   ]
  },
  {
   "cell_type": "code",
   "execution_count": 16,
   "metadata": {},
   "outputs": [
    {
     "name": "stdout",
     "output_type": "stream",
     "text": [
      "  0.90s 949 results\n"
     ]
    },
    {
     "data": {
      "text/html": [
       "<table>\n",
       "<tr class=\"tf\">\n",
       "  <th class=\"tf\">n</th><th class=\"tf\">p</th>\n",
       "  <th class=\"tf\">verse</th><th>phrase</th><th>clause</th><th>word</th>\n",
       "</tr>\n",
       "\n",
       "<tr class=\"tf\"><td class=\"tf\">1</td><td class=\"tf\"> <a href=\"https://shebanq.ancient-data.org/hebrew/text?book=Genesis&amp;chapter=2&amp;verse=4&amp;version=c&amp;mr=m&amp;qw=q&amp;tp=txt_p&amp;tr=hb&amp;wget=v&amp;qget=v&amp;nget=vt\" title=\"show this passage in SHEBANQ\" sec=\"Genesis 2:4\">Genesis 2:4</a></td><td class=\"tf\"><span class=\"hb\"><a class=\"vn\" href=\"https://shebanq.ancient-data.org/hebrew/text?book=Genesis&amp;chapter=2&amp;verse=4&amp;version=c&amp;mr=m&amp;qw=q&amp;tp=txt_p&amp;tr=hb&amp;wget=v&amp;qget=v&amp;nget=vt\" title=\"Genesis 2:4\" sec=\"Genesis 2:4\"></a>אֵ֣לֶּה תֹולְדֹ֧ות הַשָּׁמַ֛יִם וְהָאָ֖רֶץ בְּהִבָּֽרְאָ֑ם בְּיֹ֗ום <span  class=\"hlup\" >עֲשֹׂ֛ות </span><span  class=\"hl hlup\" >יְהוָ֥ה </span><span  class=\"hlup\" >אֱלֹהִ֖ים </span><span  class=\"hlup\" >אֶ֥רֶץ </span><span  class=\"hlup\" >וְ</span><span  class=\"hlup\" >שָׁמָֽיִם׃ </span></span></td><td class=\"tf\"><span class=\"hb\"><span  class=\"hl hlup\" >יְהוָ֥ה </span><span  class=\"hlup\" >אֱלֹהִ֖ים </span></span></td><td class=\"tf\"><span class=\"hb\"><span  class=\"hlup\" >עֲשֹׂ֛ות </span><span  class=\"hl hlup\" >יְהוָ֥ה </span><span  class=\"hlup\" >אֱלֹהִ֖ים </span><span  class=\"hlup\" >אֶ֥רֶץ </span><span  class=\"hlup\" >וְ</span><span  class=\"hlup\" >שָׁמָֽיִם׃ </span></span></td><td class=\"tf\"><span class=\"hb\"><span  class=\"hl hlup\" >יְהוָ֥ה </span></span></td></tr>\n",
       "<tr class=\"tf\"><td class=\"tf\">2</td><td class=\"tf\"> <a href=\"https://shebanq.ancient-data.org/hebrew/text?book=Genesis&amp;chapter=2&amp;verse=5&amp;version=c&amp;mr=m&amp;qw=q&amp;tp=txt_p&amp;tr=hb&amp;wget=v&amp;qget=v&amp;nget=vt\" title=\"show this passage in SHEBANQ\" sec=\"Genesis 2:5\">Genesis 2:5</a></td><td class=\"tf\"><span class=\"hb\"><a class=\"vn\" href=\"https://shebanq.ancient-data.org/hebrew/text?book=Genesis&amp;chapter=2&amp;verse=5&amp;version=c&amp;mr=m&amp;qw=q&amp;tp=txt_p&amp;tr=hb&amp;wget=v&amp;qget=v&amp;nget=vt\" title=\"Genesis 2:5\" sec=\"Genesis 2:5\"></a>וְכֹ֣ל׀ שִׂ֣יחַ הַשָּׂדֶ֗ה טֶ֚רֶם יִֽהְיֶ֣ה בָאָ֔רֶץ וְכָל־עֵ֥שֶׂב הַשָּׂדֶ֖ה טֶ֣רֶם יִצְמָ֑ח <span  class=\"hlup\" >כִּי֩ </span><span  class=\"hlup\" >לֹ֨א </span><span  class=\"hlup\" >הִמְטִ֜יר </span><span  class=\"hl hlup\" >יְהוָ֤ה </span><span  class=\"hlup\" >אֱלֹהִים֙ </span><span  class=\"hlup\" >עַל־</span><span  class=\"hlup\" >הָ</span><span  class=\"hlup\" >אָ֔רֶץ </span>וְאָדָ֣ם אַ֔יִן לַֽעֲבֹ֖ד אֶת־הָֽאֲדָמָֽה׃ </span></td><td class=\"tf\"><span class=\"hb\"><span  class=\"hl hlup\" >יְהוָ֤ה </span><span  class=\"hlup\" >אֱלֹהִים֙ </span></span></td><td class=\"tf\"><span class=\"hb\"><span  class=\"hl hlup\" >יְהוָ֤ה </span></span></td><td class=\"tf\"><span class=\"hb\"><span  class=\"hlup\" >כִּי֩ </span><span  class=\"hlup\" >לֹ֨א </span><span  class=\"hlup\" >הִמְטִ֜יר </span><span  class=\"hl hlup\" >יְהוָ֤ה </span><span  class=\"hlup\" >אֱלֹהִים֙ </span><span  class=\"hlup\" >עַל־</span><span  class=\"hlup\" >הָ</span><span  class=\"hlup\" >אָ֔רֶץ </span></span></td></tr></table>"
      ],
      "text/plain": [
       "<IPython.core.display.HTML object>"
      ]
     },
     "metadata": {},
     "output_type": "display_data"
    }
   ],
   "source": [
    "YHWH1='''\n",
    "book book=Genesis|Exodus|Leviticus|Numeri|Deuteronomium\n",
    "    clause\n",
    "        phrase function=Subj\n",
    "            word lex=JHWH/\n",
    "'''\n",
    "YHWH1  = A.search(YHWH1)\n",
    "A.table(YHWH1, start=1, end=2, condensed=True)\n",
    "\n",
    "## SHEBANQ query result: https://shebanq.ancient-data.org/hebrew/query?version=4b&id=1367"
   ]
  },
  {
   "cell_type": "markdown",
   "metadata": {},
   "source": [
    "We can now see all cases in which YHWH is the subject of a clause. But we might be more interested in what YHWH is actually doing!"
   ]
  },
  {
   "cell_type": "markdown",
   "metadata": {},
   "source": [
    "#### Advanced Phrase search: YHWH as subject of predicates\n",
    "So lets search for the predicates of which YHWH is the subject and in which YHWH fills the enitre subject phrase (excluding cases like \"YHWH, Elohim\" by the relation code ```::```). We use the same `::` in order to make sure that there is only one verb filling the predicate function. \n",
    "\n",
    "For visualiation purposes we are going to look for the transliterated characters with `lex` and the un-transliterated Hebrew characters with `lex_utf8`\n",
    "\n",
    "Finally, in order to see the predicates better, we are going to highlight them with a specified ```colorMap```."
   ]
  },
  {
   "cell_type": "code",
   "execution_count": 6,
   "metadata": {},
   "outputs": [
    {
     "name": "stdout",
     "output_type": "stream",
     "text": [
      "  2.62s 573 results\n"
     ]
    },
    {
     "data": {
      "text/html": [
       "<table>\n",
       "<tr class=\"tf\">\n",
       "  <th class=\"tf\">n</th><th class=\"tf\">p</th>\n",
       "  <th class=\"tf\">verse</th><th>phrase</th><th>word</th><th>phrase</th><th>word</th><th>clause</th>\n",
       "</tr>\n",
       "\n",
       "<tr class=\"tf\"><td class=\"tf\">1</td><td class=\"tf\"> <a href=\"https://shebanq.ancient-data.org/hebrew/text?book=Genesis&amp;chapter=4&amp;verse=4&amp;version=c&amp;mr=m&amp;qw=q&amp;tp=txt_p&amp;tr=hb&amp;wget=v&amp;qget=v&amp;nget=vt\" title=\"show this passage in SHEBANQ\" sec=\"Genesis 4:4\">Genesis 4:4</a></td><td class=\"tf\"><span class=\"hb\"><a class=\"vn\" href=\"https://shebanq.ancient-data.org/hebrew/text?book=Genesis&amp;chapter=4&amp;verse=4&amp;version=c&amp;mr=m&amp;qw=q&amp;tp=txt_p&amp;tr=hb&amp;wget=v&amp;qget=v&amp;nget=vt\" title=\"Genesis 4:4\" sec=\"Genesis 4:4\"></a>וְהֶ֨בֶל הֵבִ֥יא גַם־ה֛וּא מִבְּכֹרֹ֥ות צֹאנֹ֖ו וּמֵֽחֶלְבֵהֶ֑ן וַ<span  class=\"hlup\"  style=\"border-color: blue;\" >יִּ֣שַׁע </span><span  class=\"hl hlup\"  style=\"background-color: cyan;border-color: blue;\" >יְהוָ֔ה </span>אֶל־הֶ֖בֶל וְאֶל־מִנְחָתֹֽו׃ </span></td><td class=\"tf\"><span class=\"hb\"><span  class=\"hlup\"  style=\"border-color: blue;\" >יִּ֣שַׁע </span></span></td><td class=\"tf\"><span class=\"hb\"><span  class=\"hl hlup\"  style=\"background-color: cyan;border-color: blue;\" >יְהוָ֔ה </span></span></td><td class=\"tf\"><span class=\"hb\"><span  class=\"hl hlup\"  style=\"background-color: cyan;border-color: blue;\" >יְהוָ֔ה </span></span></td><td class=\"tf\"><span class=\"hb\"><span  class=\"hlup\"  style=\"border-color: blue;\" >יִּ֣שַׁע </span></span></td><td class=\"tf\"><span class=\"hb\">וַ<span  class=\"hlup\"  style=\"border-color: blue;\" >יִּ֣שַׁע </span><span  class=\"hl hlup\"  style=\"background-color: cyan;border-color: blue;\" >יְהוָ֔ה </span>אֶל־הֶ֖בֶל וְאֶל־מִנְחָתֹֽו׃ </span></td></tr>\n",
       "<tr class=\"tf\"><td class=\"tf\">2</td><td class=\"tf\"> <a href=\"https://shebanq.ancient-data.org/hebrew/text?book=Genesis&amp;chapter=4&amp;verse=6&amp;version=c&amp;mr=m&amp;qw=q&amp;tp=txt_p&amp;tr=hb&amp;wget=v&amp;qget=v&amp;nget=vt\" title=\"show this passage in SHEBANQ\" sec=\"Genesis 4:6\">Genesis 4:6</a></td><td class=\"tf\"><span class=\"hb\"><a class=\"vn\" href=\"https://shebanq.ancient-data.org/hebrew/text?book=Genesis&amp;chapter=4&amp;verse=6&amp;version=c&amp;mr=m&amp;qw=q&amp;tp=txt_p&amp;tr=hb&amp;wget=v&amp;qget=v&amp;nget=vt\" title=\"Genesis 4:6\" sec=\"Genesis 4:6\"></a><span  class=\"hlup\"  style=\"border-color: blue;\" >וַ</span><span  class=\"hlup\"  style=\"border-color: blue;\" >יֹּ֥אמֶר </span><span  class=\"hlup\"  style=\"border-color: cyan;\" >יְהוָ֖ה </span><span  class=\"hlup\"  style=\"border-color: blue;\" >אֶל־</span><span  class=\"hlup\"  style=\"border-color: blue;\" >קָ֑יִן </span>לָ֚מָּה חָ֣רָה לָ֔ךְ וְלָ֖מָּה נָפְל֥וּ פָנֶֽיךָ׃ </span></td><td class=\"tf\"><span class=\"hb\"><span  class=\"hlup\"  style=\"border-color: blue;\" >יֹּ֥אמֶר </span></span></td><td class=\"tf\"><span class=\"hb\"><span  class=\"hlup\"  style=\"border-color: cyan;\" >יְהוָ֖ה </span></span></td><td class=\"tf\"><span class=\"hb\"><span  class=\"hlup\"  style=\"border-color: blue;\" >וַ</span><span  class=\"hlup\"  style=\"border-color: blue;\" >יֹּ֥אמֶר </span><span  class=\"hlup\"  style=\"border-color: cyan;\" >יְהוָ֖ה </span><span  class=\"hlup\"  style=\"border-color: blue;\" >אֶל־</span><span  class=\"hlup\"  style=\"border-color: blue;\" >קָ֑יִן </span></span></td><td class=\"tf\"><span class=\"hb\"><span  class=\"hlup\"  style=\"border-color: blue;\" >יֹּ֥אמֶר </span></span></td><td class=\"tf\"><span class=\"hb\"><span  class=\"hlup\"  style=\"border-color: cyan;\" >יְהוָ֖ה </span></span></td></tr></table>"
      ],
      "text/plain": [
       "<IPython.core.display.HTML object>"
      ]
     },
     "metadata": {},
     "output_type": "display_data"
    }
   ],
   "source": [
    "YHWH2='''\n",
    "book book=Genesis|Exodus|Leviticus|Numeri|Deuteronomium\n",
    "    clause\n",
    "        phrase function=Subj\n",
    "            :: word lex=JHWH/\n",
    "        phrase function=Pred\n",
    "            :: word lex_utf8* lex*\n",
    "'''\n",
    "YHWH2  = A.search(YHWH2)\n",
    "A.table(YHWH2, start=1, end=2, condensed=True, colorMap={1: 'magenta', 2: 'blue', 3: 'cyan', 4: 'blue'})"
   ]
  },
  {
   "cell_type": "markdown",
   "metadata": {},
   "source": [
    "##### Codes for phrase functions (function)\n",
    "A full list of phrase functions can be found here: \n",
    "https://etcbc.github.io/bhsa/features/function/\n",
    "\n",
    "code|description|examples\n",
    "---|---|---\n",
    "`Adju`|Adjunct\n",
    "`Cmpl`|Complement\n",
    "`Conj`|Conjunction\n",
    "`EPPr`|Enclitic personal pronoun                 |!\n",
    "`ExsS`|Existence with subject suffix\n",
    "`Exst`|Existence\n",
    "`Frnt`|Fronted element\n",
    "`Intj`|Interjection\n",
    "`IntS`|Interjection with subject suffix\n",
    "`Loca`|Locative\n",
    "`Modi`|Modifier\n",
    "`ModS`|Modifier with subject suffix\n",
    "`NCop`|Negative copula\n",
    "`NCoS`|Negative copula with subject suffix\n",
    "`Nega`|Negation\n",
    "`Objc`|Object\n",
    "`PrAd`|Predicative adjunct\n",
    "`PrcS`|Predicate complement with subject suffix\n",
    "`PreC`|Predicate complement\n",
    "`Pred`|Predicate\n",
    "`PreO`|Predicate with object suffix\n",
    "`PreS`|Predicate with subject suffix\n",
    "`PtcO`|Participle with object suffix\n",
    "`Ques`|Question\n",
    "`Rela`|Relative\n",
    "`Subj`|Subject\n",
    "`Supp`|Supplementary constituent\n",
    "`Time`|Time reference\n",
    "`Unkn`|Unknown\n",
    "`Voct`|Vocative"
   ]
  },
  {
   "cell_type": "markdown",
   "metadata": {},
   "source": [
    "### Exporting => ```pandas dataframe``` => Plotting\n",
    "Now, lest unleash the power of phython's data analysis tools, by exporting our TF results with ```A.export``` and load it into a ```pandas``` dataframe. That will allow us to do some powerful data analysis and data visualization!"
   ]
  },
  {
   "cell_type": "code",
   "execution_count": 7,
   "metadata": {},
   "outputs": [
    {
     "ename": "FileNotFoundError",
     "evalue": "[Errno 2] No such file or directory: '../Desktop/YHWH2.tsv'",
     "output_type": "error",
     "traceback": [
      "\u001b[0;31m---------------------------------------------------------------------------\u001b[0m",
      "\u001b[0;31mFileNotFoundError\u001b[0m                         Traceback (most recent call last)",
      "\u001b[0;32m<ipython-input-7-0e87ddfb7108>\u001b[0m in \u001b[0;36m<module>\u001b[0;34m\u001b[0m\n\u001b[0;32m----> 1\u001b[0;31m \u001b[0mA\u001b[0m\u001b[0;34m.\u001b[0m\u001b[0mexport\u001b[0m\u001b[0;34m(\u001b[0m\u001b[0mYHWH2\u001b[0m\u001b[0;34m,\u001b[0m \u001b[0mtoDir\u001b[0m\u001b[0;34m=\u001b[0m\u001b[0;34m'../Desktop'\u001b[0m\u001b[0;34m,\u001b[0m \u001b[0mtoFile\u001b[0m\u001b[0;34m=\u001b[0m\u001b[0;34m'YHWH2.tsv'\u001b[0m\u001b[0;34m)\u001b[0m\u001b[0;34m\u001b[0m\u001b[0;34m\u001b[0m\u001b[0m\n\u001b[0m",
      "\u001b[0;32m~/anaconda3/lib/python3.7/site-packages/tf/applib/display.py\u001b[0m in \u001b[0;36mexport\u001b[0;34m(app, tuples, toDir, toFile, **options)\u001b[0m\n\u001b[1;32m     92\u001b[0m   )\n\u001b[1;32m     93\u001b[0m \u001b[0;34m\u001b[0m\u001b[0m\n\u001b[0;32m---> 94\u001b[0;31m   \u001b[0;32mwith\u001b[0m \u001b[0mopen\u001b[0m\u001b[0;34m(\u001b[0m\u001b[0mtoPath\u001b[0m\u001b[0;34m,\u001b[0m \u001b[0;34m'w'\u001b[0m\u001b[0;34m,\u001b[0m \u001b[0mencoding\u001b[0m\u001b[0;34m=\u001b[0m\u001b[0;34m'utf_16_le'\u001b[0m\u001b[0;34m)\u001b[0m \u001b[0;32mas\u001b[0m \u001b[0mfh\u001b[0m\u001b[0;34m:\u001b[0m\u001b[0;34m\u001b[0m\u001b[0;34m\u001b[0m\u001b[0m\n\u001b[0m\u001b[1;32m     95\u001b[0m     fh.write(\n\u001b[1;32m     96\u001b[0m         '\\ufeff' + ''.join(\n",
      "\u001b[0;31mFileNotFoundError\u001b[0m: [Errno 2] No such file or directory: '../Desktop/YHWH2.tsv'"
     ]
    }
   ],
   "source": [
    "A.export(YHWH2, toDir='../Desktop', toFile='YHWH2.tsv')"
   ]
  },
  {
   "cell_type": "code",
   "execution_count": 8,
   "metadata": {},
   "outputs": [
    {
     "ename": "FileNotFoundError",
     "evalue": "[Errno 2] No such file or directory: '../Desktop/YHWH2.tsv'",
     "output_type": "error",
     "traceback": [
      "\u001b[0;31m---------------------------------------------------------------------------\u001b[0m",
      "\u001b[0;31mFileNotFoundError\u001b[0m                         Traceback (most recent call last)",
      "\u001b[0;32m<ipython-input-8-b54a8a02d5a5>\u001b[0m in \u001b[0;36m<module>\u001b[0;34m\u001b[0m\n\u001b[0;32m----> 1\u001b[0;31m \u001b[0mYHWH2\u001b[0m\u001b[0;34m=\u001b[0m\u001b[0mpd\u001b[0m\u001b[0;34m.\u001b[0m\u001b[0mread_csv\u001b[0m\u001b[0;34m(\u001b[0m\u001b[0;34m'../Desktop/YHWH2.tsv'\u001b[0m\u001b[0;34m,\u001b[0m\u001b[0mdelimiter\u001b[0m\u001b[0;34m=\u001b[0m\u001b[0;34m'\\t'\u001b[0m\u001b[0;34m,\u001b[0m\u001b[0mencoding\u001b[0m\u001b[0;34m=\u001b[0m\u001b[0;34m'utf-16'\u001b[0m\u001b[0;34m)\u001b[0m\u001b[0;34m\u001b[0m\u001b[0;34m\u001b[0m\u001b[0m\n\u001b[0m\u001b[1;32m      2\u001b[0m \u001b[0mpd\u001b[0m\u001b[0;34m.\u001b[0m\u001b[0mset_option\u001b[0m\u001b[0;34m(\u001b[0m\u001b[0;34m'display.max_columns'\u001b[0m\u001b[0;34m,\u001b[0m \u001b[0;36m50\u001b[0m\u001b[0;34m)\u001b[0m\u001b[0;34m\u001b[0m\u001b[0;34m\u001b[0m\u001b[0m\n\u001b[1;32m      3\u001b[0m \u001b[0mYHWH2\u001b[0m\u001b[0;34m.\u001b[0m\u001b[0mhead\u001b[0m\u001b[0;34m(\u001b[0m\u001b[0;34m)\u001b[0m\u001b[0;34m\u001b[0m\u001b[0;34m\u001b[0m\u001b[0m\n",
      "\u001b[0;32m~/anaconda3/lib/python3.7/site-packages/pandas/io/parsers.py\u001b[0m in \u001b[0;36mparser_f\u001b[0;34m(filepath_or_buffer, sep, delimiter, header, names, index_col, usecols, squeeze, prefix, mangle_dupe_cols, dtype, engine, converters, true_values, false_values, skipinitialspace, skiprows, skipfooter, nrows, na_values, keep_default_na, na_filter, verbose, skip_blank_lines, parse_dates, infer_datetime_format, keep_date_col, date_parser, dayfirst, iterator, chunksize, compression, thousands, decimal, lineterminator, quotechar, quoting, doublequote, escapechar, comment, encoding, dialect, tupleize_cols, error_bad_lines, warn_bad_lines, delim_whitespace, low_memory, memory_map, float_precision)\u001b[0m\n\u001b[1;32m    700\u001b[0m                     skip_blank_lines=skip_blank_lines)\n\u001b[1;32m    701\u001b[0m \u001b[0;34m\u001b[0m\u001b[0m\n\u001b[0;32m--> 702\u001b[0;31m         \u001b[0;32mreturn\u001b[0m \u001b[0m_read\u001b[0m\u001b[0;34m(\u001b[0m\u001b[0mfilepath_or_buffer\u001b[0m\u001b[0;34m,\u001b[0m \u001b[0mkwds\u001b[0m\u001b[0;34m)\u001b[0m\u001b[0;34m\u001b[0m\u001b[0;34m\u001b[0m\u001b[0m\n\u001b[0m\u001b[1;32m    703\u001b[0m \u001b[0;34m\u001b[0m\u001b[0m\n\u001b[1;32m    704\u001b[0m     \u001b[0mparser_f\u001b[0m\u001b[0;34m.\u001b[0m\u001b[0m__name__\u001b[0m \u001b[0;34m=\u001b[0m \u001b[0mname\u001b[0m\u001b[0;34m\u001b[0m\u001b[0;34m\u001b[0m\u001b[0m\n",
      "\u001b[0;32m~/anaconda3/lib/python3.7/site-packages/pandas/io/parsers.py\u001b[0m in \u001b[0;36m_read\u001b[0;34m(filepath_or_buffer, kwds)\u001b[0m\n\u001b[1;32m    427\u001b[0m \u001b[0;34m\u001b[0m\u001b[0m\n\u001b[1;32m    428\u001b[0m     \u001b[0;31m# Create the parser.\u001b[0m\u001b[0;34m\u001b[0m\u001b[0;34m\u001b[0m\u001b[0;34m\u001b[0m\u001b[0m\n\u001b[0;32m--> 429\u001b[0;31m     \u001b[0mparser\u001b[0m \u001b[0;34m=\u001b[0m \u001b[0mTextFileReader\u001b[0m\u001b[0;34m(\u001b[0m\u001b[0mfilepath_or_buffer\u001b[0m\u001b[0;34m,\u001b[0m \u001b[0;34m**\u001b[0m\u001b[0mkwds\u001b[0m\u001b[0;34m)\u001b[0m\u001b[0;34m\u001b[0m\u001b[0;34m\u001b[0m\u001b[0m\n\u001b[0m\u001b[1;32m    430\u001b[0m \u001b[0;34m\u001b[0m\u001b[0m\n\u001b[1;32m    431\u001b[0m     \u001b[0;32mif\u001b[0m \u001b[0mchunksize\u001b[0m \u001b[0;32mor\u001b[0m \u001b[0miterator\u001b[0m\u001b[0;34m:\u001b[0m\u001b[0;34m\u001b[0m\u001b[0;34m\u001b[0m\u001b[0m\n",
      "\u001b[0;32m~/anaconda3/lib/python3.7/site-packages/pandas/io/parsers.py\u001b[0m in \u001b[0;36m__init__\u001b[0;34m(self, f, engine, **kwds)\u001b[0m\n\u001b[1;32m    893\u001b[0m             \u001b[0mself\u001b[0m\u001b[0;34m.\u001b[0m\u001b[0moptions\u001b[0m\u001b[0;34m[\u001b[0m\u001b[0;34m'has_index_names'\u001b[0m\u001b[0;34m]\u001b[0m \u001b[0;34m=\u001b[0m \u001b[0mkwds\u001b[0m\u001b[0;34m[\u001b[0m\u001b[0;34m'has_index_names'\u001b[0m\u001b[0;34m]\u001b[0m\u001b[0;34m\u001b[0m\u001b[0;34m\u001b[0m\u001b[0m\n\u001b[1;32m    894\u001b[0m \u001b[0;34m\u001b[0m\u001b[0m\n\u001b[0;32m--> 895\u001b[0;31m         \u001b[0mself\u001b[0m\u001b[0;34m.\u001b[0m\u001b[0m_make_engine\u001b[0m\u001b[0;34m(\u001b[0m\u001b[0mself\u001b[0m\u001b[0;34m.\u001b[0m\u001b[0mengine\u001b[0m\u001b[0;34m)\u001b[0m\u001b[0;34m\u001b[0m\u001b[0;34m\u001b[0m\u001b[0m\n\u001b[0m\u001b[1;32m    896\u001b[0m \u001b[0;34m\u001b[0m\u001b[0m\n\u001b[1;32m    897\u001b[0m     \u001b[0;32mdef\u001b[0m \u001b[0mclose\u001b[0m\u001b[0;34m(\u001b[0m\u001b[0mself\u001b[0m\u001b[0;34m)\u001b[0m\u001b[0;34m:\u001b[0m\u001b[0;34m\u001b[0m\u001b[0;34m\u001b[0m\u001b[0m\n",
      "\u001b[0;32m~/anaconda3/lib/python3.7/site-packages/pandas/io/parsers.py\u001b[0m in \u001b[0;36m_make_engine\u001b[0;34m(self, engine)\u001b[0m\n\u001b[1;32m   1120\u001b[0m     \u001b[0;32mdef\u001b[0m \u001b[0m_make_engine\u001b[0m\u001b[0;34m(\u001b[0m\u001b[0mself\u001b[0m\u001b[0;34m,\u001b[0m \u001b[0mengine\u001b[0m\u001b[0;34m=\u001b[0m\u001b[0;34m'c'\u001b[0m\u001b[0;34m)\u001b[0m\u001b[0;34m:\u001b[0m\u001b[0;34m\u001b[0m\u001b[0;34m\u001b[0m\u001b[0m\n\u001b[1;32m   1121\u001b[0m         \u001b[0;32mif\u001b[0m \u001b[0mengine\u001b[0m \u001b[0;34m==\u001b[0m \u001b[0;34m'c'\u001b[0m\u001b[0;34m:\u001b[0m\u001b[0;34m\u001b[0m\u001b[0;34m\u001b[0m\u001b[0m\n\u001b[0;32m-> 1122\u001b[0;31m             \u001b[0mself\u001b[0m\u001b[0;34m.\u001b[0m\u001b[0m_engine\u001b[0m \u001b[0;34m=\u001b[0m \u001b[0mCParserWrapper\u001b[0m\u001b[0;34m(\u001b[0m\u001b[0mself\u001b[0m\u001b[0;34m.\u001b[0m\u001b[0mf\u001b[0m\u001b[0;34m,\u001b[0m \u001b[0;34m**\u001b[0m\u001b[0mself\u001b[0m\u001b[0;34m.\u001b[0m\u001b[0moptions\u001b[0m\u001b[0;34m)\u001b[0m\u001b[0;34m\u001b[0m\u001b[0;34m\u001b[0m\u001b[0m\n\u001b[0m\u001b[1;32m   1123\u001b[0m         \u001b[0;32melse\u001b[0m\u001b[0;34m:\u001b[0m\u001b[0;34m\u001b[0m\u001b[0;34m\u001b[0m\u001b[0m\n\u001b[1;32m   1124\u001b[0m             \u001b[0;32mif\u001b[0m \u001b[0mengine\u001b[0m \u001b[0;34m==\u001b[0m \u001b[0;34m'python'\u001b[0m\u001b[0;34m:\u001b[0m\u001b[0;34m\u001b[0m\u001b[0;34m\u001b[0m\u001b[0m\n",
      "\u001b[0;32m~/anaconda3/lib/python3.7/site-packages/pandas/io/parsers.py\u001b[0m in \u001b[0;36m__init__\u001b[0;34m(self, src, **kwds)\u001b[0m\n\u001b[1;32m   1838\u001b[0m             \u001b[0;31m# if source is utf-16 plain text, convert source to utf-8\u001b[0m\u001b[0;34m\u001b[0m\u001b[0;34m\u001b[0m\u001b[0;34m\u001b[0m\u001b[0m\n\u001b[1;32m   1839\u001b[0m             \u001b[0;32mif\u001b[0m \u001b[0misinstance\u001b[0m\u001b[0;34m(\u001b[0m\u001b[0msrc\u001b[0m\u001b[0;34m,\u001b[0m \u001b[0mcompat\u001b[0m\u001b[0;34m.\u001b[0m\u001b[0mstring_types\u001b[0m\u001b[0;34m)\u001b[0m\u001b[0;34m:\u001b[0m\u001b[0;34m\u001b[0m\u001b[0;34m\u001b[0m\u001b[0m\n\u001b[0;32m-> 1840\u001b[0;31m                 \u001b[0msrc\u001b[0m \u001b[0;34m=\u001b[0m \u001b[0mopen\u001b[0m\u001b[0;34m(\u001b[0m\u001b[0msrc\u001b[0m\u001b[0;34m,\u001b[0m \u001b[0;34m'rb'\u001b[0m\u001b[0;34m)\u001b[0m\u001b[0;34m\u001b[0m\u001b[0;34m\u001b[0m\u001b[0m\n\u001b[0m\u001b[1;32m   1841\u001b[0m                 \u001b[0mself\u001b[0m\u001b[0;34m.\u001b[0m\u001b[0mhandles\u001b[0m\u001b[0;34m.\u001b[0m\u001b[0mappend\u001b[0m\u001b[0;34m(\u001b[0m\u001b[0msrc\u001b[0m\u001b[0;34m)\u001b[0m\u001b[0;34m\u001b[0m\u001b[0;34m\u001b[0m\u001b[0m\n\u001b[1;32m   1842\u001b[0m             \u001b[0msrc\u001b[0m \u001b[0;34m=\u001b[0m \u001b[0mUTF8Recoder\u001b[0m\u001b[0;34m(\u001b[0m\u001b[0msrc\u001b[0m\u001b[0;34m,\u001b[0m \u001b[0mkwds\u001b[0m\u001b[0;34m[\u001b[0m\u001b[0;34m'encoding'\u001b[0m\u001b[0;34m]\u001b[0m\u001b[0;34m)\u001b[0m\u001b[0;34m\u001b[0m\u001b[0;34m\u001b[0m\u001b[0m\n",
      "\u001b[0;31mFileNotFoundError\u001b[0m: [Errno 2] No such file or directory: '../Desktop/YHWH2.tsv'"
     ]
    }
   ],
   "source": [
    "YHWH2=pd.read_csv('../Desktop/YHWH2.tsv',delimiter='\\t',encoding='utf-16')\n",
    "pd.set_option('display.max_columns', 50)\n",
    "YHWH2.head()"
   ]
  },
  {
   "cell_type": "markdown",
   "metadata": {},
   "source": [
    "The code cell below shows that there are 573 clauses in which we find a verbal predicate with YHWH as subject."
   ]
  },
  {
   "cell_type": "code",
   "execution_count": 9,
   "metadata": {},
   "outputs": [
    {
     "ename": "AttributeError",
     "evalue": "'list' object has no attribute 'describe'",
     "output_type": "error",
     "traceback": [
      "\u001b[0;31m---------------------------------------------------------------------------\u001b[0m",
      "\u001b[0;31mAttributeError\u001b[0m                            Traceback (most recent call last)",
      "\u001b[0;32m<ipython-input-9-9fc939e21ed0>\u001b[0m in \u001b[0;36m<module>\u001b[0;34m\u001b[0m\n\u001b[0;32m----> 1\u001b[0;31m \u001b[0mYHWH2\u001b[0m\u001b[0;34m.\u001b[0m\u001b[0mdescribe\u001b[0m\u001b[0;34m(\u001b[0m\u001b[0;34m)\u001b[0m\u001b[0;34m\u001b[0m\u001b[0;34m\u001b[0m\u001b[0m\n\u001b[0m",
      "\u001b[0;31mAttributeError\u001b[0m: 'list' object has no attribute 'describe'"
     ]
    }
   ],
   "source": [
    "YHWH2.describe()"
   ]
  },
  {
   "cell_type": "markdown",
   "metadata": {},
   "source": [
    "Its in the last column \"lex_utf86\" where we can find the verbs used for predicating YHWH. Lets see which verbs are mostly used to describe YHWH's actions with the function `count_values` (this function does the same as `size().sort_values(ascending=False)` would do)."
   ]
  },
  {
   "cell_type": "code",
   "execution_count": 10,
   "metadata": {},
   "outputs": [
    {
     "ename": "TypeError",
     "evalue": "list indices must be integers or slices, not str",
     "output_type": "error",
     "traceback": [
      "\u001b[0;31m---------------------------------------------------------------------------\u001b[0m",
      "\u001b[0;31mTypeError\u001b[0m                                 Traceback (most recent call last)",
      "\u001b[0;32m<ipython-input-10-78e504606c33>\u001b[0m in \u001b[0;36m<module>\u001b[0;34m\u001b[0m\n\u001b[0;32m----> 1\u001b[0;31m \u001b[0mYHWH2\u001b[0m\u001b[0;34m[\u001b[0m\u001b[0;34m\"lex_utf86\"\u001b[0m\u001b[0;34m]\u001b[0m\u001b[0;34m.\u001b[0m\u001b[0mvalue_counts\u001b[0m\u001b[0;34m(\u001b[0m\u001b[0;34m)\u001b[0m\u001b[0;34m\u001b[0m\u001b[0;34m\u001b[0m\u001b[0m\n\u001b[0m",
      "\u001b[0;31mTypeError\u001b[0m: list indices must be integers or slices, not str"
     ]
    }
   ],
   "source": [
    "YHWH2[\"lex_utf86\"].value_counts()"
   ]
  },
  {
   "cell_type": "markdown",
   "metadata": {},
   "source": [
    "There are many verbs used only once as predicate. For our plotting purposes below, lets delete all verbs that appear less frequently than 5 times. We do this by creating a new dataframe \"YHWH2reduced\" that filters out all the verbs with low frequency by using the `lambda` function."
   ]
  },
  {
   "cell_type": "code",
   "execution_count": 11,
   "metadata": {},
   "outputs": [
    {
     "ename": "AttributeError",
     "evalue": "'list' object has no attribute 'groupby'",
     "output_type": "error",
     "traceback": [
      "\u001b[0;31m---------------------------------------------------------------------------\u001b[0m",
      "\u001b[0;31mAttributeError\u001b[0m                            Traceback (most recent call last)",
      "\u001b[0;32m<ipython-input-11-08a29e70963f>\u001b[0m in \u001b[0;36m<module>\u001b[0;34m\u001b[0m\n\u001b[0;32m----> 1\u001b[0;31m \u001b[0mYHWH2reduced\u001b[0m \u001b[0;34m=\u001b[0m \u001b[0mYHWH2\u001b[0m\u001b[0;34m.\u001b[0m\u001b[0mgroupby\u001b[0m\u001b[0;34m(\u001b[0m\u001b[0;34m\"lex_utf86\"\u001b[0m\u001b[0;34m)\u001b[0m\u001b[0;34m.\u001b[0m\u001b[0mfilter\u001b[0m\u001b[0;34m(\u001b[0m\u001b[0;32mlambda\u001b[0m \u001b[0mx\u001b[0m\u001b[0;34m:\u001b[0m \u001b[0mlen\u001b[0m\u001b[0;34m(\u001b[0m\u001b[0mx\u001b[0m\u001b[0;34m)\u001b[0m \u001b[0;34m>\u001b[0m\u001b[0;36m6\u001b[0m\u001b[0;34m)\u001b[0m\u001b[0;34m\u001b[0m\u001b[0;34m\u001b[0m\u001b[0m\n\u001b[0m\u001b[1;32m      2\u001b[0m \u001b[0mYHWH2reduced\u001b[0m\u001b[0;34m[\u001b[0m\u001b[0;34m\"lex_utf86\"\u001b[0m\u001b[0;34m]\u001b[0m\u001b[0;34m.\u001b[0m\u001b[0mvalue_counts\u001b[0m\u001b[0;34m(\u001b[0m\u001b[0;34m)\u001b[0m\u001b[0;34m\u001b[0m\u001b[0;34m\u001b[0m\u001b[0m\n",
      "\u001b[0;31mAttributeError\u001b[0m: 'list' object has no attribute 'groupby'"
     ]
    }
   ],
   "source": [
    "YHWH2reduced = YHWH2.groupby(\"lex_utf86\").filter(lambda x: len(x) >6)\n",
    "YHWH2reduced[\"lex_utf86\"].value_counts()"
   ]
  },
  {
   "cell_type": "markdown",
   "metadata": {},
   "source": [
    "The upper `value_count`shows that we have 10 verbs left. That is an excellent amount for plotting."
   ]
  },
  {
   "cell_type": "markdown",
   "metadata": {},
   "source": [
    "#### Bar Plot\n",
    "Lets graph it out by different plotting options.\n",
    "\n",
    "Since matplot does not know that Hebrew is written from Right-to-Left (it would display the Hebrew words with its consonants being written from Left-to-Right!) we are going to use the `lex` feature instead of the `lex_utf8` feature."
   ]
  },
  {
   "cell_type": "code",
   "execution_count": 23,
   "metadata": {},
   "outputs": [
    {
     "data": {
      "image/png": "[encoded data removed]",
      "text/plain": [
       "<Figure size 400x400 with 1 Axes>"
      ]
     },
     "metadata": {},
     "output_type": "display_data"
    }
   ],
   "source": [
    "figure(num=None, figsize=(5, 5), dpi=80, facecolor='w', edgecolor='k')\n",
    "YHWH2reduced.groupby(\"lex6\").size().sort_values(ascending=True).plot.barh()\n",
    "plt.xlabel('occurence of verb')\n",
    "plt.ylabel('lexemes used as predicates for the subject \"YHWH\"')\n",
    "plt.title('YHWH and his acting')\n",
    "plt.show()"
   ]
  },
  {
   "cell_type": "markdown",
   "metadata": {},
   "source": [
    "#### Pie Chart"
   ]
  },
  {
   "cell_type": "code",
   "execution_count": 24,
   "metadata": {},
   "outputs": [
    {
     "data": {
      "image/png": "[encoded data removed]",
      "text/plain": [
       "<Figure size 432x288 with 1 Axes>"
      ]
     },
     "metadata": {},
     "output_type": "display_data"
    }
   ],
   "source": [
    "YHWH2reduced.lex6.value_counts(sort=False).plot.pie(autopct='%1.0f%%', shadow=True, startangle=140)\n",
    "plt.show()"
   ]
  },
  {
   "cell_type": "markdown",
   "metadata": {},
   "source": [
    "#### Scatter Plot"
   ]
  },
  {
   "cell_type": "code",
   "execution_count": 25,
   "metadata": {},
   "outputs": [
    {
     "data": {
      "image/png": "[encoded data removed]",
      "text/plain": [
       "<Figure size 360x360 with 1 Axes>"
      ]
     },
     "metadata": {
      "needs_background": "light"
     },
     "output_type": "display_data"
    }
   ],
   "source": [
    "fig, ax = plt.subplots()\n",
    "fig.set_size_inches(5, 5)\n",
    "\n",
    "for S1, df in YHWH2reduced.groupby('lex6'):\n",
    "    ax.scatter(x=\"S1\", y=\"lex6\", data=df, label=S1)\n",
    "\n",
    "ax.set_xlabel(\"predicates used by YHWH as subject\")\n",
    "ax.set_ylabel(\"book\")\n",
    "ax.legend();"
   ]
  },
  {
   "cell_type": "markdown",
   "metadata": {},
   "source": [
    "#### Seaborn Implot (sophisticated scatter plot)"
   ]
  },
  {
   "cell_type": "code",
   "execution_count": 26,
   "metadata": {},
   "outputs": [
    {
     "data": {
      "text/plain": [
       "Text(0.5, 20.799999999999983, 'OT books')"
      ]
     },
     "execution_count": 26,
     "metadata": {},
     "output_type": "execute_result"
    },
    {
     "data": {
      "image/png": "[encoded data removed]",
      "text/plain": [
       "<Figure size 543.75x1440 with 1 Axes>"
      ]
     },
     "metadata": {
      "needs_background": "light"
     },
     "output_type": "display_data"
    }
   ],
   "source": [
    "sns.lmplot(x=\"S1\", y=\"R\", data=YHWH2reduced, hue='lex6', height=20, aspect=1/3, fit_reg=False, scatter_kws={\"s\": 200})\n",
    "ax = plt.gca()\n",
    "ax.set_ylabel('Number of occurence of ImpChainType')\n",
    "ax.set_xlabel('OT books')"
   ]
  },
  {
   "cell_type": "markdown",
   "metadata": {},
   "source": [
    "### Searching on the CLAUSE-level\n",
    "#### Simple sentence search\n",
    "Lets search for a sentence that contains two clauses in Genesis 20."
   ]
  },
  {
   "cell_type": "code",
   "execution_count": 13,
   "metadata": {},
   "outputs": [
    {
     "name": "stdout",
     "output_type": "stream",
     "text": [
      "  0.26s 11 results\n"
     ]
    },
    {
     "data": {
      "text/html": [
       "<p><b>verse</b> <i>1</i></p>"
      ],
      "text/plain": [
       "<IPython.core.display.HTML object>"
      ]
     },
     "metadata": {},
     "output_type": "display_data"
    },
    {
     "ename": "TypeError",
     "evalue": "prettyPre() missing 1 required positional argument: 'highlights'",
     "output_type": "error",
     "traceback": [
      "\u001b[0;31m---------------------------------------------------------------------------\u001b[0m",
      "\u001b[0;31mTypeError\u001b[0m                                 Traceback (most recent call last)",
      "\u001b[0;32m<ipython-input-13-ef1edb2c63da>\u001b[0m in \u001b[0;36m<module>\u001b[0;34m\u001b[0m\n\u001b[1;32m      6\u001b[0m '''\n\u001b[1;32m      7\u001b[0m \u001b[0mClausesinSentence1\u001b[0m \u001b[0;34m=\u001b[0m \u001b[0mA\u001b[0m\u001b[0;34m.\u001b[0m\u001b[0msearch\u001b[0m\u001b[0;34m(\u001b[0m\u001b[0mClausesinSentence1\u001b[0m\u001b[0;34m)\u001b[0m\u001b[0;34m\u001b[0m\u001b[0;34m\u001b[0m\u001b[0m\n\u001b[0;32m----> 8\u001b[0;31m \u001b[0mA\u001b[0m\u001b[0;34m.\u001b[0m\u001b[0mshow\u001b[0m\u001b[0;34m(\u001b[0m\u001b[0mClausesinSentence1\u001b[0m\u001b[0;34m,\u001b[0m \u001b[0mstart\u001b[0m\u001b[0;34m=\u001b[0m\u001b[0;36m1\u001b[0m\u001b[0;34m,\u001b[0m \u001b[0mend\u001b[0m\u001b[0;34m=\u001b[0m\u001b[0;36m2\u001b[0m\u001b[0;34m,\u001b[0m \u001b[0mcondensed\u001b[0m\u001b[0;34m=\u001b[0m\u001b[0;32mTrue\u001b[0m\u001b[0;34m,\u001b[0m \u001b[0mcolorMap\u001b[0m\u001b[0;34m=\u001b[0m\u001b[0;34m{\u001b[0m\u001b[0;36m1\u001b[0m\u001b[0;34m:\u001b[0m \u001b[0;34m'yellow'\u001b[0m\u001b[0;34m,\u001b[0m \u001b[0;36m2\u001b[0m\u001b[0;34m:\u001b[0m \u001b[0;34m'yellow'\u001b[0m\u001b[0;34m,\u001b[0m \u001b[0;36m3\u001b[0m\u001b[0;34m:\u001b[0m \u001b[0;34m'cyan'\u001b[0m\u001b[0;34m,\u001b[0m \u001b[0;36m4\u001b[0m\u001b[0;34m:\u001b[0m \u001b[0;34m'magenta'\u001b[0m\u001b[0;34m}\u001b[0m\u001b[0;34m)\u001b[0m\u001b[0;34m\u001b[0m\u001b[0;34m\u001b[0m\u001b[0m\n\u001b[0m\u001b[1;32m      9\u001b[0m \u001b[0;34m\u001b[0m\u001b[0m\n\u001b[1;32m     10\u001b[0m \u001b[0;31m## SHEBANQ query result: https://shebanq.ancient-data.org/hebrew/query?version=4b&id=1369\u001b[0m\u001b[0;34m\u001b[0m\u001b[0;34m\u001b[0m\u001b[0;34m\u001b[0m\u001b[0m\n",
      "\u001b[0;32m~/anaconda3/lib/python3.7/site-packages/tf/applib/display.py\u001b[0m in \u001b[0;36mshow\u001b[0;34m(app, tuples, **options)\u001b[0m\n\u001b[1;32m    354\u001b[0m         \u001b[0mcolorMap\u001b[0m\u001b[0;34m=\u001b[0m\u001b[0mcolorMap\u001b[0m\u001b[0;34m,\u001b[0m\u001b[0;34m\u001b[0m\u001b[0;34m\u001b[0m\u001b[0m\n\u001b[1;32m    355\u001b[0m         \u001b[0mrawHighlights\u001b[0m\u001b[0;34m=\u001b[0m\u001b[0mrawHighlights\u001b[0m\u001b[0;34m,\u001b[0m\u001b[0;34m\u001b[0m\u001b[0;34m\u001b[0m\u001b[0m\n\u001b[0;32m--> 356\u001b[0;31m         \u001b[0;34m**\u001b[0m\u001b[0mdisplay\u001b[0m\u001b[0;34m.\u001b[0m\u001b[0mconsume\u001b[0m\u001b[0;34m(\u001b[0m\u001b[0moptions\u001b[0m\u001b[0;34m,\u001b[0m \u001b[0;34m'highlights'\u001b[0m\u001b[0;34m,\u001b[0m \u001b[0;34m'colorMap'\u001b[0m\u001b[0;34m)\u001b[0m\u001b[0;34m,\u001b[0m\u001b[0;34m\u001b[0m\u001b[0;34m\u001b[0m\u001b[0m\n\u001b[0m\u001b[1;32m    357\u001b[0m     )\n\u001b[1;32m    358\u001b[0m \u001b[0;34m\u001b[0m\u001b[0m\n",
      "\u001b[0;32m~/anaconda3/lib/python3.7/site-packages/tf/applib/display.py\u001b[0m in \u001b[0;36mprettyTuple\u001b[0;34m(app, tup, seq, item, rawHighlights, **options)\u001b[0m\n\u001b[1;32m    396\u001b[0m         \u001b[0mt\u001b[0m\u001b[0;34m,\u001b[0m\u001b[0;34m\u001b[0m\u001b[0;34m\u001b[0m\u001b[0m\n\u001b[1;32m    397\u001b[0m         \u001b[0mhighlights\u001b[0m\u001b[0;34m=\u001b[0m\u001b[0mhighlights\u001b[0m\u001b[0;34m,\u001b[0m\u001b[0;34m\u001b[0m\u001b[0;34m\u001b[0m\u001b[0m\n\u001b[0;32m--> 398\u001b[0;31m         \u001b[0;34m**\u001b[0m\u001b[0mdisplay\u001b[0m\u001b[0;34m.\u001b[0m\u001b[0mconsume\u001b[0m\u001b[0;34m(\u001b[0m\u001b[0moptions\u001b[0m\u001b[0;34m,\u001b[0m \u001b[0;34m'highlights'\u001b[0m\u001b[0;34m)\u001b[0m\u001b[0;34m,\u001b[0m\u001b[0;34m\u001b[0m\u001b[0;34m\u001b[0m\u001b[0m\n\u001b[0m\u001b[1;32m    399\u001b[0m     )\n\u001b[1;32m    400\u001b[0m     \u001b[0;32mif\u001b[0m \u001b[0m_asApp\u001b[0m\u001b[0;34m:\u001b[0m\u001b[0;34m\u001b[0m\u001b[0;34m\u001b[0m\u001b[0m\n",
      "\u001b[0;32m~/anaconda3/lib/python3.7/site-packages/tf/applib/display.py\u001b[0m in \u001b[0;36mpretty\u001b[0;34m(app, n, **options)\u001b[0m\n\u001b[1;32m    460\u001b[0m       \u001b[0mextraFeatures\u001b[0m\u001b[0;34m=\u001b[0m\u001b[0mextraFeatures\u001b[0m\u001b[0;34m,\u001b[0m\u001b[0;34m\u001b[0m\u001b[0;34m\u001b[0m\u001b[0m\n\u001b[1;32m    461\u001b[0m       \u001b[0mhighlights\u001b[0m\u001b[0;34m=\u001b[0m\u001b[0mhighlights\u001b[0m\u001b[0;34m,\u001b[0m\u001b[0;34m\u001b[0m\u001b[0;34m\u001b[0m\u001b[0m\n\u001b[0;32m--> 462\u001b[0;31m       \u001b[0;34m**\u001b[0m\u001b[0mdisplay\u001b[0m\u001b[0;34m.\u001b[0m\u001b[0mconsume\u001b[0m\u001b[0;34m(\u001b[0m\u001b[0moptions\u001b[0m\u001b[0;34m,\u001b[0m \u001b[0;34m'extraFeatures'\u001b[0m\u001b[0;34m,\u001b[0m \u001b[0;34m'highlights'\u001b[0m\u001b[0;34m)\u001b[0m\u001b[0;34m,\u001b[0m\u001b[0;34m\u001b[0m\u001b[0;34m\u001b[0m\u001b[0m\n\u001b[0m\u001b[1;32m    463\u001b[0m   )\n\u001b[1;32m    464\u001b[0m   \u001b[0mhtmlStr\u001b[0m \u001b[0;34m=\u001b[0m \u001b[0;34m'\\n'\u001b[0m\u001b[0;34m.\u001b[0m\u001b[0mjoin\u001b[0m\u001b[0;34m(\u001b[0m\u001b[0mhtml\u001b[0m\u001b[0;34m)\u001b[0m\u001b[0;34m\u001b[0m\u001b[0;34m\u001b[0m\u001b[0m\n",
      "\u001b[0;32m~/text-fabric-data/annotation/app-bhsa/code/app.py\u001b[0m in \u001b[0;36m_pretty\u001b[0;34m(app, n, outer, html, firstSlot, lastSlot, **options)\u001b[0m\n\u001b[1;32m    156\u001b[0m         \u001b[0md\u001b[0m \u001b[0;34m=\u001b[0m \u001b[0mdisplay\u001b[0m\u001b[0;34m.\u001b[0m\u001b[0mget\u001b[0m\u001b[0;34m(\u001b[0m\u001b[0moptions\u001b[0m\u001b[0;34m)\u001b[0m\u001b[0;34m\u001b[0m\u001b[0;34m\u001b[0m\u001b[0m\n\u001b[1;32m    157\u001b[0m \u001b[0;34m\u001b[0m\u001b[0m\n\u001b[0;32m--> 158\u001b[0;31m         \u001b[0mgoOn\u001b[0m \u001b[0;34m=\u001b[0m \u001b[0mprettyPre\u001b[0m\u001b[0;34m(\u001b[0m\u001b[0mapp\u001b[0m\u001b[0;34m,\u001b[0m \u001b[0mn\u001b[0m\u001b[0;34m,\u001b[0m \u001b[0mfirstSlot\u001b[0m\u001b[0;34m,\u001b[0m \u001b[0mlastSlot\u001b[0m\u001b[0;34m,\u001b[0m \u001b[0md\u001b[0m\u001b[0;34m)\u001b[0m\u001b[0;34m\u001b[0m\u001b[0;34m\u001b[0m\u001b[0m\n\u001b[0m\u001b[1;32m    159\u001b[0m         \u001b[0;32mif\u001b[0m \u001b[0;32mnot\u001b[0m \u001b[0mgoOn\u001b[0m\u001b[0;34m:\u001b[0m\u001b[0;34m\u001b[0m\u001b[0;34m\u001b[0m\u001b[0m\n\u001b[1;32m    160\u001b[0m             \u001b[0;32mreturn\u001b[0m\u001b[0;34m\u001b[0m\u001b[0;34m\u001b[0m\u001b[0m\n",
      "\u001b[0;31mTypeError\u001b[0m: prettyPre() missing 1 required positional argument: 'highlights'"
     ]
    }
   ],
   "source": [
    "ClausesinSentence1='''\n",
    "chapter book=Genesis chapter=20\n",
    "    sentence\n",
    "        clause\n",
    "        <: clause\n",
    "'''\n",
    "ClausesinSentence1 = A.search(ClausesinSentence1)\n",
    "A.show(ClausesinSentence1, start=1, end=2, condensed=True, colorMap={1: 'yellow', 2: 'yellow', 3: 'cyan', 4: 'magenta'})\n",
    "\n",
    "## SHEBANQ query result: https://shebanq.ancient-data.org/hebrew/query?version=4b&id=1369"
   ]
  },
  {
   "cell_type": "markdown",
   "metadata": {},
   "source": [
    "#### Advanced sentence search\n",
    "Now we are searching for a sentence that contains an independent clause and a dependent attributive/relative clause in Gen 20."
   ]
  },
  {
   "cell_type": "code",
   "execution_count": 14,
   "metadata": {},
   "outputs": [
    {
     "name": "stdout",
     "output_type": "stream",
     "text": [
      "  0.32s 2 results\n"
     ]
    },
    {
     "data": {
      "text/html": [
       "<p><b>verse</b> <i>1</i></p>"
      ],
      "text/plain": [
       "<IPython.core.display.HTML object>"
      ]
     },
     "metadata": {},
     "output_type": "display_data"
    },
    {
     "ename": "TypeError",
     "evalue": "prettyPre() missing 1 required positional argument: 'highlights'",
     "output_type": "error",
     "traceback": [
      "\u001b[0;31m---------------------------------------------------------------------------\u001b[0m",
      "\u001b[0;31mTypeError\u001b[0m                                 Traceback (most recent call last)",
      "\u001b[0;32m<ipython-input-14-14d7369f870b>\u001b[0m in \u001b[0;36m<module>\u001b[0;34m\u001b[0m\n\u001b[1;32m      6\u001b[0m '''\n\u001b[1;32m      7\u001b[0m \u001b[0mClausesinSentence2\u001b[0m \u001b[0;34m=\u001b[0m \u001b[0mA\u001b[0m\u001b[0;34m.\u001b[0m\u001b[0msearch\u001b[0m\u001b[0;34m(\u001b[0m\u001b[0mClausesinSentence2\u001b[0m\u001b[0;34m)\u001b[0m\u001b[0;34m\u001b[0m\u001b[0;34m\u001b[0m\u001b[0m\n\u001b[0;32m----> 8\u001b[0;31m \u001b[0mA\u001b[0m\u001b[0;34m.\u001b[0m\u001b[0mshow\u001b[0m\u001b[0;34m(\u001b[0m\u001b[0mClausesinSentence2\u001b[0m\u001b[0;34m,\u001b[0m \u001b[0mstart\u001b[0m\u001b[0;34m=\u001b[0m\u001b[0;36m1\u001b[0m\u001b[0;34m,\u001b[0m \u001b[0mend\u001b[0m\u001b[0;34m=\u001b[0m\u001b[0;36m2\u001b[0m\u001b[0;34m,\u001b[0m \u001b[0mcondensed\u001b[0m\u001b[0;34m=\u001b[0m\u001b[0;32mTrue\u001b[0m\u001b[0;34m,\u001b[0m \u001b[0mcolorMap\u001b[0m\u001b[0;34m=\u001b[0m\u001b[0;34m{\u001b[0m\u001b[0;36m1\u001b[0m\u001b[0;34m:\u001b[0m \u001b[0;34m'yellow'\u001b[0m\u001b[0;34m,\u001b[0m \u001b[0;36m2\u001b[0m\u001b[0;34m:\u001b[0m \u001b[0;34m'yellow'\u001b[0m\u001b[0;34m,\u001b[0m \u001b[0;36m3\u001b[0m\u001b[0;34m:\u001b[0m \u001b[0;34m'cyan'\u001b[0m\u001b[0;34m,\u001b[0m \u001b[0;36m4\u001b[0m\u001b[0;34m:\u001b[0m \u001b[0;34m'magenta'\u001b[0m\u001b[0;34m}\u001b[0m\u001b[0;34m)\u001b[0m\u001b[0;34m\u001b[0m\u001b[0;34m\u001b[0m\u001b[0m\n\u001b[0m\u001b[1;32m      9\u001b[0m \u001b[0;34m\u001b[0m\u001b[0m\n\u001b[1;32m     10\u001b[0m \u001b[0;31m## SHEBANQ query result: https://shebanq.ancient-data.org/hebrew/query?version=4b&id=1370\u001b[0m\u001b[0;34m\u001b[0m\u001b[0;34m\u001b[0m\u001b[0;34m\u001b[0m\u001b[0m\n",
      "\u001b[0;32m~/anaconda3/lib/python3.7/site-packages/tf/applib/display.py\u001b[0m in \u001b[0;36mshow\u001b[0;34m(app, tuples, **options)\u001b[0m\n\u001b[1;32m    354\u001b[0m         \u001b[0mcolorMap\u001b[0m\u001b[0;34m=\u001b[0m\u001b[0mcolorMap\u001b[0m\u001b[0;34m,\u001b[0m\u001b[0;34m\u001b[0m\u001b[0;34m\u001b[0m\u001b[0m\n\u001b[1;32m    355\u001b[0m         \u001b[0mrawHighlights\u001b[0m\u001b[0;34m=\u001b[0m\u001b[0mrawHighlights\u001b[0m\u001b[0;34m,\u001b[0m\u001b[0;34m\u001b[0m\u001b[0;34m\u001b[0m\u001b[0m\n\u001b[0;32m--> 356\u001b[0;31m         \u001b[0;34m**\u001b[0m\u001b[0mdisplay\u001b[0m\u001b[0;34m.\u001b[0m\u001b[0mconsume\u001b[0m\u001b[0;34m(\u001b[0m\u001b[0moptions\u001b[0m\u001b[0;34m,\u001b[0m \u001b[0;34m'highlights'\u001b[0m\u001b[0;34m,\u001b[0m \u001b[0;34m'colorMap'\u001b[0m\u001b[0;34m)\u001b[0m\u001b[0;34m,\u001b[0m\u001b[0;34m\u001b[0m\u001b[0;34m\u001b[0m\u001b[0m\n\u001b[0m\u001b[1;32m    357\u001b[0m     )\n\u001b[1;32m    358\u001b[0m \u001b[0;34m\u001b[0m\u001b[0m\n",
      "\u001b[0;32m~/anaconda3/lib/python3.7/site-packages/tf/applib/display.py\u001b[0m in \u001b[0;36mprettyTuple\u001b[0;34m(app, tup, seq, item, rawHighlights, **options)\u001b[0m\n\u001b[1;32m    396\u001b[0m         \u001b[0mt\u001b[0m\u001b[0;34m,\u001b[0m\u001b[0;34m\u001b[0m\u001b[0;34m\u001b[0m\u001b[0m\n\u001b[1;32m    397\u001b[0m         \u001b[0mhighlights\u001b[0m\u001b[0;34m=\u001b[0m\u001b[0mhighlights\u001b[0m\u001b[0;34m,\u001b[0m\u001b[0;34m\u001b[0m\u001b[0;34m\u001b[0m\u001b[0m\n\u001b[0;32m--> 398\u001b[0;31m         \u001b[0;34m**\u001b[0m\u001b[0mdisplay\u001b[0m\u001b[0;34m.\u001b[0m\u001b[0mconsume\u001b[0m\u001b[0;34m(\u001b[0m\u001b[0moptions\u001b[0m\u001b[0;34m,\u001b[0m \u001b[0;34m'highlights'\u001b[0m\u001b[0;34m)\u001b[0m\u001b[0;34m,\u001b[0m\u001b[0;34m\u001b[0m\u001b[0;34m\u001b[0m\u001b[0m\n\u001b[0m\u001b[1;32m    399\u001b[0m     )\n\u001b[1;32m    400\u001b[0m     \u001b[0;32mif\u001b[0m \u001b[0m_asApp\u001b[0m\u001b[0;34m:\u001b[0m\u001b[0;34m\u001b[0m\u001b[0;34m\u001b[0m\u001b[0m\n",
      "\u001b[0;32m~/anaconda3/lib/python3.7/site-packages/tf/applib/display.py\u001b[0m in \u001b[0;36mpretty\u001b[0;34m(app, n, **options)\u001b[0m\n\u001b[1;32m    460\u001b[0m       \u001b[0mextraFeatures\u001b[0m\u001b[0;34m=\u001b[0m\u001b[0mextraFeatures\u001b[0m\u001b[0;34m,\u001b[0m\u001b[0;34m\u001b[0m\u001b[0;34m\u001b[0m\u001b[0m\n\u001b[1;32m    461\u001b[0m       \u001b[0mhighlights\u001b[0m\u001b[0;34m=\u001b[0m\u001b[0mhighlights\u001b[0m\u001b[0;34m,\u001b[0m\u001b[0;34m\u001b[0m\u001b[0;34m\u001b[0m\u001b[0m\n\u001b[0;32m--> 462\u001b[0;31m       \u001b[0;34m**\u001b[0m\u001b[0mdisplay\u001b[0m\u001b[0;34m.\u001b[0m\u001b[0mconsume\u001b[0m\u001b[0;34m(\u001b[0m\u001b[0moptions\u001b[0m\u001b[0;34m,\u001b[0m \u001b[0;34m'extraFeatures'\u001b[0m\u001b[0;34m,\u001b[0m \u001b[0;34m'highlights'\u001b[0m\u001b[0;34m)\u001b[0m\u001b[0;34m,\u001b[0m\u001b[0;34m\u001b[0m\u001b[0;34m\u001b[0m\u001b[0m\n\u001b[0m\u001b[1;32m    463\u001b[0m   )\n\u001b[1;32m    464\u001b[0m   \u001b[0mhtmlStr\u001b[0m \u001b[0;34m=\u001b[0m \u001b[0;34m'\\n'\u001b[0m\u001b[0;34m.\u001b[0m\u001b[0mjoin\u001b[0m\u001b[0;34m(\u001b[0m\u001b[0mhtml\u001b[0m\u001b[0;34m)\u001b[0m\u001b[0;34m\u001b[0m\u001b[0;34m\u001b[0m\u001b[0m\n",
      "\u001b[0;32m~/text-fabric-data/annotation/app-bhsa/code/app.py\u001b[0m in \u001b[0;36m_pretty\u001b[0;34m(app, n, outer, html, firstSlot, lastSlot, **options)\u001b[0m\n\u001b[1;32m    156\u001b[0m         \u001b[0md\u001b[0m \u001b[0;34m=\u001b[0m \u001b[0mdisplay\u001b[0m\u001b[0;34m.\u001b[0m\u001b[0mget\u001b[0m\u001b[0;34m(\u001b[0m\u001b[0moptions\u001b[0m\u001b[0;34m)\u001b[0m\u001b[0;34m\u001b[0m\u001b[0;34m\u001b[0m\u001b[0m\n\u001b[1;32m    157\u001b[0m \u001b[0;34m\u001b[0m\u001b[0m\n\u001b[0;32m--> 158\u001b[0;31m         \u001b[0mgoOn\u001b[0m \u001b[0;34m=\u001b[0m \u001b[0mprettyPre\u001b[0m\u001b[0;34m(\u001b[0m\u001b[0mapp\u001b[0m\u001b[0;34m,\u001b[0m \u001b[0mn\u001b[0m\u001b[0;34m,\u001b[0m \u001b[0mfirstSlot\u001b[0m\u001b[0;34m,\u001b[0m \u001b[0mlastSlot\u001b[0m\u001b[0;34m,\u001b[0m \u001b[0md\u001b[0m\u001b[0;34m)\u001b[0m\u001b[0;34m\u001b[0m\u001b[0;34m\u001b[0m\u001b[0m\n\u001b[0m\u001b[1;32m    159\u001b[0m         \u001b[0;32mif\u001b[0m \u001b[0;32mnot\u001b[0m \u001b[0mgoOn\u001b[0m\u001b[0;34m:\u001b[0m\u001b[0;34m\u001b[0m\u001b[0;34m\u001b[0m\u001b[0m\n\u001b[1;32m    160\u001b[0m             \u001b[0;32mreturn\u001b[0m\u001b[0;34m\u001b[0m\u001b[0;34m\u001b[0m\u001b[0m\n",
      "\u001b[0;31mTypeError\u001b[0m: prettyPre() missing 1 required positional argument: 'highlights'"
     ]
    }
   ],
   "source": [
    "ClausesinSentence2='''\n",
    "chapter book=Genesis chapter=20\n",
    "    sentence\n",
    "        clause\n",
    "        <: clause rela=Attr\n",
    "'''\n",
    "ClausesinSentence2 = A.search(ClausesinSentence2)\n",
    "A.show(ClausesinSentence2, start=1, end=2, condensed=True, colorMap={1: 'yellow', 2: 'yellow', 3: 'cyan', 4: 'magenta'})\n",
    "\n",
    "## SHEBANQ query result: https://shebanq.ancient-data.org/hebrew/query?version=4b&id=1370 "
   ]
  },
  {
   "cell_type": "markdown",
   "metadata": {},
   "source": [
    "##### Codes for clause relations (rela)\n",
    "A full list of clause relations can be found here: \n",
    "https://etcbc.github.io/bhsa/features/rela/\n",
    "\n",
    "code|description\n",
    "---|---\n",
    "`Adju`|Adjunctive clause\n",
    "`Attr`|Attributive clause\n",
    "`Cmpl`|Complement clause\n",
    "`Coor`|Coordinated clause\n",
    "`Objc`|Object clause\n",
    "`PrAd`|Predicative adjunct clause\n",
    "`PreC`|Predicative complement clause\n",
    "`ReVo`|Referral to the vocative\n",
    "`Resu`|Resumptive clause\n",
    "`RgRc`|Regens/rectum connection\n",
    "`Spec`|Specification clause\n",
    "`Subj`|Subject clause"
   ]
  },
  {
   "cell_type": "markdown",
   "metadata": {},
   "source": [
    "# What codes? What abbreviations?\n",
    "As the above examples have shown, one cannot run any queries succesfully without knowing 2 things:\n",
    "1. What is the database model (what are clauses, phrases, words, etc.)?\n",
    "2. What are the codes used for signifying tenses, stems, part of speech, etc.?\n",
    "\n",
    "While we will tackle the the first question in our next session the second question can be answered in the ETBCB's online version of its features doc: https://etcbc.github.io/bhsa/features/0_home/"
   ]
  },
  {
   "cell_type": "markdown",
   "metadata": {},
   "source": [
    "# In Class Tasks\n",
    "For all assignments listed below I advise you to use https://shebanq.ancient-data.org/hebrew/text to inspect the text, copy/paste codes and words into your TF search cells.\n",
    "1. Find all cases in which David appears in 2 Samuel 1-5.\n",
    "2. Find all cases in which David appears as subject in 2 Samuel 1-5.\n",
    "4. Find all cases in which David does something to somebody/something, i.e. you need to find the object phrase within a clause in which David is subject and does (predicate) something."
   ]
  },
  {
   "cell_type": "code",
   "execution_count": 15,
   "metadata": {},
   "outputs": [
    {
     "name": "stdout",
     "output_type": "stream",
     "text": [
      "  0.48s 86 results\n"
     ]
    },
    {
     "data": {
      "text/html": [
       "<table>\n",
       "<tr class=\"tf\">\n",
       "  <th class=\"tf\">n</th><th class=\"tf\">p</th>\n",
       "  <th class=\"tf\">verse</th><th>word</th>\n",
       "</tr>\n",
       "\n",
       "<tr class=\"tf\"><td class=\"tf\">1</td><td class=\"tf\"> <a href=\"https://shebanq.ancient-data.org/hebrew/text?book=Samuel_II&amp;chapter=1&amp;verse=1&amp;version=c&amp;mr=m&amp;qw=q&amp;tp=txt_p&amp;tr=hb&amp;wget=v&amp;qget=v&amp;nget=vt\" title=\"show this passage in SHEBANQ\" sec=\"2_Samuel 1:1\">2_Samuel 1:1</a></td><td class=\"tf\"><span class=\"hb\"><a class=\"vn\" href=\"https://shebanq.ancient-data.org/hebrew/text?book=Samuel_II&amp;chapter=1&amp;verse=1&amp;version=c&amp;mr=m&amp;qw=q&amp;tp=txt_p&amp;tr=hb&amp;wget=v&amp;qget=v&amp;nget=vt\" title=\"2_Samuel 1:1\" sec=\"2_Samuel 1:1\"></a>וַיְהִ֗י אַֽחֲרֵי֙ מֹ֣ות שָׁא֔וּל וְ<span  class=\"hl\" >דָוִ֣ד </span>שָׁ֔ב מֵהַכֹּ֖ות אֶת־הָעֲמָלֵ֑ק וַיֵּ֧שֶׁב דָּוִ֛ד בְּצִקְלָ֖ג יָמִ֥ים שְׁנָֽיִם׃ </span></td><td class=\"tf\"><span class=\"hb\"><span  class=\"hl\" >דָוִ֣ד </span></span></td></tr>\n",
       "<tr class=\"tf\"><td class=\"tf\">2</td><td class=\"tf\"> <a href=\"https://shebanq.ancient-data.org/hebrew/text?book=Samuel_II&amp;chapter=1&amp;verse=1&amp;version=c&amp;mr=m&amp;qw=q&amp;tp=txt_p&amp;tr=hb&amp;wget=v&amp;qget=v&amp;nget=vt\" title=\"show this passage in SHEBANQ\" sec=\"2_Samuel 1:1\">2_Samuel 1:1</a></td><td class=\"tf\"><span class=\"hb\"><a class=\"vn\" href=\"https://shebanq.ancient-data.org/hebrew/text?book=Samuel_II&amp;chapter=1&amp;verse=1&amp;version=c&amp;mr=m&amp;qw=q&amp;tp=txt_p&amp;tr=hb&amp;wget=v&amp;qget=v&amp;nget=vt\" title=\"2_Samuel 1:1\" sec=\"2_Samuel 1:1\"></a>וַיְהִ֗י אַֽחֲרֵי֙ מֹ֣ות שָׁא֔וּל וְדָוִ֣ד שָׁ֔ב מֵהַכֹּ֖ות אֶת־הָעֲמָלֵ֑ק וַיֵּ֧שֶׁב <span  class=\"hl\" >דָּוִ֛ד </span>בְּצִקְלָ֖ג יָמִ֥ים שְׁנָֽיִם׃ </span></td><td class=\"tf\"><span class=\"hb\"><span  class=\"hl\" >דָּוִ֛ד </span></span></td></tr>\n",
       "<tr class=\"tf\"><td class=\"tf\">3</td><td class=\"tf\"> <a href=\"https://shebanq.ancient-data.org/hebrew/text?book=Samuel_II&amp;chapter=1&amp;verse=2&amp;version=c&amp;mr=m&amp;qw=q&amp;tp=txt_p&amp;tr=hb&amp;wget=v&amp;qget=v&amp;nget=vt\" title=\"show this passage in SHEBANQ\" sec=\"2_Samuel 1:2\">2_Samuel 1:2</a></td><td class=\"tf\"><span class=\"hb\"><a class=\"vn\" href=\"https://shebanq.ancient-data.org/hebrew/text?book=Samuel_II&amp;chapter=1&amp;verse=2&amp;version=c&amp;mr=m&amp;qw=q&amp;tp=txt_p&amp;tr=hb&amp;wget=v&amp;qget=v&amp;nget=vt\" title=\"2_Samuel 1:2\" sec=\"2_Samuel 1:2\"></a>וַיְהִ֣י׀ בַּיֹּ֣ום הַשְּׁלִישִׁ֗י וְהִנֵּה֩ אִ֨ישׁ בָּ֤א מִן־הַֽמַּחֲנֶה֙ מֵעִ֣ם שָׁא֔וּל וּבְגָדָ֣יו קְרֻעִ֔ים וַאֲדָמָ֖ה עַל־רֹאשֹׁ֑ו וַיְהִי֙ בְּבֹאֹ֣ו אֶל־<span  class=\"hl\" >דָּוִ֔ד </span>וַיִּפֹּ֥ל אַ֖רְצָה וַיִּשְׁתָּֽחוּ׃ </span></td><td class=\"tf\"><span class=\"hb\"><span  class=\"hl\" >דָּוִ֔ד </span></span></td></tr>\n",
       "<tr class=\"tf\"><td class=\"tf\">4</td><td class=\"tf\"> <a href=\"https://shebanq.ancient-data.org/hebrew/text?book=Samuel_II&amp;chapter=1&amp;verse=3&amp;version=c&amp;mr=m&amp;qw=q&amp;tp=txt_p&amp;tr=hb&amp;wget=v&amp;qget=v&amp;nget=vt\" title=\"show this passage in SHEBANQ\" sec=\"2_Samuel 1:3\">2_Samuel 1:3</a></td><td class=\"tf\"><span class=\"hb\"><a class=\"vn\" href=\"https://shebanq.ancient-data.org/hebrew/text?book=Samuel_II&amp;chapter=1&amp;verse=3&amp;version=c&amp;mr=m&amp;qw=q&amp;tp=txt_p&amp;tr=hb&amp;wget=v&amp;qget=v&amp;nget=vt\" title=\"2_Samuel 1:3\" sec=\"2_Samuel 1:3\"></a>וַיֹּ֤אמֶר לֹו֙ <span  class=\"hl\" >דָּוִ֔ד </span>אֵ֥י מִזֶּ֖ה תָּבֹ֑וא וַיֹּ֣אמֶר אֵלָ֔יו מִמַּחֲנֵ֥ה יִשְׂרָאֵ֖ל נִמְלָֽטְתִּי׃ </span></td><td class=\"tf\"><span class=\"hb\"><span  class=\"hl\" >דָּוִ֔ד </span></span></td></tr>\n",
       "<tr class=\"tf\"><td class=\"tf\">5</td><td class=\"tf\"> <a href=\"https://shebanq.ancient-data.org/hebrew/text?book=Samuel_II&amp;chapter=1&amp;verse=4&amp;version=c&amp;mr=m&amp;qw=q&amp;tp=txt_p&amp;tr=hb&amp;wget=v&amp;qget=v&amp;nget=vt\" title=\"show this passage in SHEBANQ\" sec=\"2_Samuel 1:4\">2_Samuel 1:4</a></td><td class=\"tf\"><span class=\"hb\"><a class=\"vn\" href=\"https://shebanq.ancient-data.org/hebrew/text?book=Samuel_II&amp;chapter=1&amp;verse=4&amp;version=c&amp;mr=m&amp;qw=q&amp;tp=txt_p&amp;tr=hb&amp;wget=v&amp;qget=v&amp;nget=vt\" title=\"2_Samuel 1:4\" sec=\"2_Samuel 1:4\"></a>וַיֹּ֨אמֶר אֵלָ֥יו <span  class=\"hl\" >דָּוִ֛ד </span>מֶה־הָיָ֥ה הַדָּבָ֖ר הַגֶּד־נָ֣א לִ֑י וַ֠יֹּאמֶר אֲשֶׁר־נָ֨ס הָעָ֜ם מִן־הַמִּלְחָמָ֗ה וְגַם־הַרְבֵּ֞ה נָפַ֤ל מִן־הָעָם֙ וַיָּמֻ֔תוּ וְגַ֗ם שָׁא֛וּל וִיהֹונָתָ֥ן בְּנֹ֖ו מֵֽתוּ׃ </span></td><td class=\"tf\"><span class=\"hb\"><span  class=\"hl\" >דָּוִ֛ד </span></span></td></tr>\n",
       "<tr class=\"tf\"><td class=\"tf\">6</td><td class=\"tf\"> <a href=\"https://shebanq.ancient-data.org/hebrew/text?book=Samuel_II&amp;chapter=1&amp;verse=5&amp;version=c&amp;mr=m&amp;qw=q&amp;tp=txt_p&amp;tr=hb&amp;wget=v&amp;qget=v&amp;nget=vt\" title=\"show this passage in SHEBANQ\" sec=\"2_Samuel 1:5\">2_Samuel 1:5</a></td><td class=\"tf\"><span class=\"hb\"><a class=\"vn\" href=\"https://shebanq.ancient-data.org/hebrew/text?book=Samuel_II&amp;chapter=1&amp;verse=5&amp;version=c&amp;mr=m&amp;qw=q&amp;tp=txt_p&amp;tr=hb&amp;wget=v&amp;qget=v&amp;nget=vt\" title=\"2_Samuel 1:5\" sec=\"2_Samuel 1:5\"></a>וַיֹּ֣אמֶר <span  class=\"hl\" >דָּוִ֔ד </span>אֶל־הַנַּ֖עַר הַמַּגִּ֣יד לֹ֑ו אֵ֣יךְ יָדַ֔עְתָּ כִּי־מֵ֥ת שָׁא֖וּל וִיהֹֽונָתָ֥ן בְּנֹֽו׃ </span></td><td class=\"tf\"><span class=\"hb\"><span  class=\"hl\" >דָּוִ֔ד </span></span></td></tr>\n",
       "<tr class=\"tf\"><td class=\"tf\">7</td><td class=\"tf\"> <a href=\"https://shebanq.ancient-data.org/hebrew/text?book=Samuel_II&amp;chapter=1&amp;verse=11&amp;version=c&amp;mr=m&amp;qw=q&amp;tp=txt_p&amp;tr=hb&amp;wget=v&amp;qget=v&amp;nget=vt\" title=\"show this passage in SHEBANQ\" sec=\"2_Samuel 1:11\">2_Samuel 1:11</a></td><td class=\"tf\"><span class=\"hb\"><a class=\"vn\" href=\"https://shebanq.ancient-data.org/hebrew/text?book=Samuel_II&amp;chapter=1&amp;verse=11&amp;version=c&amp;mr=m&amp;qw=q&amp;tp=txt_p&amp;tr=hb&amp;wget=v&amp;qget=v&amp;nget=vt\" title=\"2_Samuel 1:11\" sec=\"2_Samuel 1:11\"></a>וַיַּחֲזֵ֥ק <span  class=\"hl\" >דָּוִ֛ד </span>בִּבְגָדָ֖יו וַיִּקְרָעֵ֑ם וְגַ֥ם כָּל־הָאֲנָשִׁ֖ים אֲשֶׁ֥ר אִתֹּֽו׃ </span></td><td class=\"tf\"><span class=\"hb\"><span  class=\"hl\" >דָּוִ֛ד </span></span></td></tr>\n",
       "<tr class=\"tf\"><td class=\"tf\">8</td><td class=\"tf\"> <a href=\"https://shebanq.ancient-data.org/hebrew/text?book=Samuel_II&amp;chapter=1&amp;verse=13&amp;version=c&amp;mr=m&amp;qw=q&amp;tp=txt_p&amp;tr=hb&amp;wget=v&amp;qget=v&amp;nget=vt\" title=\"show this passage in SHEBANQ\" sec=\"2_Samuel 1:13\">2_Samuel 1:13</a></td><td class=\"tf\"><span class=\"hb\"><a class=\"vn\" href=\"https://shebanq.ancient-data.org/hebrew/text?book=Samuel_II&amp;chapter=1&amp;verse=13&amp;version=c&amp;mr=m&amp;qw=q&amp;tp=txt_p&amp;tr=hb&amp;wget=v&amp;qget=v&amp;nget=vt\" title=\"2_Samuel 1:13\" sec=\"2_Samuel 1:13\"></a>וַיֹּ֣אמֶר <span  class=\"hl\" >דָּוִ֗ד </span>אֶל־הַנַּ֨עַר֙ הַמַּגִּ֣יד לֹ֔ו אֵ֥י מִזֶּ֖ה אָ֑תָּה וַיֹּ֕אמֶר בֶּן־אִ֛ישׁ גֵּ֥ר עֲמָלֵקִ֖י אָנֹֽכִי׃ </span></td><td class=\"tf\"><span class=\"hb\"><span  class=\"hl\" >דָּוִ֗ד </span></span></td></tr>\n",
       "<tr class=\"tf\"><td class=\"tf\">9</td><td class=\"tf\"> <a href=\"https://shebanq.ancient-data.org/hebrew/text?book=Samuel_II&amp;chapter=1&amp;verse=14&amp;version=c&amp;mr=m&amp;qw=q&amp;tp=txt_p&amp;tr=hb&amp;wget=v&amp;qget=v&amp;nget=vt\" title=\"show this passage in SHEBANQ\" sec=\"2_Samuel 1:14\">2_Samuel 1:14</a></td><td class=\"tf\"><span class=\"hb\"><a class=\"vn\" href=\"https://shebanq.ancient-data.org/hebrew/text?book=Samuel_II&amp;chapter=1&amp;verse=14&amp;version=c&amp;mr=m&amp;qw=q&amp;tp=txt_p&amp;tr=hb&amp;wget=v&amp;qget=v&amp;nget=vt\" title=\"2_Samuel 1:14\" sec=\"2_Samuel 1:14\"></a>וַיֹּ֥אמֶר אֵלָ֖יו <span  class=\"hl\" >דָּוִ֑ד </span>אֵ֚יךְ לֹ֣א יָרֵ֔אתָ לִשְׁלֹ֨חַ֙ יָֽדְךָ֔ לְשַׁחֵ֖ת אֶת־מְשִׁ֥יחַ יְהוָֽה׃ </span></td><td class=\"tf\"><span class=\"hb\"><span  class=\"hl\" >דָּוִ֑ד </span></span></td></tr></table>"
      ],
      "text/plain": [
       "<IPython.core.display.HTML object>"
      ]
     },
     "metadata": {},
     "output_type": "display_data"
    }
   ],
   "source": [
    "DavidSearch = '''\n",
    "verse book=Samuel_II chapter=1|2|3|4|5\n",
    "    word lex=DWD==/\n",
    "'''\n",
    "DavidSearchFindings  = A.search(DavidSearch)\n",
    "A.table(DavidSearchFindings, start=1, end=9, condensed=False)\n",
    "    "
   ]
  },
  {
   "cell_type": "code",
   "execution_count": null,
   "metadata": {},
   "outputs": [],
   "source": []
  }
 ],
 "metadata": {
  "kernelspec": {
   "display_name": "Python 3",
   "language": "python",
   "name": "python3"
  },
  "language_info": {
   "codemirror_mode": {
    "name": "ipython",
    "version": 3
   },
   "file_extension": ".py",
   "mimetype": "text/x-python",
   "name": "python",
   "nbconvert_exporter": "python",
   "pygments_lexer": "ipython3",
   "version": "3.8.3"
  },
  "toc": {
   "base_numbering": 1,
   "nav_menu": {},
   "number_sections": true,
   "sideBar": true,
   "skip_h1_title": false,
   "title_cell": "Table of Contents",
   "title_sidebar": "Contents",
   "toc_cell": false,
   "toc_position": {
    "height": "calc(100% - 180px)",
    "left": "10px",
    "top": "150px",
    "width": "165px"
   },
   "toc_section_display": true,
   "toc_window_display": true
  }
 },
 "nbformat": 4,
 "nbformat_minor": 2
}
